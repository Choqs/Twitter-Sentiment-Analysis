{
 "cells": [
  {
   "cell_type": "markdown",
   "metadata": {
    "colab_type": "text",
    "id": "mtC_7VG_oYxQ"
   },
   "source": [
    "# **Classification de tweets basée sur le transfert learning**"
   ]
  },
  {
   "cell_type": "markdown",
   "metadata": {
    "colab_type": "text",
    "id": "dQJ31C3-a3fs"
   },
   "source": [
    "# Imports Packages"
   ]
  },
  {
   "cell_type": "code",
   "execution_count": 2,
   "metadata": {
    "colab": {
     "base_uri": "https://localhost:8080/",
     "height": 1000
    },
    "colab_type": "code",
    "id": "swgB-yTgoR9R",
    "outputId": "20d1a98d-57ef-4ce1-b72c-47b08568504b"
   },
   "outputs": [],
   "source": [
    "# Miscelaneous\n",
    "import os\n",
    "import sys\n",
    "import re\n",
    "import emoji\n",
    "from string import punctuation\n",
    "from unidecode import unidecode\n",
    "import pandas as pd\n",
    "import numpy as np\n",
    "import matplotlib.pyplot as plt\n",
    "\n",
    "# Nltk\n",
    "import nltk\n",
    "from nltk.corpus import stopwords\n",
    "from nltk.tokenize import TweetTokenizer\n",
    "from nltk.stem import WordNetLemmatizer\n",
    "#nltk.download('stopwords')\n",
    "\n",
    "# Keras\n",
    "from keras import optimizers\n",
    "from keras.preprocessing.text import Tokenizer\n",
    "from keras.preprocessing.sequence import pad_sequences\n",
    "from keras.layers.embeddings import Embedding\n",
    "from keras.layers import (Dense,\n",
    "                          Flatten,\n",
    "                          LSTM,\n",
    "                          GRU,\n",
    "                          Dropout,\n",
    "                          Input)\n",
    "from keras.models import Sequential, Model, load_model\n",
    "from keras.callbacks import EarlyStopping, ReduceLROnPlateau, LearningRateScheduler\n",
    "from keras import backend as B\n",
    "\n",
    "# SKLearn\n",
    "from sklearn.model_selection import train_test_split, StratifiedKFold\n",
    "from sklearn.metrics import confusion_matrix, accuracy_score, balanced_accuracy_score\n",
    "from sklearn.utils import shuffle\n",
    "\n",
    "# Gensim\n",
    "from gensim.models import KeyedVectors\n",
    "\n",
    "# Mac Bug\n",
    "import os\n",
    "os.environ['KMP_DUPLICATE_LIB_OK'] = 'True'"
   ]
  },
  {
   "cell_type": "markdown",
   "metadata": {
    "colab_type": "text",
    "id": "uviIvQDzbGFU"
   },
   "source": [
    "# Load Data"
   ]
  },
  {
   "cell_type": "code",
   "execution_count": 28,
   "metadata": {
    "colab": {
     "base_uri": "https://localhost:8080/",
     "height": 34
    },
    "colab_type": "code",
    "id": "mZZMTzreoU-e",
    "outputId": "2cdbdde2-3cd0-427d-e36f-c22e887e877d"
   },
   "outputs": [],
   "source": [
    "path = '../data/'\n",
    "path_test = '../test/'\n",
    "word2vec_path = path + 'GoogleNews-vectors-negative300.bin'\n",
    "\n",
    "train_3_path = path + 'data_train_3.csv'\n",
    "test_3_path = path + 'data_test_3.csv'\n",
    "\n",
    "train_7_path = path + 'data_train_7.csv'\n",
    "train_7_2_path = path + 'data_train_7_2.csv'\n",
    "test_7_path = path + 'data_test_7.csv'"
   ]
  },
  {
   "cell_type": "code",
   "execution_count": 4,
   "metadata": {
    "colab": {
     "base_uri": "https://localhost:8080/",
     "height": 221
    },
    "colab_type": "code",
    "id": "X-NYAZ50puSd",
    "outputId": "149b023a-e516-4984-81db-302e21ae1db7"
   },
   "outputs": [
    {
     "data": {
      "text/html": [
       "<div>\n",
       "<style scoped>\n",
       "    .dataframe tbody tr th:only-of-type {\n",
       "        vertical-align: middle;\n",
       "    }\n",
       "\n",
       "    .dataframe tbody tr th {\n",
       "        vertical-align: top;\n",
       "    }\n",
       "\n",
       "    .dataframe thead th {\n",
       "        text-align: right;\n",
       "    }\n",
       "</style>\n",
       "<table border=\"1\" class=\"dataframe\">\n",
       "  <thead>\n",
       "    <tr style=\"text-align: right;\">\n",
       "      <th></th>\n",
       "      <th>id</th>\n",
       "      <th>class</th>\n",
       "      <th>text</th>\n",
       "    </tr>\n",
       "  </thead>\n",
       "  <tbody>\n",
       "    <tr>\n",
       "      <th>0</th>\n",
       "      <td>260097528899452929</td>\n",
       "      <td>0</td>\n",
       "      <td>Won the match #getin . Plus\\u002c tomorrow is ...</td>\n",
       "    </tr>\n",
       "    <tr>\n",
       "      <th>1</th>\n",
       "      <td>263791921753882624</td>\n",
       "      <td>0</td>\n",
       "      <td>Some areas of New England could see the first ...</td>\n",
       "    </tr>\n",
       "    <tr>\n",
       "      <th>2</th>\n",
       "      <td>264194578381410304</td>\n",
       "      <td>-1</td>\n",
       "      <td>@francesco_con40 2nd worst QB. DEFINITELY Tony...</td>\n",
       "    </tr>\n",
       "    <tr>\n",
       "      <th>3</th>\n",
       "      <td>264041328420204544</td>\n",
       "      <td>0</td>\n",
       "      <td>#Thailand Washington - US President Barack Oba...</td>\n",
       "    </tr>\n",
       "    <tr>\n",
       "      <th>4</th>\n",
       "      <td>263816256640126976</td>\n",
       "      <td>0</td>\n",
       "      <td>Did y\\u2019all hear what Tony Romo dressed up ...</td>\n",
       "    </tr>\n",
       "  </tbody>\n",
       "</table>\n",
       "</div>"
      ],
      "text/plain": [
       "                   id  class  \\\n",
       "0  260097528899452929      0   \n",
       "1  263791921753882624      0   \n",
       "2  264194578381410304     -1   \n",
       "3  264041328420204544      0   \n",
       "4  263816256640126976      0   \n",
       "\n",
       "                                                text  \n",
       "0  Won the match #getin . Plus\\u002c tomorrow is ...  \n",
       "1  Some areas of New England could see the first ...  \n",
       "2  @francesco_con40 2nd worst QB. DEFINITELY Tony...  \n",
       "3  #Thailand Washington - US President Barack Oba...  \n",
       "4  Did y\\u2019all hear what Tony Romo dressed up ...  "
      ]
     },
     "metadata": {},
     "output_type": "display_data"
    },
    {
     "name": "stdout",
     "output_type": "stream",
     "text": [
      "(50333, 3)\n"
     ]
    }
   ],
   "source": [
    "# Loading Data Set 3 Classes & Replacing Word 2 Int\n",
    "train_3_data = pd.read_csv(train_3_path, encoding='utf-8', sep='\\t', names=['id', 'class', 'text'])\n",
    "conv_dict = {'neutral': 0, 'positive': 1, 'negative': -1}\n",
    "train_3_data['class'] = train_3_data['class'].apply(lambda x: conv_dict[x])\n",
    "display(train_3_data.head())\n",
    "print(train_3_data.shape)"
   ]
  },
  {
   "cell_type": "code",
   "execution_count": 5,
   "metadata": {
    "colab": {
     "base_uri": "https://localhost:8080/",
     "height": 221
    },
    "colab_type": "code",
    "id": "OAiOSjrLUZXt",
    "outputId": "cadbd7c3-b384-411d-eec4-9238dc458b3a"
   },
   "outputs": [
    {
     "data": {
      "text/html": [
       "<div>\n",
       "<style scoped>\n",
       "    .dataframe tbody tr th:only-of-type {\n",
       "        vertical-align: middle;\n",
       "    }\n",
       "\n",
       "    .dataframe tbody tr th {\n",
       "        vertical-align: top;\n",
       "    }\n",
       "\n",
       "    .dataframe thead th {\n",
       "        text-align: right;\n",
       "    }\n",
       "</style>\n",
       "<table border=\"1\" class=\"dataframe\">\n",
       "  <thead>\n",
       "    <tr style=\"text-align: right;\">\n",
       "      <th></th>\n",
       "      <th>id</th>\n",
       "      <th>class</th>\n",
       "      <th>text</th>\n",
       "    </tr>\n",
       "  </thead>\n",
       "  <tbody>\n",
       "    <tr>\n",
       "      <th>0</th>\n",
       "      <td>264221473558917120</td>\n",
       "      <td>0</td>\n",
       "      <td>Manchester United will try to return to winnin...</td>\n",
       "    </tr>\n",
       "    <tr>\n",
       "      <th>1</th>\n",
       "      <td>264091690632105984</td>\n",
       "      <td>0</td>\n",
       "      <td>Going to a bulls game with Aaliyah &amp; hope next...</td>\n",
       "    </tr>\n",
       "    <tr>\n",
       "      <th>2</th>\n",
       "      <td>263929564907069441</td>\n",
       "      <td>0</td>\n",
       "      <td>Any Toon Fans with a spare ticket for Anfield ...</td>\n",
       "    </tr>\n",
       "    <tr>\n",
       "      <th>3</th>\n",
       "      <td>263759328782204928</td>\n",
       "      <td>1</td>\n",
       "      <td>Louis inspired outfit on Monday and Zayn inspi...</td>\n",
       "    </tr>\n",
       "    <tr>\n",
       "      <th>4</th>\n",
       "      <td>259546192722161664</td>\n",
       "      <td>0</td>\n",
       "      <td>going to bed now...Rose parade then game tomorrow</td>\n",
       "    </tr>\n",
       "  </tbody>\n",
       "</table>\n",
       "</div>"
      ],
      "text/plain": [
       "                   id  class  \\\n",
       "0  264221473558917120      0   \n",
       "1  264091690632105984      0   \n",
       "2  263929564907069441      0   \n",
       "3  263759328782204928      1   \n",
       "4  259546192722161664      0   \n",
       "\n",
       "                                                text  \n",
       "0  Manchester United will try to return to winnin...  \n",
       "1  Going to a bulls game with Aaliyah & hope next...  \n",
       "2  Any Toon Fans with a spare ticket for Anfield ...  \n",
       "3  Louis inspired outfit on Monday and Zayn inspi...  \n",
       "4  going to bed now...Rose parade then game tomorrow  "
      ]
     },
     "metadata": {},
     "output_type": "display_data"
    },
    {
     "name": "stdout",
     "output_type": "stream",
     "text": [
      "(1020, 3)\n"
     ]
    }
   ],
   "source": [
    "test_3_data = pd.read_csv(test_3_path, encoding='utf-8', sep='\\t', names=['id', 'class', 'text'])\n",
    "conv_dict = {'neutral': 0, 'positive': 1, 'negative': -1}\n",
    "test_3_data['class'] = test_3_data['class'].apply(lambda x: conv_dict[x])\n",
    "display(test_3_data.head())\n",
    "print(test_3_data.shape)"
   ]
  },
  {
   "cell_type": "code",
   "execution_count": 6,
   "metadata": {
    "colab": {
     "base_uri": "https://localhost:8080/",
     "height": 221
    },
    "colab_type": "code",
    "id": "R97ya871puy9",
    "outputId": "c4b21b34-5df9-4aac-bb7c-7841903309ac"
   },
   "outputs": [
    {
     "data": {
      "text/html": [
       "<div>\n",
       "<style scoped>\n",
       "    .dataframe tbody tr th:only-of-type {\n",
       "        vertical-align: middle;\n",
       "    }\n",
       "\n",
       "    .dataframe tbody tr th {\n",
       "        vertical-align: top;\n",
       "    }\n",
       "\n",
       "    .dataframe thead th {\n",
       "        text-align: right;\n",
       "    }\n",
       "</style>\n",
       "<table border=\"1\" class=\"dataframe\">\n",
       "  <thead>\n",
       "    <tr style=\"text-align: right;\">\n",
       "      <th></th>\n",
       "      <th>id</th>\n",
       "      <th>class</th>\n",
       "      <th>text</th>\n",
       "    </tr>\n",
       "  </thead>\n",
       "  <tbody>\n",
       "    <tr>\n",
       "      <th>0</th>\n",
       "      <td>0</td>\n",
       "      <td>0</td>\n",
       "      <td>@liamch88 yeah! :) playing well</td>\n",
       "    </tr>\n",
       "    <tr>\n",
       "      <th>1</th>\n",
       "      <td>1</td>\n",
       "      <td>0</td>\n",
       "      <td>At least I don't have a guy trying to discoura...</td>\n",
       "    </tr>\n",
       "    <tr>\n",
       "      <th>2</th>\n",
       "      <td>2</td>\n",
       "      <td>0</td>\n",
       "      <td>UPLIFT: If you're still discouraged it means y...</td>\n",
       "    </tr>\n",
       "    <tr>\n",
       "      <th>3</th>\n",
       "      <td>3</td>\n",
       "      <td>0</td>\n",
       "      <td>...at your age, the heyday in the blood is tam...</td>\n",
       "    </tr>\n",
       "    <tr>\n",
       "      <th>4</th>\n",
       "      <td>4</td>\n",
       "      <td>-2</td>\n",
       "      <td>i was so embarrassed when she saw us i was lik...</td>\n",
       "    </tr>\n",
       "  </tbody>\n",
       "</table>\n",
       "</div>"
      ],
      "text/plain": [
       "   id  class                                               text\n",
       "0   0      0                   @liamch88 yeah! :) playing well \n",
       "1   1      0  At least I don't have a guy trying to discoura...\n",
       "2   2      0  UPLIFT: If you're still discouraged it means y...\n",
       "3   3      0  ...at your age, the heyday in the blood is tam...\n",
       "4   4     -2  i was so embarrassed when she saw us i was lik..."
      ]
     },
     "metadata": {},
     "output_type": "display_data"
    },
    {
     "name": "stdout",
     "output_type": "stream",
     "text": [
      "(1630, 3)\n"
     ]
    }
   ],
   "source": [
    "# Loading Data Set 7 Classes\n",
    "train_7_data = pd.read_csv(train_7_path, encoding='utf-8', sep='\\t', names=['id', 'class', 'text'])\n",
    "display(train_7_data.head())\n",
    "print(train_7_data.shape)"
   ]
  },
  {
   "cell_type": "code",
   "execution_count": 7,
   "metadata": {},
   "outputs": [
    {
     "data": {
      "text/html": [
       "<div>\n",
       "<style scoped>\n",
       "    .dataframe tbody tr th:only-of-type {\n",
       "        vertical-align: middle;\n",
       "    }\n",
       "\n",
       "    .dataframe tbody tr th {\n",
       "        vertical-align: top;\n",
       "    }\n",
       "\n",
       "    .dataframe thead th {\n",
       "        text-align: right;\n",
       "    }\n",
       "</style>\n",
       "<table border=\"1\" class=\"dataframe\">\n",
       "  <thead>\n",
       "    <tr style=\"text-align: right;\">\n",
       "      <th></th>\n",
       "      <th>id</th>\n",
       "      <th>text</th>\n",
       "      <th>class</th>\n",
       "    </tr>\n",
       "  </thead>\n",
       "  <tbody>\n",
       "    <tr>\n",
       "      <th>0</th>\n",
       "      <td>2018-En-02354</td>\n",
       "      <td>So @Ryanair site crashes everytime I try to bo...</td>\n",
       "      <td>-3</td>\n",
       "    </tr>\n",
       "    <tr>\n",
       "      <th>1</th>\n",
       "      <td>2018-En-00124</td>\n",
       "      <td>Theme of week: Ask the Lord for strength &amp;amp;...</td>\n",
       "      <td>-2</td>\n",
       "    </tr>\n",
       "    <tr>\n",
       "      <th>2</th>\n",
       "      <td>2018-En-02603</td>\n",
       "      <td>@F1 Why announcing so late, it will be hard to...</td>\n",
       "      <td>-3</td>\n",
       "    </tr>\n",
       "    <tr>\n",
       "      <th>3</th>\n",
       "      <td>2018-En-00450</td>\n",
       "      <td>The greatest happiness is seeing someone you l...</td>\n",
       "      <td>3</td>\n",
       "    </tr>\n",
       "    <tr>\n",
       "      <th>4</th>\n",
       "      <td>2018-En-00502</td>\n",
       "      <td>omg so grateful to have an education but ive b...</td>\n",
       "      <td>1</td>\n",
       "    </tr>\n",
       "  </tbody>\n",
       "</table>\n",
       "</div>"
      ],
      "text/plain": [
       "              id                                               text  class\n",
       "0  2018-En-02354  So @Ryanair site crashes everytime I try to bo...     -3\n",
       "1  2018-En-00124  Theme of week: Ask the Lord for strength &amp;...     -2\n",
       "2  2018-En-02603  @F1 Why announcing so late, it will be hard to...     -3\n",
       "3  2018-En-00450  The greatest happiness is seeing someone you l...      3\n",
       "4  2018-En-00502  omg so grateful to have an education but ive b...      1"
      ]
     },
     "metadata": {},
     "output_type": "display_data"
    },
    {
     "name": "stdout",
     "output_type": "stream",
     "text": [
      "(449, 3)\n"
     ]
    }
   ],
   "source": [
    "# Loading Data Set 7 Classes\n",
    "train_7_2_data = pd.read_csv(train_7_2_path, encoding='utf-8', sep='\\t')\n",
    "train_7_2_data = train_7_2_data.rename(columns={\"Tweet\": \"text\", \"Intensity Class\": \"class\", \"ID\": \"id\"})\n",
    "train_7_2_data.drop('Affect Dimension', axis=1, inplace=True)\n",
    "train_7_2_data['class'] = train_7_2_data['class'].apply(lambda x: int(x.split(':')[0]))\n",
    "display(train_7_2_data.head())\n",
    "print(train_7_2_data.shape)"
   ]
  },
  {
   "cell_type": "code",
   "execution_count": 8,
   "metadata": {},
   "outputs": [
    {
     "name": "stderr",
     "output_type": "stream",
     "text": [
      "/home/vincent/.local/lib/python3.7/site-packages/pandas/core/frame.py:7138: FutureWarning: Sorting because non-concatenation axis is not aligned. A future version\n",
      "of pandas will change to not sort by default.\n",
      "\n",
      "To accept the future behavior, pass 'sort=False'.\n",
      "\n",
      "To retain the current behavior and silence the warning, pass 'sort=True'.\n",
      "\n",
      "  sort=sort,\n"
     ]
    },
    {
     "data": {
      "text/html": [
       "<div>\n",
       "<style scoped>\n",
       "    .dataframe tbody tr th:only-of-type {\n",
       "        vertical-align: middle;\n",
       "    }\n",
       "\n",
       "    .dataframe tbody tr th {\n",
       "        vertical-align: top;\n",
       "    }\n",
       "\n",
       "    .dataframe thead th {\n",
       "        text-align: right;\n",
       "    }\n",
       "</style>\n",
       "<table border=\"1\" class=\"dataframe\">\n",
       "  <thead>\n",
       "    <tr style=\"text-align: right;\">\n",
       "      <th></th>\n",
       "      <th>class</th>\n",
       "      <th>id</th>\n",
       "      <th>text</th>\n",
       "    </tr>\n",
       "  </thead>\n",
       "  <tbody>\n",
       "    <tr>\n",
       "      <th>0</th>\n",
       "      <td>0</td>\n",
       "      <td>0</td>\n",
       "      <td>@liamch88 yeah! :) playing well</td>\n",
       "    </tr>\n",
       "    <tr>\n",
       "      <th>1</th>\n",
       "      <td>0</td>\n",
       "      <td>1</td>\n",
       "      <td>At least I don't have a guy trying to discoura...</td>\n",
       "    </tr>\n",
       "    <tr>\n",
       "      <th>2</th>\n",
       "      <td>0</td>\n",
       "      <td>2</td>\n",
       "      <td>UPLIFT: If you're still discouraged it means y...</td>\n",
       "    </tr>\n",
       "    <tr>\n",
       "      <th>3</th>\n",
       "      <td>0</td>\n",
       "      <td>3</td>\n",
       "      <td>...at your age, the heyday in the blood is tam...</td>\n",
       "    </tr>\n",
       "    <tr>\n",
       "      <th>4</th>\n",
       "      <td>-2</td>\n",
       "      <td>4</td>\n",
       "      <td>i was so embarrassed when she saw us i was lik...</td>\n",
       "    </tr>\n",
       "  </tbody>\n",
       "</table>\n",
       "</div>"
      ],
      "text/plain": [
       "   class id                                               text\n",
       "0      0  0                   @liamch88 yeah! :) playing well \n",
       "1      0  1  At least I don't have a guy trying to discoura...\n",
       "2      0  2  UPLIFT: If you're still discouraged it means y...\n",
       "3      0  3  ...at your age, the heyday in the blood is tam...\n",
       "4     -2  4  i was so embarrassed when she saw us i was lik..."
      ]
     },
     "metadata": {},
     "output_type": "display_data"
    },
    {
     "name": "stdout",
     "output_type": "stream",
     "text": [
      "(2079, 3)\n"
     ]
    }
   ],
   "source": [
    "train_7_data = train_7_data.append(train_7_2_data)\n",
    "display(train_7_data.head())\n",
    "print(train_7_data.shape)"
   ]
  },
  {
   "cell_type": "markdown",
   "metadata": {
    "colab_type": "text",
    "id": "W_s09wu8bWjt"
   },
   "source": [
    "# Preprocessing"
   ]
  },
  {
   "cell_type": "code",
   "execution_count": 9,
   "metadata": {
    "colab": {},
    "colab_type": "code",
    "id": "NZjPjPnIE6DF"
   },
   "outputs": [],
   "source": [
    "smileys = {\n",
    "  \":‑)\": \"smiley\",\n",
    "  \":-]\": \"smiley\",\n",
    "  \":-3\": \"smiley\",\n",
    "  \":->\": \"smiley\",\n",
    "  \"8-)\": \"smiley\",\n",
    "  \":-}\": \"smiley\",\n",
    "  \":)\": \"smiley\",\n",
    "  \":]\": \"smiley\",\n",
    "  \":3\": \"smiley\",\n",
    "  \":>\": \"smiley\",\n",
    "  \"8)\": \"smiley\",\n",
    "  \":}\": \"smiley\",\n",
    "  \":o)\": \"smiley\",\n",
    "  \":c)\": \"smiley\",\n",
    "  \":^)\": \"smiley\",\n",
    "  \"=]\": \"smiley\",\n",
    "  \"=)\": \"smiley\",\n",
    "  \":-))\": \"smiley\",\n",
    "  \":‑D\": \"smiley\",\n",
    "  \"8‑D\": \"smiley\",\n",
    "  \"x‑D\": \"smiley\",\n",
    "  \"X‑D\": \"smiley\",\n",
    "  \":D\": \"smiley\",\n",
    "  \"8D\": \"smiley\",\n",
    "  \"xD\": \"smiley\",\n",
    "  \"XD\": \"smiley\",\n",
    "  \">:D\": \"smiley\",\n",
    "  \":‑(\": \"sad\",\n",
    "  \":‑c\": \"sad\",\n",
    "  \":‑<\": \"sad\",\n",
    "  \":‑[\": \"sad\",\n",
    "  \":(\": \"sad\",\n",
    "  \":c\": \"sad\",\n",
    "  \":<\": \"sad\",\n",
    "  \":[\": \"sad\",\n",
    "  \":-||\": \"sad\",\n",
    "  \">:[\": \"sad\",\n",
    "  \":{\": \"sad\",\n",
    "  \":@\": \"sad\",\n",
    "  \">:(\": \"sad\",\n",
    "  \":'‑(\": \"sad\",\n",
    "  \":'(\": \"sad\",\n",
    "  \":‑P\": \"playful\",\n",
    "  \"X‑P\": \"playful\",\n",
    "  \"x‑p\": \"playful\",\n",
    "  \":‑p\": \"playful\",\n",
    "  \":‑Þ\": \"playful\",\n",
    "  \":‑þ\": \"playful\",\n",
    "  \":‑b\": \"playful\",\n",
    "  \":P\": \"playful\",\n",
    "  \"XP\": \"playful\",\n",
    "  \"xp\": \"playful\",\n",
    "  \":p\": \"playful\",\n",
    "  \":Þ\": \"playful\",\n",
    "  \":þ\": \"playful\",\n",
    "  \":b\": \"playful\",\n",
    "  \"<3\": \"love\"\n",
    "}\n",
    "\n",
    "contractions = {\n",
    "  \"ain't\": \"is not\",\n",
    "  \"amn't\": \"am not\",\n",
    "  \"aren't\": \"are not\",\n",
    "  \"can't\": \"cannot\",\n",
    "  \"'cause\": \"because\",\n",
    "  \"couldn't\": \"could not\",\n",
    "  \"couldn't've\": \"could not have\",\n",
    "  \"could've\": \"could have\",\n",
    "  \"daren't\": \"dare not\",\n",
    "  \"daresn't\": \"dare not\",\n",
    "  \"dasn't\": \"dare not\",\n",
    "  \"didn't\": \"did not\",\n",
    "  \"doesn't\": \"does not\",\n",
    "  \"don't\": \"do not\",\n",
    "  \"e'er\": \"ever\",\n",
    "  \"em\": \"them\",\n",
    "  \"everyone's\": \"everyone is\",\n",
    "  \"finna\": \"fixing to\",\n",
    "  \"gimme\": \"give me\",\n",
    "  \"gonna\": \"going to\",\n",
    "  \"gon't\": \"go not\",\n",
    "  \"gotta\": \"got to\",\n",
    "  \"hadn't\": \"had not\",\n",
    "  \"hasn't\": \"has not\",\n",
    "  \"haven't\": \"have not\",\n",
    "  \"he'd\": \"he would\",\n",
    "  \"he'll\": \"he will\",\n",
    "  \"he's\": \"he is\",\n",
    "  \"he've\": \"he have\",\n",
    "  \"how'd\": \"how would\",\n",
    "  \"how'll\": \"how will\",\n",
    "  \"how're\": \"how are\",\n",
    "  \"how's\": \"how is\",\n",
    "  \"I'd\": \"I would\",\n",
    "  \"I'll\": \"I will\",\n",
    "  \"I'm\": \"I am\",\n",
    "  \"I'm'a\": \"I am about to\",\n",
    "  \"I'm'o\": \"I am going to\",\n",
    "  \"isn't\": \"is not\",\n",
    "  \"it'd\": \"it would\",\n",
    "  \"it'll\": \"it will\",\n",
    "  \"it's\": \"it is\",\n",
    "  \"I've\": \"I have\",\n",
    "  \"kinda\": \"kind of\",\n",
    "  \"let's\": \"let us\",\n",
    "  \"mayn't\": \"may not\",\n",
    "  \"may've\": \"may have\",\n",
    "  \"mightn't\": \"might not\",\n",
    "  \"might've\": \"might have\",\n",
    "  \"mustn't\": \"must not\",\n",
    "  \"mustn't've\": \"must not have\",\n",
    "  \"must've\": \"must have\",\n",
    "  \"needn't\": \"need not\",\n",
    "  \"ne'er\": \"never\",\n",
    "  \"o'\": \"of\",\n",
    "  \"o'er\": \"over\",\n",
    "  \"ol'\": \"old\",\n",
    "  \"oughtn't\": \"ought not\",\n",
    "  \"shalln't\": \"shall not\",\n",
    "  \"shan't\": \"shall not\",\n",
    "  \"she'd\": \"she would\",\n",
    "  \"she'll\": \"she will\",\n",
    "  \"she's\": \"she is\",\n",
    "  \"shouldn't\": \"should not\",\n",
    "  \"shouldn't've\": \"should not have\",\n",
    "  \"should've\": \"should have\",\n",
    "  \"somebody's\": \"somebody is\",\n",
    "  \"someone's\": \"someone is\",\n",
    "  \"something's\": \"something is\",\n",
    "  \"that'd\": \"that would\",\n",
    "  \"that'll\": \"that will\",\n",
    "  \"that're\": \"that are\",\n",
    "  \"that's\": \"that is\",\n",
    "  \"there'd\": \"there would\",\n",
    "  \"there'll\": \"there will\",\n",
    "  \"there're\": \"there are\",\n",
    "  \"there's\": \"there is\",\n",
    "  \"these're\": \"these are\",\n",
    "  \"they'd\": \"they would\",\n",
    "  \"they'll\": \"they will\",\n",
    "  \"they're\": \"they are\",\n",
    "  \"they've\": \"they have\",\n",
    "  \"this's\": \"this is\",\n",
    "  \"those're\": \"those are\",\n",
    "  \"'tis\": \"it is\",\n",
    "  \"'twas\": \"it was\",\n",
    "  \"wanna\": \"want to\",\n",
    "  \"wasn't\": \"was not\",\n",
    "  \"we'd\": \"we would\",\n",
    "  \"we'd've\": \"we would have\",\n",
    "  \"we'll\": \"we will\",\n",
    "  \"we're\": \"we are\",\n",
    "  \"weren't\": \"were not\",\n",
    "  \"we've\": \"we have\",\n",
    "  \"what'd\": \"what did\",\n",
    "  \"what'll\": \"what will\",\n",
    "  \"what're\": \"what are\",\n",
    "  \"what's\": \"what is\",\n",
    "  \"what've\": \"what have\",\n",
    "  \"when's\": \"when is\",\n",
    "  \"where'd\": \"where did\",\n",
    "  \"where're\": \"where are\",\n",
    "  \"where's\": \"where is\",\n",
    "  \"where've\": \"where have\",\n",
    "  \"which's\": \"which is\",\n",
    "  \"who'd\": \"who would\",\n",
    "  \"who'd've\": \"who would have\",\n",
    "  \"who'll\": \"who will\",\n",
    "  \"who're\": \"who are\",\n",
    "  \"who's\": \"who is\",\n",
    "  \"who've\": \"who have\",\n",
    "  \"why'd\": \"why did\",\n",
    "  \"why're\": \"why are\",\n",
    "  \"why's\": \"why is\",\n",
    "  \"won't\": \"will not\",\n",
    "  \"wouldn't\": \"would not\",\n",
    "  \"would've\": \"would have\",\n",
    "  \"y'all\": \"you all\",\n",
    "  \"you'd\": \"you would\",\n",
    "  \"you'll\": \"you will\",\n",
    "  \"you're\": \"you are\",\n",
    "  \"you've\": \"you have\",\n",
    "  \"Whatcha\": \"What are you\",\n",
    "  \"luv\": \"love\",\n",
    "  \"sux\": \"sucks\"\n",
    "}"
   ]
  },
  {
   "cell_type": "code",
   "execution_count": 10,
   "metadata": {
    "colab": {},
    "colab_type": "code",
    "id": "QNdFrKNeuJ9t"
   },
   "outputs": [],
   "source": [
    "tknzr = TweetTokenizer()\n",
    "notstopwords = set(('not', 'no'))\n",
    "my_stopwords = set(stopwords.words('english')) - notstopwords\n",
    "\n",
    "def standardization(tweet):\n",
    "    # Hashtag & Tag & URL & Unicode\n",
    "    tweet = re.sub(r'(\\\\u[0-9A-Fa-f]+)', ' ', tweet)\n",
    "    tweet = re.sub(r'[^\\x00-\\x7F]+', ' ', tweet)\n",
    "    tweet = re.sub(r'http\\S+', '', tweet)\n",
    "    tweet = re.sub(r\"@\\w+\", '', tweet)\n",
    "    tweet = re.sub(r\"#\\w+\", '', tweet)\n",
    "    \n",
    "    # Tokenizer\n",
    "    tknzr = TweetTokenizer()\n",
    "    tweet = tknzr.tokenize(tweet)\n",
    "    \n",
    "    # Emojis\n",
    "    tweet = [smileys[i] if i in smileys else i for i in tweet]\n",
    "    tweet = ' '.join(tweet)\n",
    "    \n",
    "    # Lower\n",
    "    tweet = tweet.lower()\n",
    "\n",
    "    # Tokenizing & Stopwords\n",
    "    tweet = tknzr.tokenize(tweet)\n",
    "    tweet = [i for i in tweet if (i not in my_stopwords) and (i not in punctuation)]\n",
    "    tweet = [contractions[i] if i in contractions else i for i in tweet]\n",
    "    \n",
    "    # Join\n",
    "    tweet = ' '.join(tweet)\n",
    "    \n",
    "    return tweet"
   ]
  },
  {
   "cell_type": "code",
   "execution_count": 11,
   "metadata": {
    "colab": {},
    "colab_type": "code",
    "id": "1QBnjNhoDyVb"
   },
   "outputs": [],
   "source": [
    "# Applying Standardization\n",
    "train_3_data['text'] = train_3_data['text'].apply(standardization)\n",
    "test_3_data['text'] = test_3_data['text'].apply(standardization)\n",
    "train_7_data['text'] = train_7_data['text'].apply(standardization)"
   ]
  },
  {
   "cell_type": "code",
   "execution_count": 12,
   "metadata": {
    "colab": {},
    "colab_type": "code",
    "id": "1cXE06yeCAN-"
   },
   "outputs": [],
   "source": [
    "# Fitting Tokenizer & Calculating Max Seq Length\n",
    "all_tweets = train_3_data['text'].append(train_7_data['text']).append(test_3_data['text'])\n",
    "MAX_SEQUENCE_LENGTH = int(all_tweets.str.len().max() * 0.75)\n",
    "tokenizer = Tokenizer(filters=' ')\n",
    "tokenizer.fit_on_texts(all_tweets)\n",
    "word_index = tokenizer.word_index"
   ]
  },
  {
   "cell_type": "code",
   "execution_count": 13,
   "metadata": {
    "colab": {},
    "colab_type": "code",
    "id": "cb2rOOWoCC8s"
   },
   "outputs": [],
   "source": [
    "# Applying Text To Sequences\n",
    "train_3_data['text'] = tokenizer.texts_to_sequences(train_3_data['text'])\n",
    "test_3_data['text'] = tokenizer.texts_to_sequences(test_3_data['text'])\n",
    "train_7_data['text'] = tokenizer.texts_to_sequences(train_7_data['text'])"
   ]
  },
  {
   "cell_type": "code",
   "execution_count": 14,
   "metadata": {
    "colab": {},
    "colab_type": "code",
    "id": "SjNLN79EJwNH"
   },
   "outputs": [],
   "source": [
    "# Applying Padding\n",
    "train_3_data['text'] = train_3_data['text'].apply(lambda x: pad_sequences([x], maxlen=MAX_SEQUENCE_LENGTH)[0])\n",
    "test_3_data['text'] = test_3_data['text'].apply(lambda x: pad_sequences([x], maxlen=MAX_SEQUENCE_LENGTH)[0])\n",
    "train_7_data['text'] = train_7_data['text'].apply(lambda x: pad_sequences([x], maxlen=MAX_SEQUENCE_LENGTH)[0])"
   ]
  },
  {
   "cell_type": "code",
   "execution_count": 15,
   "metadata": {
    "colab": {},
    "colab_type": "code",
    "id": "KmLL-3smqvDZ"
   },
   "outputs": [],
   "source": [
    "class DataGenerator:\n",
    "    def __init__(self, df, word2vec, max_size, nb_classes, batch_size):\n",
    "        self.df = df\n",
    "        self.word2vec = word2vec\n",
    "        self.max_size = max_size\n",
    "        self.nb_classes = nb_classes\n",
    "        self.data_set_size = len(df)\n",
    "        self.batch_size = batch_size\n",
    "        self.step = len(df) // batch_size + (1 if self.data_set_size % self.batch_size else 0)\n",
    "\n",
    "    def getXAt(self, index):\n",
    "        return np.array(self.df.iloc[index]['text'])\n",
    "\n",
    "    def getYAt(self, index):\n",
    "        res = np.zeros(self.nb_classes)\n",
    "        res[self.nb_classes // 2 + self.df.iloc[index]['class']] = 1\n",
    "        return res\n",
    "\n",
    "    def getWeights(self):\n",
    "        WEIGHTS = {}\n",
    "        nb_classes = []\n",
    "        for i in range(self.nb_classes):\n",
    "            nb_classes.append(self.df[self.df['class'] == (i - self.nb_classes // 2)].shape[0])\n",
    "        for i in range(self.nb_classes):\n",
    "            WEIGHTS[i] = max(nb_classes) / nb_classes[i]\n",
    "        return WEIGHTS\n",
    "\n",
    "    def getGenerator(self):\n",
    "        while True:\n",
    "            for idx in range(self.step):\n",
    "                batch_x = np.array([self.getXAt(index) for index in range(idx * self.batch_size, min((idx + 1) * self.batch_size, self.data_set_size))])\n",
    "                batch_y = np.array([self.getYAt(index) for index in range(idx * self.batch_size, min((idx + 1) * self.batch_size, self.data_set_size))])\n",
    "                yield batch_x, batch_y\n",
    "\n",
    "    def getInputGenerator(self):\n",
    "        for idx in range(self.step):\n",
    "            batch_x = [self.getXAt(index) for index in range(idx * self.batch_size, min((idx + 1) * self.batch_size, self.data_set_size))]\n",
    "            yield np.array(batch_x)"
   ]
  },
  {
   "cell_type": "code",
   "execution_count": 16,
   "metadata": {
    "colab": {
     "base_uri": "https://localhost:8080/",
     "height": 394
    },
    "colab_type": "code",
    "id": "6xvg2mzHHDRc",
    "outputId": "6d2cee6a-57a4-4f58-9205-47d70b4a13c9"
   },
   "outputs": [],
   "source": [
    "# Word2Vec\n",
    "EMBEDDING_DIM = 300\n",
    "word2vec = KeyedVectors.load_word2vec_format(word2vec_path, binary=True)"
   ]
  },
  {
   "cell_type": "code",
   "execution_count": 17,
   "metadata": {
    "colab": {},
    "colab_type": "code",
    "id": "aDELg_ItpPSh"
   },
   "outputs": [
    {
     "name": "stdout",
     "output_type": "stream",
     "text": [
      "Embedding Matrix is empty at 40.48364923035316%\n"
     ]
    }
   ],
   "source": [
    "# Default Vector\n",
    "default_vector = (np.random.rand(EMBEDDING_DIM) * 2.0) - 1\n",
    "default_vector /= np.linalg.norm(default_vector)\n",
    "\n",
    "# Number of words\n",
    "nb_words = len(word_index) + 1\n",
    "\n",
    "# Embeddings Matrix\n",
    "embedding_matrix = np.zeros((nb_words, EMBEDDING_DIM))\n",
    "cpt = 0\n",
    "for word, i in word_index.items():\n",
    "    if word in word2vec.vocab:\n",
    "        embedding_matrix[i] = word2vec.word_vec(word)\n",
    "    else:\n",
    "        embedding_matrix[i] = default_vector\n",
    "        cpt += 1\n",
    "print('Embedding Matrix is empty at {}%'.format(100 * cpt / len(embedding_matrix)))"
   ]
  },
  {
   "cell_type": "markdown",
   "metadata": {},
   "source": [
    "# Custom Metrics"
   ]
  },
  {
   "cell_type": "code",
   "execution_count": 18,
   "metadata": {},
   "outputs": [],
   "source": [
    "def distance(y_true, y_pred):\n",
    "    return B.square(B.argmax(y_true) - B.argmax(y_pred))"
   ]
  },
  {
   "cell_type": "markdown",
   "metadata": {},
   "source": [
    "# Training"
   ]
  },
  {
   "cell_type": "code",
   "execution_count": 21,
   "metadata": {
    "colab": {},
    "colab_type": "code",
    "id": "Bz0-XjH9ednT"
   },
   "outputs": [
    {
     "name": "stdout",
     "output_type": "stream",
     "text": [
      "{0: 2.8995031255008814, 1: 1.0, 2: 1.1350944343351947}\n"
     ]
    }
   ],
   "source": [
    "# Parameters\n",
    "BATCH_SIZE = 32\n",
    "LEARNING_RATE = 0.01\n",
    "EPOCHS = 32\n",
    "PATIENCE = 8\n",
    "LR_PATIENCE = 3\n",
    "train_df, val_df = train_test_split(train_3_data, test_size=0.2, random_state=1)\n",
    "TRAINING_GENERATOR = DataGenerator(train_df, word2vec, MAX_SEQUENCE_LENGTH, 3, BATCH_SIZE)\n",
    "VALIDATION_GENERATOR = DataGenerator(val_df, word2vec, MAX_SEQUENCE_LENGTH, 3, BATCH_SIZE)\n",
    "WEIGHTS = TRAINING_GENERATOR.getWeights()\n",
    "STEPS_PER_EPOCH = TRAINING_GENERATOR.step\n",
    "VALIDATION_STEPS = VALIDATION_GENERATOR.step\n",
    "print(WEIGHTS)"
   ]
  },
  {
   "cell_type": "code",
   "execution_count": 22,
   "metadata": {
    "scrolled": false
   },
   "outputs": [
    {
     "name": "stdout",
     "output_type": "stream",
     "text": [
      "Model: \"sequential_2\"\n",
      "_________________________________________________________________\n",
      "Layer (type)                 Output Shape              Param #   \n",
      "=================================================================\n",
      "embedding_layer_model_1 (Emb (None, 103, 300)          13311300  \n",
      "_________________________________________________________________\n",
      "gru_2 (GRU)                  (None, 64)                70080     \n",
      "_________________________________________________________________\n",
      "dense_1_model_1 (Dense)      (None, 128)               8320      \n",
      "_________________________________________________________________\n",
      "drop_out_1_model_1 (Dropout) (None, 128)               0         \n",
      "_________________________________________________________________\n",
      "output_layer_model_1 (Dense) (None, 3)                 387       \n",
      "=================================================================\n",
      "Total params: 13,390,087\n",
      "Trainable params: 78,787\n",
      "Non-trainable params: 13,311,300\n",
      "_________________________________________________________________\n",
      "Epoch 1/32\n",
      "1259/1259 [==============================] - 32s 25ms/step - loss: 0.8858 - accuracy: 0.5688 - distance: 0.5463 - val_loss: 0.7572 - val_accuracy: 0.6178 - val_distance: 0.5032\n",
      "Epoch 2/32\n",
      "1259/1259 [==============================] - 31s 25ms/step - loss: 0.7989 - accuracy: 0.6246 - distance: 0.4819 - val_loss: 0.7529 - val_accuracy: 0.6420 - val_distance: 0.4686\n",
      "Epoch 3/32\n",
      "1259/1259 [==============================] - 31s 25ms/step - loss: 0.7765 - accuracy: 0.6397 - distance: 0.4593 - val_loss: 0.7622 - val_accuracy: 0.6498 - val_distance: 0.4565\n",
      "Epoch 4/32\n",
      "1259/1259 [==============================] - 31s 25ms/step - loss: 0.7607 - accuracy: 0.6484 - distance: 0.4493 - val_loss: 0.7716 - val_accuracy: 0.6574 - val_distance: 0.4433\n",
      "Epoch 5/32\n",
      "1259/1259 [==============================] - 31s 25ms/step - loss: 0.7489 - accuracy: 0.6563 - distance: 0.4385 - val_loss: 0.7754 - val_accuracy: 0.6601 - val_distance: 0.4412\n",
      "Epoch 6/32\n",
      "1259/1259 [==============================] - 31s 25ms/step - loss: 0.7383 - accuracy: 0.6611 - distance: 0.4303 - val_loss: 0.7886 - val_accuracy: 0.6651 - val_distance: 0.4338\n",
      "Epoch 7/32\n",
      "1259/1259 [==============================] - 31s 25ms/step - loss: 0.7308 - accuracy: 0.6644 - distance: 0.4236 - val_loss: 0.8151 - val_accuracy: 0.6635 - val_distance: 0.4408\n",
      "Epoch 8/32\n",
      "1259/1259 [==============================] - 32s 25ms/step - loss: 0.7240 - accuracy: 0.6678 - distance: 0.4195 - val_loss: 0.8233 - val_accuracy: 0.6635 - val_distance: 0.4367\n",
      "Epoch 9/32\n",
      "1259/1259 [==============================] - 31s 25ms/step - loss: 0.7174 - accuracy: 0.6719 - distance: 0.4130 - val_loss: 0.8181 - val_accuracy: 0.6657 - val_distance: 0.4311\n",
      "Epoch 10/32\n",
      "1259/1259 [==============================] - 31s 25ms/step - loss: 0.7104 - accuracy: 0.6761 - distance: 0.4059 - val_loss: 0.8395 - val_accuracy: 0.6615 - val_distance: 0.4363\n",
      "Epoch 11/32\n",
      "1259/1259 [==============================] - 31s 25ms/step - loss: 0.7028 - accuracy: 0.6806 - distance: 0.4000 - val_loss: 0.8384 - val_accuracy: 0.6600 - val_distance: 0.4402\n",
      "Epoch 12/32\n",
      "1259/1259 [==============================] - 31s 25ms/step - loss: 0.6962 - accuracy: 0.6834 - distance: 0.3973 - val_loss: 0.8446 - val_accuracy: 0.6586 - val_distance: 0.4392\n",
      "\n",
      "Epoch 00012: ReduceLROnPlateau reducing learning rate to 0.004999999888241291.\n",
      "Epoch 13/32\n",
      "1259/1259 [==============================] - 31s 25ms/step - loss: 0.6817 - accuracy: 0.6922 - distance: 0.3872 - val_loss: 0.8487 - val_accuracy: 0.6583 - val_distance: 0.4457\n",
      "Epoch 14/32\n",
      "1259/1259 [==============================] - 31s 25ms/step - loss: 0.6768 - accuracy: 0.6945 - distance: 0.3829 - val_loss: 0.8558 - val_accuracy: 0.6565 - val_distance: 0.4466\n",
      "Epoch 15/32\n",
      "1259/1259 [==============================] - 32s 25ms/step - loss: 0.6722 - accuracy: 0.6955 - distance: 0.3824 - val_loss: 0.8482 - val_accuracy: 0.6573 - val_distance: 0.4458\n",
      "\n",
      "Epoch 00015: ReduceLROnPlateau reducing learning rate to 0.0024999999441206455.\n",
      "Epoch 16/32\n",
      "1259/1259 [==============================] - 31s 25ms/step - loss: 0.6615 - accuracy: 0.7031 - distance: 0.3727 - val_loss: 0.8093 - val_accuracy: 0.6617 - val_distance: 0.4352\n",
      "Epoch 17/32\n",
      "1259/1259 [==============================] - 31s 25ms/step - loss: 0.6585 - accuracy: 0.7029 - distance: 0.3752 - val_loss: 0.8165 - val_accuracy: 0.6608 - val_distance: 0.4367\n"
     ]
    }
   ],
   "source": [
    "# Model Structure\n",
    "model1 = Sequential()\n",
    "model1.add(Embedding(nb_words,\n",
    "                     EMBEDDING_DIM,\n",
    "                     weights=[embedding_matrix],\n",
    "                     input_length=MAX_SEQUENCE_LENGTH,\n",
    "                     trainable=False, name='embedding_layer_model_1'\n",
    "                    ))\n",
    "model1.add(GRU(64))\n",
    "model1.add(Dense(128, activation='relu', name='dense_1_model_1'))\n",
    "model1.add(Dropout(0.1, name='drop_out_1_model_1'))\n",
    "model1.add(Dense(3, activation='softmax', name='output_layer_model_1'))\n",
    "\n",
    "# Summary\n",
    "model1.summary()\n",
    "\n",
    "# Callbacks and Summary\n",
    "#optimizer = optimizers.SGD(lr=LEARNING_RATE, decay=1e-6, momentum=0.9, nesterov=True)\n",
    "optimizer = Adam(lr=LEARNING_RATE)\n",
    "model1.compile(\n",
    "    loss='categorical_crossentropy',\n",
    "    optimizer=optimizers.SGD(lr=LEARNING_RATE, decay=1e-6, momentum=0.9, nesterov=True),\n",
    "    metrics=['accuracy', distance]\n",
    ")\n",
    "Callbacks = [ReduceLROnPlateau(monitor='val_accuracy', factor=0.5, patience=LR_PATIENCE, verbose=True),\n",
    "             EarlyStopping(patience=PATIENCE, monitor='val_accuracy')]\n",
    "\n",
    "# Training\n",
    "history = model1.fit(TRAINING_GENERATOR.getGenerator(),\n",
    "                     validation_data=VALIDATION_GENERATOR.getGenerator(),\n",
    "                     epochs=EPOCHS, steps_per_epoch=STEPS_PER_EPOCH,\n",
    "                     validation_steps=VALIDATION_STEPS,\n",
    "                     callbacks=Callbacks,\n",
    "                     verbose=True)\n",
    "                     #class_weight=WEIGHTS)\n",
    "\n",
    "# Saving the Model\n",
    "model1.save(\"{}{}\".format(path, \"model1.h5\"))"
   ]
  },
  {
   "cell_type": "code",
   "execution_count": 23,
   "metadata": {
    "scrolled": false
   },
   "outputs": [
    {
     "data": {
      "image/png": "[encoded data removed]",
      "text/plain": [
       "<Figure size 432x288 with 1 Axes>"
      ]
     },
     "metadata": {
      "needs_background": "light"
     },
     "output_type": "display_data"
    },
    {
     "data": {
      "image/png": "[encoded data removed]",
      "text/plain": [
       "<Figure size 432x288 with 1 Axes>"
      ]
     },
     "metadata": {
      "needs_background": "light"
     },
     "output_type": "display_data"
    },
    {
     "data": {
      "image/png": "[encoded data removed]",
      "text/plain": [
       "<Figure size 432x288 with 1 Axes>"
      ]
     },
     "metadata": {
      "needs_background": "light"
     },
     "output_type": "display_data"
    },
    {
     "name": "stdout",
     "output_type": "stream",
     "text": [
      "32/32 [==============================] - 0s 10ms/step\n",
      "[0.7675012350082397, 0.6470588445663452, 0.4647058844566345]\n",
      "[[ 98  84  21]\n",
      " [ 29 307  93]\n",
      " [ 17 116 255]]\n"
     ]
    },
    {
     "data": {
      "text/plain": [
       "(array([-1,  0,  1]), array([144, 507, 369]))"
      ]
     },
     "execution_count": 23,
     "metadata": {},
     "output_type": "execute_result"
    }
   ],
   "source": [
    "# Plotting hist acc\n",
    "plt.plot(history.history['accuracy'])\n",
    "plt.plot(history.history['val_accuracy'])\n",
    "plt.title('model accuracy')\n",
    "plt.ylabel('accuracy')\n",
    "plt.xlabel('epoch')\n",
    "plt.legend(['train','val'], loc='upper left')\n",
    "plt.show()\n",
    "\n",
    "# Plotting hist loss\n",
    "plt.plot(history.history['loss'])\n",
    "plt.plot(history.history['val_loss'])\n",
    "plt.title('model loss')\n",
    "plt.ylabel('loss')\n",
    "plt.xlabel('epoch')\n",
    "plt.legend(['train','val'], loc='upper left')\n",
    "plt.show()\n",
    "\n",
    "# Plotting distance loss\n",
    "plt.plot(history.history['distance'])\n",
    "plt.plot(history.history['val_distance'])\n",
    "plt.title('model distance')\n",
    "plt.ylabel('distance')\n",
    "plt.xlabel('epoch')\n",
    "plt.legend(['train','val'], loc='upper left')\n",
    "plt.show()\n",
    "\n",
    "# Testing\n",
    "TEST_GENERATOR = DataGenerator(test_3_data, word2vec, MAX_SEQUENCE_LENGTH, 3, BATCH_SIZE)\n",
    "print(model1.evaluate(TEST_GENERATOR.getGenerator(), verbose=True, steps=TEST_GENERATOR.step))\n",
    "y_pred = np.argmax(model1.predict(TEST_GENERATOR.getInputGenerator(), steps=TEST_GENERATOR.step), axis=1) - 1\n",
    "y_true = test_3_data['class']\n",
    "print(confusion_matrix(y_true, y_pred))\n",
    "np.unique(y_pred, return_counts=True)"
   ]
  },
  {
   "cell_type": "markdown",
   "metadata": {
    "colab_type": "text",
    "id": "Lc_4Hz05tJwP"
   },
   "source": [
    "# Best was [0.6292, 0.7058, 0.4147]"
   ]
  },
  {
   "cell_type": "code",
   "execution_count": 24,
   "metadata": {
    "colab": {
     "base_uri": "https://localhost:8080/",
     "height": 1000
    },
    "colab_type": "code",
    "id": "wTE8zViRcYpp",
    "outputId": "14e9fd1c-0a22-4cdf-fff4-b5c3fffe8e3c",
    "scrolled": false
   },
   "outputs": [
    {
     "name": "stdout",
     "output_type": "stream",
     "text": [
      "{0: 2.005586592178771, 1: 1.111455108359133, 2: 3.7395833333333335, 3: 1.0, 4: 1.8894736842105264, 5: 3.2636363636363637, 6: 2.458904109589041}\n"
     ]
    }
   ],
   "source": [
    "# Parameters\n",
    "LEARNING_RATE = 0.01\n",
    "BATCH_SIZE = 16\n",
    "EPOCHS = 256\n",
    "PATIENCE = 64\n",
    "LR_PATIENCE = 8\n",
    "train_df, test_df = train_test_split(train_7_data, test_size=0.25, random_state=4)\n",
    "train_df, val_df = train_test_split(train_df, test_size=0.1, random_state=4)\n",
    "TRAINING_GENERATOR = DataGenerator(train_df, word2vec, MAX_SEQUENCE_LENGTH, 7, BATCH_SIZE)\n",
    "VALIDATION_GENERATOR = DataGenerator(val_df, word2vec, MAX_SEQUENCE_LENGTH, 7, BATCH_SIZE)\n",
    "WEIGHTS = TRAINING_GENERATOR.getWeights()\n",
    "print(WEIGHTS)\n",
    "STEPS_PER_EPOCH = TRAINING_GENERATOR.step\n",
    "VALIDATION_STEPS = VALIDATION_GENERATOR.step"
   ]
  },
  {
   "cell_type": "code",
   "execution_count": 25,
   "metadata": {
    "scrolled": false
   },
   "outputs": [
    {
     "name": "stdout",
     "output_type": "stream",
     "text": [
      "Model: \"sequential_2\"\n",
      "_________________________________________________________________\n",
      "Layer (type)                 Output Shape              Param #   \n",
      "=================================================================\n",
      "embedding_layer_model_1 (Emb (None, 103, 300)          13311300  \n",
      "_________________________________________________________________\n",
      "gru_2 (GRU)                  (None, 64)                70080     \n",
      "_________________________________________________________________\n",
      "dense_1_model_1 (Dense)      (None, 128)               8320      \n",
      "_________________________________________________________________\n",
      "drop_out_1_model_1 (Dropout) (None, 128)               0         \n",
      "_________________________________________________________________\n",
      "dense_1_model_2 (Dense)      (None, 64)                8256      \n",
      "_________________________________________________________________\n",
      "output_layer_model_2 (Dense) (None, 7)                 455       \n",
      "=================================================================\n",
      "Total params: 13,468,487\n",
      "Trainable params: 78,787\n",
      "Non-trainable params: 13,389,700\n",
      "_________________________________________________________________\n"
     ]
    },
    {
     "name": "stderr",
     "output_type": "stream",
     "text": [
      "/home/vincent/.local/lib/python3.7/site-packages/keras/engine/training.py:297: UserWarning: Discrepancy between trainable weights and collected trainable weights, did you set `model.trainable` without calling `model.compile` after ?\n",
      "  'Discrepancy between trainable weights and collected trainable'\n"
     ]
    },
    {
     "name": "stdout",
     "output_type": "stream",
     "text": [
      "Epoch 1/256\n",
      "88/88 [==============================] - 1s 8ms/step - loss: 3.2522 - accuracy: 0.2046 - distance: 4.8118 - val_loss: 1.9864 - val_accuracy: 0.2564 - val_distance: 2.9936\n",
      "Epoch 2/256\n",
      "88/88 [==============================] - 1s 6ms/step - loss: 3.0039 - accuracy: 0.2673 - distance: 3.1361 - val_loss: 1.9885 - val_accuracy: 0.2949 - val_distance: 2.7756\n",
      "Epoch 3/256\n",
      "88/88 [==============================] - 1s 6ms/step - loss: 2.9763 - accuracy: 0.2801 - distance: 3.1105 - val_loss: 1.9958 - val_accuracy: 0.2692 - val_distance: 2.7564\n",
      "Epoch 4/256\n",
      "88/88 [==============================] - 1s 6ms/step - loss: 2.9442 - accuracy: 0.2851 - distance: 2.9971 - val_loss: 1.9973 - val_accuracy: 0.2692 - val_distance: 2.6603\n",
      "Epoch 5/256\n",
      "88/88 [==============================] - 1s 6ms/step - loss: 2.9186 - accuracy: 0.3008 - distance: 2.9323 - val_loss: 2.0021 - val_accuracy: 0.2885 - val_distance: 2.7051\n",
      "Epoch 6/256\n",
      "88/88 [==============================] - 1s 6ms/step - loss: 2.9027 - accuracy: 0.3108 - distance: 2.9551 - val_loss: 2.0011 - val_accuracy: 0.2949 - val_distance: 2.6795\n",
      "Epoch 7/256\n",
      "88/88 [==============================] - 1s 6ms/step - loss: 2.8756 - accuracy: 0.3143 - distance: 2.9487 - val_loss: 2.0130 - val_accuracy: 0.2885 - val_distance: 2.5449\n",
      "Epoch 8/256\n",
      "88/88 [==============================] - 1s 6ms/step - loss: 2.8484 - accuracy: 0.3093 - distance: 2.9152 - val_loss: 2.0312 - val_accuracy: 0.3013 - val_distance: 2.7244\n",
      "Epoch 9/256\n",
      "88/88 [==============================] - 1s 6ms/step - loss: 2.8374 - accuracy: 0.3286 - distance: 2.9665 - val_loss: 2.0211 - val_accuracy: 0.3333 - val_distance: 2.5321\n",
      "Epoch 10/256\n",
      "88/88 [==============================] - 1s 6ms/step - loss: 2.8307 - accuracy: 0.3215 - distance: 2.8603 - val_loss: 2.0303 - val_accuracy: 0.2949 - val_distance: 2.7756\n",
      "Epoch 11/256\n",
      "88/88 [==============================] - 1s 6ms/step - loss: 2.7867 - accuracy: 0.3272 - distance: 2.9565 - val_loss: 2.0450 - val_accuracy: 0.3269 - val_distance: 2.7564\n",
      "Epoch 12/256\n",
      "88/88 [==============================] - 1s 6ms/step - loss: 2.7712 - accuracy: 0.3364 - distance: 2.9900 - val_loss: 2.0308 - val_accuracy: 0.3013 - val_distance: 2.9487\n",
      "Epoch 13/256\n",
      "88/88 [==============================] - 1s 6ms/step - loss: 2.7448 - accuracy: 0.3485 - distance: 2.8582 - val_loss: 2.0242 - val_accuracy: 0.3141 - val_distance: 2.7885\n",
      "Epoch 14/256\n",
      "88/88 [==============================] - 1s 6ms/step - loss: 2.7266 - accuracy: 0.3578 - distance: 2.8468 - val_loss: 2.0371 - val_accuracy: 0.3013 - val_distance: 2.7244\n",
      "Epoch 15/256\n",
      "88/88 [==============================] - 1s 6ms/step - loss: 2.7007 - accuracy: 0.3763 - distance: 2.6607 - val_loss: 2.0629 - val_accuracy: 0.2949 - val_distance: 2.8205\n",
      "Epoch 16/256\n",
      "88/88 [==============================] - 1s 6ms/step - loss: 2.6943 - accuracy: 0.3621 - distance: 2.7983 - val_loss: 2.0512 - val_accuracy: 0.3141 - val_distance: 2.8333\n",
      "Epoch 17/256\n",
      "88/88 [==============================] - 1s 6ms/step - loss: 2.6954 - accuracy: 0.3742 - distance: 2.8068 - val_loss: 2.0454 - val_accuracy: 0.2885 - val_distance: 2.7692\n",
      "\n",
      "Epoch 00017: ReduceLROnPlateau reducing learning rate to 0.004999999888241291.\n",
      "Epoch 18/256\n",
      "88/88 [==============================] - 1s 6ms/step - loss: 2.6120 - accuracy: 0.4020 - distance: 2.7448 - val_loss: 2.0088 - val_accuracy: 0.3654 - val_distance: 2.8590\n",
      "Epoch 19/256\n",
      "88/88 [==============================] - 1s 6ms/step - loss: 2.5993 - accuracy: 0.3934 - distance: 2.8375 - val_loss: 1.9935 - val_accuracy: 0.3462 - val_distance: 2.6987\n",
      "Epoch 20/256\n",
      "88/88 [==============================] - 1s 6ms/step - loss: 2.5922 - accuracy: 0.4006 - distance: 2.7634 - val_loss: 1.9700 - val_accuracy: 0.3718 - val_distance: 2.6346\n",
      "Epoch 21/256\n",
      "88/88 [==============================] - 1s 6ms/step - loss: 2.5747 - accuracy: 0.3885 - distance: 2.8375 - val_loss: 1.9976 - val_accuracy: 0.3718 - val_distance: 2.6282\n",
      "Epoch 22/256\n",
      "88/88 [==============================] - 1s 6ms/step - loss: 2.5519 - accuracy: 0.4027 - distance: 2.8175 - val_loss: 1.9920 - val_accuracy: 0.3397 - val_distance: 2.8526\n",
      "Epoch 23/256\n",
      "88/88 [==============================] - 1s 6ms/step - loss: 2.5435 - accuracy: 0.4113 - distance: 2.7363 - val_loss: 2.0213 - val_accuracy: 0.3269 - val_distance: 2.7372\n",
      "Epoch 24/256\n",
      "88/88 [==============================] - 1s 6ms/step - loss: 2.5302 - accuracy: 0.4013 - distance: 2.8026 - val_loss: 2.0166 - val_accuracy: 0.3526 - val_distance: 2.9231\n",
      "Epoch 25/256\n",
      "88/88 [==============================] - 1s 6ms/step - loss: 2.5280 - accuracy: 0.3970 - distance: 2.8738 - val_loss: 1.9912 - val_accuracy: 0.3397 - val_distance: 2.7500\n",
      "Epoch 26/256\n",
      "88/88 [==============================] - 1s 6ms/step - loss: 2.5118 - accuracy: 0.4020 - distance: 2.7755 - val_loss: 2.0597 - val_accuracy: 0.3526 - val_distance: 2.8782\n",
      "Epoch 27/256\n",
      "88/88 [==============================] - 1s 6ms/step - loss: 2.5121 - accuracy: 0.4148 - distance: 2.6850 - val_loss: 2.0557 - val_accuracy: 0.3462 - val_distance: 2.8333\n",
      "Epoch 28/256\n",
      "88/88 [==============================] - 1s 6ms/step - loss: 2.4971 - accuracy: 0.4269 - distance: 2.7605 - val_loss: 2.0160 - val_accuracy: 0.3397 - val_distance: 2.7756\n",
      "\n",
      "Epoch 00028: ReduceLROnPlateau reducing learning rate to 0.0024999999441206455.\n",
      "Epoch 29/256\n",
      "88/88 [==============================] - 1s 6ms/step - loss: 2.4307 - accuracy: 0.4255 - distance: 2.7227 - val_loss: 1.9973 - val_accuracy: 0.3590 - val_distance: 2.6859\n",
      "Epoch 30/256\n",
      "88/88 [==============================] - 1s 6ms/step - loss: 2.4262 - accuracy: 0.4362 - distance: 2.7085 - val_loss: 2.0059 - val_accuracy: 0.3526 - val_distance: 2.5385\n",
      "Epoch 31/256\n",
      "88/88 [==============================] - 1s 6ms/step - loss: 2.4439 - accuracy: 0.4205 - distance: 2.7092 - val_loss: 1.9787 - val_accuracy: 0.3462 - val_distance: 2.5769\n",
      "Epoch 32/256\n",
      "88/88 [==============================] - 1s 6ms/step - loss: 2.4193 - accuracy: 0.4419 - distance: 2.6686 - val_loss: 1.9939 - val_accuracy: 0.3397 - val_distance: 2.5705\n",
      "Epoch 33/256\n",
      "88/88 [==============================] - 1s 6ms/step - loss: 2.4084 - accuracy: 0.4562 - distance: 2.5859 - val_loss: 2.0005 - val_accuracy: 0.3718 - val_distance: 2.5513\n",
      "Epoch 34/256\n",
      "88/88 [==============================] - 1s 6ms/step - loss: 2.4220 - accuracy: 0.4433 - distance: 2.5773 - val_loss: 2.0196 - val_accuracy: 0.3526 - val_distance: 2.5513\n",
      "Epoch 35/256\n",
      "88/88 [==============================] - 1s 6ms/step - loss: 2.3822 - accuracy: 0.4391 - distance: 2.5531 - val_loss: 1.9953 - val_accuracy: 0.3590 - val_distance: 2.5321\n",
      "Epoch 36/256\n",
      "88/88 [==============================] - 1s 6ms/step - loss: 2.4135 - accuracy: 0.4184 - distance: 2.7349 - val_loss: 2.0201 - val_accuracy: 0.3718 - val_distance: 2.5192\n",
      "\n",
      "Epoch 00036: ReduceLROnPlateau reducing learning rate to 0.0012499999720603228.\n",
      "Epoch 37/256\n",
      "88/88 [==============================] - 1s 6ms/step - loss: 2.3352 - accuracy: 0.4526 - distance: 2.7341 - val_loss: 2.0276 - val_accuracy: 0.3654 - val_distance: 2.5577\n",
      "Epoch 38/256\n",
      "88/88 [==============================] - 1s 6ms/step - loss: 2.3556 - accuracy: 0.4498 - distance: 2.6757 - val_loss: 2.0305 - val_accuracy: 0.3526 - val_distance: 2.5577\n",
      "Epoch 39/256\n",
      "88/88 [==============================] - 1s 6ms/step - loss: 2.3358 - accuracy: 0.4476 - distance: 2.5966 - val_loss: 2.0291 - val_accuracy: 0.3718 - val_distance: 2.5513\n",
      "Epoch 40/256\n",
      "88/88 [==============================] - 1s 6ms/step - loss: 2.3599 - accuracy: 0.4483 - distance: 2.5524 - val_loss: 2.0293 - val_accuracy: 0.3654 - val_distance: 2.4744\n",
      "Epoch 41/256\n",
      "88/88 [==============================] - 1s 6ms/step - loss: 2.3693 - accuracy: 0.4505 - distance: 2.6422 - val_loss: 2.0176 - val_accuracy: 0.3526 - val_distance: 2.5897\n",
      "Epoch 42/256\n",
      "88/88 [==============================] - 1s 6ms/step - loss: 2.3653 - accuracy: 0.4391 - distance: 2.6821 - val_loss: 2.0212 - val_accuracy: 0.3526 - val_distance: 2.5705\n",
      "Epoch 43/256\n",
      "88/88 [==============================] - 1s 6ms/step - loss: 2.3366 - accuracy: 0.4583 - distance: 2.6515 - val_loss: 2.0246 - val_accuracy: 0.3590 - val_distance: 2.5833\n",
      "Epoch 44/256\n"
     ]
    },
    {
     "name": "stdout",
     "output_type": "stream",
     "text": [
      "88/88 [==============================] - 1s 6ms/step - loss: 2.3464 - accuracy: 0.4590 - distance: 2.5666 - val_loss: 2.0292 - val_accuracy: 0.3654 - val_distance: 2.5769\n",
      "\n",
      "Epoch 00044: ReduceLROnPlateau reducing learning rate to 0.0006249999860301614.\n",
      "Epoch 45/256\n",
      "88/88 [==============================] - 1s 6ms/step - loss: 2.3407 - accuracy: 0.4711 - distance: 2.5816 - val_loss: 2.0469 - val_accuracy: 0.3718 - val_distance: 2.5385\n",
      "Epoch 46/256\n",
      "88/88 [==============================] - 1s 6ms/step - loss: 2.3451 - accuracy: 0.4547 - distance: 2.7448 - val_loss: 2.0562 - val_accuracy: 0.3654 - val_distance: 2.5449\n",
      "Epoch 47/256\n",
      "88/88 [==============================] - 1s 6ms/step - loss: 2.3212 - accuracy: 0.4654 - distance: 2.5987 - val_loss: 2.0515 - val_accuracy: 0.3654 - val_distance: 2.5577\n",
      "Epoch 48/256\n",
      "88/88 [==============================] - 1s 6ms/step - loss: 2.3008 - accuracy: 0.4604 - distance: 2.6892 - val_loss: 2.0562 - val_accuracy: 0.3654 - val_distance: 2.5577\n",
      "Epoch 49/256\n",
      "88/88 [==============================] - 1s 6ms/step - loss: 2.3341 - accuracy: 0.4562 - distance: 2.5424 - val_loss: 2.0531 - val_accuracy: 0.3782 - val_distance: 2.4808\n",
      "Epoch 50/256\n",
      "88/88 [==============================] - 1s 6ms/step - loss: 2.2906 - accuracy: 0.4640 - distance: 2.5517 - val_loss: 2.0470 - val_accuracy: 0.3654 - val_distance: 2.5449\n",
      "Epoch 51/256\n",
      "88/88 [==============================] - 1s 6ms/step - loss: 2.3078 - accuracy: 0.4640 - distance: 2.5866 - val_loss: 2.0550 - val_accuracy: 0.3590 - val_distance: 2.5513\n",
      "Epoch 52/256\n",
      "88/88 [==============================] - 1s 6ms/step - loss: 2.3246 - accuracy: 0.4633 - distance: 2.5617 - val_loss: 2.0520 - val_accuracy: 0.3590 - val_distance: 2.5513\n",
      "Epoch 53/256\n",
      "88/88 [==============================] - 1s 6ms/step - loss: 2.3115 - accuracy: 0.4633 - distance: 2.6543 - val_loss: 2.0561 - val_accuracy: 0.3654 - val_distance: 2.5256\n",
      "Epoch 54/256\n",
      "88/88 [==============================] - 1s 6ms/step - loss: 2.3039 - accuracy: 0.4555 - distance: 2.6422 - val_loss: 2.0620 - val_accuracy: 0.3462 - val_distance: 2.5641\n",
      "Epoch 55/256\n",
      "88/88 [==============================] - 1s 6ms/step - loss: 2.2872 - accuracy: 0.4626 - distance: 2.6679 - val_loss: 2.0518 - val_accuracy: 0.3590 - val_distance: 2.5449\n",
      "Epoch 56/256\n",
      "88/88 [==============================] - 1s 6ms/step - loss: 2.2999 - accuracy: 0.4754 - distance: 2.5210 - val_loss: 2.0467 - val_accuracy: 0.3654 - val_distance: 2.5385\n",
      "Epoch 57/256\n",
      "88/88 [==============================] - 1s 6ms/step - loss: 2.2798 - accuracy: 0.4676 - distance: 2.6479 - val_loss: 2.0433 - val_accuracy: 0.3718 - val_distance: 2.5321\n",
      "\n",
      "Epoch 00057: ReduceLROnPlateau reducing learning rate to 0.0003124999930150807.\n",
      "Epoch 58/256\n",
      "88/88 [==============================] - 1s 6ms/step - loss: 2.2981 - accuracy: 0.4676 - distance: 2.6507 - val_loss: 2.0513 - val_accuracy: 0.3718 - val_distance: 2.5321\n",
      "Epoch 59/256\n",
      "88/88 [==============================] - 1s 6ms/step - loss: 2.2914 - accuracy: 0.4676 - distance: 2.5246 - val_loss: 2.0527 - val_accuracy: 0.3590 - val_distance: 2.5449\n",
      "Epoch 60/256\n",
      "88/88 [==============================] - 1s 6ms/step - loss: 2.2852 - accuracy: 0.4825 - distance: 2.4683 - val_loss: 2.0600 - val_accuracy: 0.3590 - val_distance: 2.5128\n",
      "Epoch 61/256\n",
      "88/88 [==============================] - 1s 6ms/step - loss: 2.2858 - accuracy: 0.4640 - distance: 2.5816 - val_loss: 2.0589 - val_accuracy: 0.3590 - val_distance: 2.5128\n",
      "Epoch 62/256\n",
      "88/88 [==============================] - 1s 6ms/step - loss: 2.3063 - accuracy: 0.4619 - distance: 2.5745 - val_loss: 2.0587 - val_accuracy: 0.3590 - val_distance: 2.5449\n",
      "Epoch 63/256\n",
      "88/88 [==============================] - 1s 6ms/step - loss: 2.2883 - accuracy: 0.4498 - distance: 2.6529 - val_loss: 2.0547 - val_accuracy: 0.3590 - val_distance: 2.5449\n",
      "Epoch 64/256\n",
      "88/88 [==============================] - 1s 6ms/step - loss: 2.3075 - accuracy: 0.4604 - distance: 2.7042 - val_loss: 2.0536 - val_accuracy: 0.3590 - val_distance: 2.5641\n",
      "Epoch 65/256\n",
      "88/88 [==============================] - 1s 6ms/step - loss: 2.2947 - accuracy: 0.4619 - distance: 2.4490 - val_loss: 2.0595 - val_accuracy: 0.3590 - val_distance: 2.5641\n",
      "\n",
      "Epoch 00065: ReduceLROnPlateau reducing learning rate to 0.00015624999650754035.\n",
      "Epoch 66/256\n",
      "88/88 [==============================] - 1s 6ms/step - loss: 2.2738 - accuracy: 0.4569 - distance: 2.6415 - val_loss: 2.0578 - val_accuracy: 0.3654 - val_distance: 2.5577\n",
      "Epoch 67/256\n",
      "88/88 [==============================] - 1s 6ms/step - loss: 2.2783 - accuracy: 0.4747 - distance: 2.5488 - val_loss: 2.0600 - val_accuracy: 0.3590 - val_distance: 2.5641\n",
      "Epoch 68/256\n",
      "88/88 [==============================] - 1s 6ms/step - loss: 2.2817 - accuracy: 0.4747 - distance: 2.5495 - val_loss: 2.0600 - val_accuracy: 0.3590 - val_distance: 2.5641\n",
      "Epoch 69/256\n",
      "88/88 [==============================] - 1s 6ms/step - loss: 2.2886 - accuracy: 0.4569 - distance: 2.5916 - val_loss: 2.0618 - val_accuracy: 0.3654 - val_distance: 2.5385\n",
      "Epoch 70/256\n",
      "88/88 [==============================] - 1s 6ms/step - loss: 2.2623 - accuracy: 0.4747 - distance: 2.6294 - val_loss: 2.0611 - val_accuracy: 0.3654 - val_distance: 2.5385\n",
      "Epoch 71/256\n",
      "88/88 [==============================] - 1s 6ms/step - loss: 2.2857 - accuracy: 0.4640 - distance: 2.5859 - val_loss: 2.0624 - val_accuracy: 0.3654 - val_distance: 2.5385\n",
      "Epoch 72/256\n",
      "88/88 [==============================] - 1s 6ms/step - loss: 2.2809 - accuracy: 0.4540 - distance: 2.5517 - val_loss: 2.0678 - val_accuracy: 0.3718 - val_distance: 2.5321\n",
      "Epoch 73/256\n",
      "88/88 [==============================] - 1s 6ms/step - loss: 2.2709 - accuracy: 0.4797 - distance: 2.5574 - val_loss: 2.0676 - val_accuracy: 0.3718 - val_distance: 2.5321\n",
      "\n",
      "Epoch 00073: ReduceLROnPlateau reducing learning rate to 7.812499825377017e-05.\n",
      "Epoch 74/256\n",
      "88/88 [==============================] - 1s 6ms/step - loss: 2.2855 - accuracy: 0.4740 - distance: 2.5567 - val_loss: 2.0670 - val_accuracy: 0.3718 - val_distance: 2.5321\n",
      "Epoch 75/256\n",
      "88/88 [==============================] - 1s 6ms/step - loss: 2.2711 - accuracy: 0.4612 - distance: 2.5225 - val_loss: 2.0677 - val_accuracy: 0.3718 - val_distance: 2.5321\n",
      "Epoch 76/256\n",
      "88/88 [==============================] - 1s 6ms/step - loss: 2.2651 - accuracy: 0.4697 - distance: 2.5902 - val_loss: 2.0663 - val_accuracy: 0.3718 - val_distance: 2.5192\n",
      "Epoch 77/256\n",
      "88/88 [==============================] - 1s 6ms/step - loss: 2.2936 - accuracy: 0.4661 - distance: 2.6151 - val_loss: 2.0668 - val_accuracy: 0.3718 - val_distance: 2.5321\n",
      "Epoch 78/256\n",
      "88/88 [==============================] - 1s 6ms/step - loss: 2.2786 - accuracy: 0.4740 - distance: 2.6244 - val_loss: 2.0648 - val_accuracy: 0.3718 - val_distance: 2.5321\n",
      "Epoch 79/256\n",
      "88/88 [==============================] - 1s 7ms/step - loss: 2.2789 - accuracy: 0.4647 - distance: 2.5752 - val_loss: 2.0662 - val_accuracy: 0.3718 - val_distance: 2.5321\n",
      "Epoch 80/256\n",
      "88/88 [==============================] - 1s 6ms/step - loss: 2.2546 - accuracy: 0.4790 - distance: 2.5802 - val_loss: 2.0662 - val_accuracy: 0.3718 - val_distance: 2.5321\n",
      "Epoch 81/256\n",
      "88/88 [==============================] - 1s 6ms/step - loss: 2.2788 - accuracy: 0.4669 - distance: 2.5175 - val_loss: 2.0668 - val_accuracy: 0.3718 - val_distance: 2.5321\n",
      "\n",
      "Epoch 00081: ReduceLROnPlateau reducing learning rate to 3.9062499126885086e-05.\n",
      "Epoch 82/256\n",
      "88/88 [==============================] - 1s 6ms/step - loss: 2.2726 - accuracy: 0.4726 - distance: 2.5061 - val_loss: 2.0664 - val_accuracy: 0.3718 - val_distance: 2.5321\n",
      "Epoch 83/256\n",
      "88/88 [==============================] - 1s 6ms/step - loss: 2.2718 - accuracy: 0.4619 - distance: 2.7021 - val_loss: 2.0657 - val_accuracy: 0.3718 - val_distance: 2.5321\n",
      "Epoch 84/256\n",
      "88/88 [==============================] - 1s 6ms/step - loss: 2.2744 - accuracy: 0.4726 - distance: 2.5609 - val_loss: 2.0662 - val_accuracy: 0.3654 - val_distance: 2.5385\n",
      "Epoch 85/256\n",
      "88/88 [==============================] - 1s 6ms/step - loss: 2.2921 - accuracy: 0.4704 - distance: 2.5859 - val_loss: 2.0669 - val_accuracy: 0.3718 - val_distance: 2.5321\n",
      "Epoch 86/256\n"
     ]
    },
    {
     "name": "stdout",
     "output_type": "stream",
     "text": [
      "88/88 [==============================] - 1s 6ms/step - loss: 2.2561 - accuracy: 0.4882 - distance: 2.5517 - val_loss: 2.0664 - val_accuracy: 0.3718 - val_distance: 2.5321\n",
      "Epoch 87/256\n",
      "88/88 [==============================] - 1s 6ms/step - loss: 2.2775 - accuracy: 0.4669 - distance: 2.5674 - val_loss: 2.0662 - val_accuracy: 0.3718 - val_distance: 2.5321\n",
      "Epoch 88/256\n",
      "88/88 [==============================] - 1s 6ms/step - loss: 2.2673 - accuracy: 0.4768 - distance: 2.4697 - val_loss: 2.0673 - val_accuracy: 0.3718 - val_distance: 2.5321\n",
      "Epoch 89/256\n",
      "88/88 [==============================] - 1s 6ms/step - loss: 2.2717 - accuracy: 0.4704 - distance: 2.5331 - val_loss: 2.0667 - val_accuracy: 0.3718 - val_distance: 2.5321\n",
      "\n",
      "Epoch 00089: ReduceLROnPlateau reducing learning rate to 1.9531249563442543e-05.\n",
      "Epoch 90/256\n",
      "88/88 [==============================] - 1s 6ms/step - loss: 2.2650 - accuracy: 0.4911 - distance: 2.6016 - val_loss: 2.0667 - val_accuracy: 0.3718 - val_distance: 2.5321\n",
      "Epoch 91/256\n",
      "88/88 [==============================] - 1s 6ms/step - loss: 2.2737 - accuracy: 0.4747 - distance: 2.4098 - val_loss: 2.0669 - val_accuracy: 0.3654 - val_distance: 2.5385\n",
      "Epoch 92/256\n",
      "88/88 [==============================] - 1s 6ms/step - loss: 2.3059 - accuracy: 0.4626 - distance: 2.6429 - val_loss: 2.0667 - val_accuracy: 0.3654 - val_distance: 2.5385\n",
      "Epoch 93/256\n",
      "88/88 [==============================] - 1s 6ms/step - loss: 2.2626 - accuracy: 0.4761 - distance: 2.5909 - val_loss: 2.0667 - val_accuracy: 0.3654 - val_distance: 2.5385\n",
      "Epoch 94/256\n",
      "88/88 [==============================] - 1s 6ms/step - loss: 2.2531 - accuracy: 0.4790 - distance: 2.5210 - val_loss: 2.0672 - val_accuracy: 0.3654 - val_distance: 2.5385\n",
      "Epoch 95/256\n",
      "88/88 [==============================] - 1s 6ms/step - loss: 2.2573 - accuracy: 0.4847 - distance: 2.4590 - val_loss: 2.0667 - val_accuracy: 0.3654 - val_distance: 2.5385\n",
      "Epoch 96/256\n",
      "88/88 [==============================] - 1s 6ms/step - loss: 2.2843 - accuracy: 0.4818 - distance: 2.5659 - val_loss: 2.0666 - val_accuracy: 0.3718 - val_distance: 2.5321\n",
      "Epoch 97/256\n",
      "88/88 [==============================] - 1s 6ms/step - loss: 2.2840 - accuracy: 0.4676 - distance: 2.5980 - val_loss: 2.0668 - val_accuracy: 0.3718 - val_distance: 2.5321\n",
      "\n",
      "Epoch 00097: ReduceLROnPlateau reducing learning rate to 9.765624781721272e-06.\n",
      "Epoch 98/256\n",
      "88/88 [==============================] - 1s 6ms/step - loss: 2.2840 - accuracy: 0.4775 - distance: 2.6215 - val_loss: 2.0666 - val_accuracy: 0.3718 - val_distance: 2.5321\n",
      "Epoch 99/256\n",
      "88/88 [==============================] - 1s 6ms/step - loss: 2.2808 - accuracy: 0.4676 - distance: 2.5674 - val_loss: 2.0666 - val_accuracy: 0.3718 - val_distance: 2.5321\n",
      "Epoch 100/256\n",
      "88/88 [==============================] - 1s 6ms/step - loss: 2.2686 - accuracy: 0.4840 - distance: 2.5346 - val_loss: 2.0667 - val_accuracy: 0.3718 - val_distance: 2.5321\n",
      "Epoch 101/256\n",
      "88/88 [==============================] - 1s 6ms/step - loss: 2.2778 - accuracy: 0.4775 - distance: 2.4875 - val_loss: 2.0668 - val_accuracy: 0.3718 - val_distance: 2.5321\n",
      "Epoch 102/256\n",
      "88/88 [==============================] - 1s 6ms/step - loss: 2.2540 - accuracy: 0.4868 - distance: 2.5567 - val_loss: 2.0666 - val_accuracy: 0.3718 - val_distance: 2.5321\n",
      "Epoch 103/256\n",
      "88/88 [==============================] - 1s 6ms/step - loss: 2.2694 - accuracy: 0.4961 - distance: 2.4861 - val_loss: 2.0668 - val_accuracy: 0.3718 - val_distance: 2.5321\n",
      "Epoch 104/256\n",
      "88/88 [==============================] - 1s 6ms/step - loss: 2.2683 - accuracy: 0.4854 - distance: 2.5460 - val_loss: 2.0666 - val_accuracy: 0.3718 - val_distance: 2.5321\n",
      "Epoch 105/256\n",
      "88/88 [==============================] - 1s 6ms/step - loss: 2.2567 - accuracy: 0.4718 - distance: 2.5417 - val_loss: 2.0668 - val_accuracy: 0.3718 - val_distance: 2.5321\n",
      "\n",
      "Epoch 00105: ReduceLROnPlateau reducing learning rate to 4.882812390860636e-06.\n",
      "Epoch 106/256\n",
      "88/88 [==============================] - 1s 6ms/step - loss: 2.2540 - accuracy: 0.4897 - distance: 2.4654 - val_loss: 2.0667 - val_accuracy: 0.3718 - val_distance: 2.5321\n",
      "Epoch 107/256\n",
      "88/88 [==============================] - 1s 6ms/step - loss: 2.2704 - accuracy: 0.4811 - distance: 2.5994 - val_loss: 2.0668 - val_accuracy: 0.3718 - val_distance: 2.5321\n",
      "Epoch 108/256\n",
      "88/88 [==============================] - 1s 6ms/step - loss: 2.2664 - accuracy: 0.4790 - distance: 2.5082 - val_loss: 2.0668 - val_accuracy: 0.3718 - val_distance: 2.5321\n",
      "Epoch 109/256\n",
      "88/88 [==============================] - 1s 6ms/step - loss: 2.2678 - accuracy: 0.4768 - distance: 2.6187 - val_loss: 2.0668 - val_accuracy: 0.3718 - val_distance: 2.5321\n",
      "Epoch 110/256\n",
      "88/88 [==============================] - 1s 6ms/step - loss: 2.2540 - accuracy: 0.4740 - distance: 2.5524 - val_loss: 2.0668 - val_accuracy: 0.3718 - val_distance: 2.5321\n",
      "Epoch 111/256\n",
      "88/88 [==============================] - 1s 6ms/step - loss: 2.2669 - accuracy: 0.4797 - distance: 2.5196 - val_loss: 2.0669 - val_accuracy: 0.3718 - val_distance: 2.5321\n",
      "Epoch 112/256\n",
      "88/88 [==============================] - 1s 6ms/step - loss: 2.2804 - accuracy: 0.4804 - distance: 2.4661 - val_loss: 2.0669 - val_accuracy: 0.3718 - val_distance: 2.5321\n",
      "Epoch 113/256\n",
      "88/88 [==============================] - 1s 6ms/step - loss: 2.2822 - accuracy: 0.4761 - distance: 2.4989 - val_loss: 2.0670 - val_accuracy: 0.3718 - val_distance: 2.5321\n",
      "\n",
      "Epoch 00113: ReduceLROnPlateau reducing learning rate to 2.441406195430318e-06.\n"
     ]
    }
   ],
   "source": [
    "# Model Structure\n",
    "dependencies = {'distance': distance}\n",
    "model2 = load_model(\"{}{}\".format(path, \"model1.h5\"), custom_objects=dependencies)\n",
    "model2.pop()\n",
    "\n",
    "for layer in model2.layers:\n",
    "    layer.trainable = False\n",
    "\n",
    "model2.add(Dense(64, activation='relu', name='dense_1_model_2'))\n",
    "model2.add(Dense(7, activation='softmax', name='output_layer_model_2'))\n",
    "\n",
    "# Summary\n",
    "model2.summary()\n",
    "\n",
    "# Callbacks & Optimizer\n",
    "model2.compile(\n",
    "    loss='categorical_crossentropy', #kullback_leibler_divergence\n",
    "    optimizer=optimizers.SGD(lr=LEARNING_RATE, momentum=0.9, nesterov=True),\n",
    "    metrics=['accuracy', distance]\n",
    ")\n",
    "Callbacks=[EarlyStopping(patience=PATIENCE, monitor='val_accuracy', restore_best_weights=False),\n",
    "           ReduceLROnPlateau(monitor='val_accuracy', factor=0.5, patience=LR_PATIENCE, verbose=True)]\n",
    "\n",
    "# Training\n",
    "history = model2.fit(TRAINING_GENERATOR.getGenerator(),\n",
    "                     validation_data=VALIDATION_GENERATOR.getGenerator(),\n",
    "                     epochs=EPOCHS, steps_per_epoch=STEPS_PER_EPOCH,\n",
    "                     validation_steps=VALIDATION_STEPS,\n",
    "                     callbacks=Callbacks,\n",
    "                     verbose=True,\n",
    "                     class_weight=WEIGHTS)\n",
    "\n",
    "# Saving the Model\n",
    "model2.save(\"{}{}\".format(path, \"model2.h5\"))"
   ]
  },
  {
   "cell_type": "code",
   "execution_count": 26,
   "metadata": {
    "scrolled": false
   },
   "outputs": [
    {
     "data": {
      "image/png": "[encoded data removed]",
      "text/plain": [
       "<Figure size 432x288 with 1 Axes>"
      ]
     },
     "metadata": {
      "needs_background": "light"
     },
     "output_type": "display_data"
    },
    {
     "data": {
      "image/png": "[encoded data removed]",
      "text/plain": [
       "<Figure size 432x288 with 1 Axes>"
      ]
     },
     "metadata": {
      "needs_background": "light"
     },
     "output_type": "display_data"
    },
    {
     "data": {
      "image/png": "[encoded data removed]",
      "text/plain": [
       "<Figure size 432x288 with 1 Axes>"
      ]
     },
     "metadata": {
      "needs_background": "light"
     },
     "output_type": "display_data"
    },
    {
     "name": "stdout",
     "output_type": "stream",
     "text": [
      "33/33 [==============================] - 0s 6ms/step\n",
      "[1.8633620738983154, 0.33076924085617065, 3.1692306995391846]\n",
      "[[31 13  7  5  2  3  2]\n",
      " [21 33 19 10  3  4  0]\n",
      " [ 8  9 15  7  0  5  0]\n",
      " [15 26 18 40 13 21 12]\n",
      " [10  6  6 17 17 11  6]\n",
      " [ 0  5  3  4  9 15  6]\n",
      " [ 0  4  2  2 15 19 21]]\n"
     ]
    },
    {
     "data": {
      "text/plain": [
       "(array([-3, -2, -1,  0,  1,  2,  3]), array([85, 96, 70, 85, 59, 78, 47]))"
      ]
     },
     "execution_count": 26,
     "metadata": {},
     "output_type": "execute_result"
    }
   ],
   "source": [
    "# Plotting hist acc\n",
    "plt.plot(history.history['accuracy'])\n",
    "plt.plot(history.history['val_accuracy'])\n",
    "plt.title('model accuracy')\n",
    "plt.ylabel('accuracy')\n",
    "plt.xlabel('epoch')\n",
    "plt.legend(['train','val'], loc='upper left')\n",
    "plt.show()\n",
    "\n",
    "# Plotting hist loss\n",
    "plt.plot(history.history['loss'])\n",
    "plt.plot(history.history['val_loss'])\n",
    "plt.title('model loss')\n",
    "plt.ylabel('loss')\n",
    "plt.xlabel('epoch')\n",
    "plt.legend(['train','val'], loc='upper left')\n",
    "plt.show()\n",
    "\n",
    "# Plotting distance loss\n",
    "plt.plot(history.history['distance'])\n",
    "plt.plot(history.history['val_distance'])\n",
    "plt.title('model distance')\n",
    "plt.ylabel('distance')\n",
    "plt.xlabel('epoch')\n",
    "plt.legend(['train','val'], loc='upper left')\n",
    "plt.show()\n",
    "\n",
    "# Testing the model\n",
    "TEST_GENERATOR = DataGenerator(test_df, word2vec, MAX_SEQUENCE_LENGTH, 7, BATCH_SIZE)\n",
    "print(model2.evaluate(TEST_GENERATOR.getGenerator(), verbose=True, steps=TEST_GENERATOR.step))\n",
    "y_pred = np.argmax(model2.predict(TEST_GENERATOR.getInputGenerator(), steps=TEST_GENERATOR.step), axis=1) - 3\n",
    "y_true = np.array(test_df['class'])\n",
    "print(confusion_matrix(y_true, y_pred))\n",
    "np.unique(y_pred, return_counts=True)"
   ]
  },
  {
   "cell_type": "markdown",
   "metadata": {
    "colab_type": "text",
    "id": "3TTRUrK1itDs"
   },
   "source": [
    "# Best was [1.863, 0.3307, 3.1692]"
   ]
  },
  {
   "cell_type": "markdown",
   "metadata": {
    "colab_type": "text",
    "id": "sEDYqavaxMR2"
   },
   "source": [
    "# Prediction"
   ]
  },
  {
   "cell_type": "code",
   "execution_count": 32,
   "metadata": {
    "colab": {
     "base_uri": "https://localhost:8080/",
     "height": 452
    },
    "colab_type": "code",
    "id": "nayUZY4nxCrX",
    "outputId": "886213cc-6831-4da3-da7b-0b8c98a36458"
   },
   "outputs": [
    {
     "data": {
      "text/html": [
       "<div>\n",
       "<style scoped>\n",
       "    .dataframe tbody tr th:only-of-type {\n",
       "        vertical-align: middle;\n",
       "    }\n",
       "\n",
       "    .dataframe tbody tr th {\n",
       "        vertical-align: top;\n",
       "    }\n",
       "\n",
       "    .dataframe thead th {\n",
       "        text-align: right;\n",
       "    }\n",
       "</style>\n",
       "<table border=\"1\" class=\"dataframe\">\n",
       "  <thead>\n",
       "    <tr style=\"text-align: right;\">\n",
       "      <th></th>\n",
       "      <th>ID</th>\n",
       "      <th>text</th>\n",
       "      <th>Affect Dimension</th>\n",
       "      <th>class</th>\n",
       "    </tr>\n",
       "  </thead>\n",
       "  <tbody>\n",
       "    <tr>\n",
       "      <th>0</th>\n",
       "      <td>2017-En-30153</td>\n",
       "      <td>@liamch88 yeah! :) playing well</td>\n",
       "      <td>valence</td>\n",
       "      <td>0</td>\n",
       "    </tr>\n",
       "    <tr>\n",
       "      <th>1</th>\n",
       "      <td>2017-En-40929</td>\n",
       "      <td>At least I don't have a guy trying to discoura...</td>\n",
       "      <td>valence</td>\n",
       "      <td>0</td>\n",
       "    </tr>\n",
       "    <tr>\n",
       "      <th>2</th>\n",
       "      <td>2017-En-22012</td>\n",
       "      <td>UPLIFT: If you're still discouraged it means y...</td>\n",
       "      <td>valence</td>\n",
       "      <td>0</td>\n",
       "    </tr>\n",
       "    <tr>\n",
       "      <th>3</th>\n",
       "      <td>2017-En-30837</td>\n",
       "      <td>...at your age, the heyday in the blood is tam...</td>\n",
       "      <td>valence</td>\n",
       "      <td>0</td>\n",
       "    </tr>\n",
       "    <tr>\n",
       "      <th>4</th>\n",
       "      <td>2017-En-30838</td>\n",
       "      <td>i was so embarrassed when she saw us i was lik...</td>\n",
       "      <td>valence</td>\n",
       "      <td>-2</td>\n",
       "    </tr>\n",
       "  </tbody>\n",
       "</table>\n",
       "</div>"
      ],
      "text/plain": [
       "              ID                                               text  \\\n",
       "0  2017-En-30153                   @liamch88 yeah! :) playing well    \n",
       "1  2017-En-40929  At least I don't have a guy trying to discoura...   \n",
       "2  2017-En-22012  UPLIFT: If you're still discouraged it means y...   \n",
       "3  2017-En-30837  ...at your age, the heyday in the blood is tam...   \n",
       "4  2017-En-30838  i was so embarrassed when she saw us i was lik...   \n",
       "\n",
       "  Affect Dimension  class  \n",
       "0          valence      0  \n",
       "1          valence      0  \n",
       "2          valence      0  \n",
       "3          valence      0  \n",
       "4          valence     -2  "
      ]
     },
     "metadata": {},
     "output_type": "display_data"
    },
    {
     "name": "stdout",
     "output_type": "stream",
     "text": [
      "(1181, 4)\n"
     ]
    },
    {
     "data": {
      "text/html": [
       "<div>\n",
       "<style scoped>\n",
       "    .dataframe tbody tr th:only-of-type {\n",
       "        vertical-align: middle;\n",
       "    }\n",
       "\n",
       "    .dataframe tbody tr th {\n",
       "        vertical-align: top;\n",
       "    }\n",
       "\n",
       "    .dataframe thead th {\n",
       "        text-align: right;\n",
       "    }\n",
       "</style>\n",
       "<table border=\"1\" class=\"dataframe\">\n",
       "  <thead>\n",
       "    <tr style=\"text-align: right;\">\n",
       "      <th></th>\n",
       "      <th>ID</th>\n",
       "      <th>text</th>\n",
       "      <th>Affect Dimension</th>\n",
       "      <th>class</th>\n",
       "    </tr>\n",
       "  </thead>\n",
       "  <tbody>\n",
       "    <tr>\n",
       "      <th>0</th>\n",
       "      <td>2017-En-30153</td>\n",
       "      <td>[0, 0, 0, 0, 0, 0, 0, 0, 0, 0, 0, 0, 0, 0, 0, ...</td>\n",
       "      <td>valence</td>\n",
       "      <td>0</td>\n",
       "    </tr>\n",
       "    <tr>\n",
       "      <th>1</th>\n",
       "      <td>2017-En-40929</td>\n",
       "      <td>[0, 0, 0, 0, 0, 0, 0, 0, 0, 0, 0, 0, 0, 0, 0, ...</td>\n",
       "      <td>valence</td>\n",
       "      <td>0</td>\n",
       "    </tr>\n",
       "    <tr>\n",
       "      <th>2</th>\n",
       "      <td>2017-En-22012</td>\n",
       "      <td>[0, 0, 0, 0, 0, 0, 0, 0, 0, 0, 0, 0, 0, 0, 0, ...</td>\n",
       "      <td>valence</td>\n",
       "      <td>0</td>\n",
       "    </tr>\n",
       "    <tr>\n",
       "      <th>3</th>\n",
       "      <td>2017-En-30837</td>\n",
       "      <td>[0, 0, 0, 0, 0, 0, 0, 0, 0, 0, 0, 0, 0, 0, 0, ...</td>\n",
       "      <td>valence</td>\n",
       "      <td>0</td>\n",
       "    </tr>\n",
       "    <tr>\n",
       "      <th>4</th>\n",
       "      <td>2017-En-30838</td>\n",
       "      <td>[0, 0, 0, 0, 0, 0, 0, 0, 0, 0, 0, 0, 0, 0, 0, ...</td>\n",
       "      <td>valence</td>\n",
       "      <td>-2</td>\n",
       "    </tr>\n",
       "  </tbody>\n",
       "</table>\n",
       "</div>"
      ],
      "text/plain": [
       "              ID                                               text  \\\n",
       "0  2017-En-30153  [0, 0, 0, 0, 0, 0, 0, 0, 0, 0, 0, 0, 0, 0, 0, ...   \n",
       "1  2017-En-40929  [0, 0, 0, 0, 0, 0, 0, 0, 0, 0, 0, 0, 0, 0, 0, ...   \n",
       "2  2017-En-22012  [0, 0, 0, 0, 0, 0, 0, 0, 0, 0, 0, 0, 0, 0, 0, ...   \n",
       "3  2017-En-30837  [0, 0, 0, 0, 0, 0, 0, 0, 0, 0, 0, 0, 0, 0, 0, ...   \n",
       "4  2017-En-30838  [0, 0, 0, 0, 0, 0, 0, 0, 0, 0, 0, 0, 0, 0, 0, ...   \n",
       "\n",
       "  Affect Dimension  class  \n",
       "0          valence      0  \n",
       "1          valence      0  \n",
       "2          valence      0  \n",
       "3          valence      0  \n",
       "4          valence     -2  "
      ]
     },
     "metadata": {},
     "output_type": "display_data"
    },
    {
     "name": "stdout",
     "output_type": "stream",
     "text": [
      "(1181, 4)\n"
     ]
    },
    {
     "data": {
      "text/html": [
       "<div>\n",
       "<style scoped>\n",
       "    .dataframe tbody tr th:only-of-type {\n",
       "        vertical-align: middle;\n",
       "    }\n",
       "\n",
       "    .dataframe tbody tr th {\n",
       "        vertical-align: top;\n",
       "    }\n",
       "\n",
       "    .dataframe thead th {\n",
       "        text-align: right;\n",
       "    }\n",
       "</style>\n",
       "<table border=\"1\" class=\"dataframe\">\n",
       "  <thead>\n",
       "    <tr style=\"text-align: right;\">\n",
       "      <th></th>\n",
       "      <th>ID</th>\n",
       "      <th>text</th>\n",
       "      <th>Affect Dimension</th>\n",
       "      <th>class</th>\n",
       "    </tr>\n",
       "  </thead>\n",
       "  <tbody>\n",
       "    <tr>\n",
       "      <th>0</th>\n",
       "      <td>2017-En-30153</td>\n",
       "      <td>Lost During Prediction</td>\n",
       "      <td>valence</td>\n",
       "      <td>2</td>\n",
       "    </tr>\n",
       "    <tr>\n",
       "      <th>1</th>\n",
       "      <td>2017-En-40929</td>\n",
       "      <td>Lost During Prediction</td>\n",
       "      <td>valence</td>\n",
       "      <td>-3</td>\n",
       "    </tr>\n",
       "    <tr>\n",
       "      <th>2</th>\n",
       "      <td>2017-En-22012</td>\n",
       "      <td>Lost During Prediction</td>\n",
       "      <td>valence</td>\n",
       "      <td>-2</td>\n",
       "    </tr>\n",
       "    <tr>\n",
       "      <th>3</th>\n",
       "      <td>2017-En-30837</td>\n",
       "      <td>Lost During Prediction</td>\n",
       "      <td>valence</td>\n",
       "      <td>3</td>\n",
       "    </tr>\n",
       "    <tr>\n",
       "      <th>4</th>\n",
       "      <td>2017-En-30838</td>\n",
       "      <td>Lost During Prediction</td>\n",
       "      <td>valence</td>\n",
       "      <td>-2</td>\n",
       "    </tr>\n",
       "  </tbody>\n",
       "</table>\n",
       "</div>"
      ],
      "text/plain": [
       "              ID                    text Affect Dimension  class\n",
       "0  2017-En-30153  Lost During Prediction          valence      2\n",
       "1  2017-En-40929  Lost During Prediction          valence     -3\n",
       "2  2017-En-22012  Lost During Prediction          valence     -2\n",
       "3  2017-En-30837  Lost During Prediction          valence      3\n",
       "4  2017-En-30838  Lost During Prediction          valence     -2"
      ]
     },
     "metadata": {},
     "output_type": "display_data"
    }
   ],
   "source": [
    "# Loading Data Set 7 Classes\n",
    "predict_7_data = pd.read_csv(test_7_path, encoding='utf-8', sep='\\t')\n",
    "\n",
    "# Rename Ugly Col Names\n",
    "predict_7_data = predict_7_data.rename(columns={\"Tweet\": \"text\", \"Intensity Class\": \"class\"})\n",
    "predict_7_data['class'] = predict_7_data['class'].apply(lambda x: int(x.split(':')[0]))\n",
    "\n",
    "# Display\n",
    "display(predict_7_data.head())\n",
    "print(predict_7_data.shape)\n",
    "\n",
    "# Preprocessing\n",
    "predict_7_data['text'] = predict_7_data['text'].apply(standardization)\n",
    "predict_7_data['text'] = tokenizer.texts_to_sequences(predict_7_data['text'])\n",
    "predict_7_data['text'] = predict_7_data['text'].apply(lambda x: pad_sequences([x], maxlen=MAX_SEQUENCE_LENGTH)[0])\n",
    "\n",
    "# Display\n",
    "display(predict_7_data.head())\n",
    "print(predict_7_data.shape)\n",
    "\n",
    "# Loading\n",
    "dependencies = {'distance': distance}\n",
    "model2 = load_model(\"{}{}\".format(path, \"best_model2.h5\"), custom_objects=dependencies)\n",
    "\n",
    "# Predicting\n",
    "PREDICT_GENERATOR = DataGenerator(predict_7_data, word2vec, MAX_SEQUENCE_LENGTH, 7, BATCH_SIZE)\n",
    "y_pred = np.argmax(model2.predict(PREDICT_GENERATOR.getInputGenerator(), steps=PREDICT_GENERATOR.step), axis=1) - 3\n",
    "predict_7_data['class'] = y_pred\n",
    "predict_7_data['text'] = predict_7_data['text'].apply(lambda _: 'Lost During Prediction')\n",
    "\n",
    "# Display Results\n",
    "display(predict_7_data.head())\n",
    "with open(path_test + 'result.csv', \"w\") as f:\n",
    "    predict_7_data.to_csv(f, sep='\\t', index=False)"
   ]
  }
 ],
 "metadata": {
  "colab": {
   "collapsed_sections": [],
   "name": "tp_tweet.ipynb",
   "provenance": []
  },
  "kernelspec": {
   "display_name": "Python 3",
   "language": "python",
   "name": "python3"
  },
  "language_info": {
   "codemirror_mode": {
    "name": "ipython",
    "version": 3
   },
   "file_extension": ".py",
   "mimetype": "text/x-python",
   "name": "python",
   "nbconvert_exporter": "python",
   "pygments_lexer": "ipython3",
   "version": "3.7.5rc1"
  }
 },
 "nbformat": 4,
 "nbformat_minor": 1
}
