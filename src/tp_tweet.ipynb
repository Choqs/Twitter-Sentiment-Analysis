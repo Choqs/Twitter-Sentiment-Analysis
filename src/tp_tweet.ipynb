{
 "cells": [
  {
   "cell_type": "markdown",
   "metadata": {
    "colab_type": "text",
    "id": "mtC_7VG_oYxQ"
   },
   "source": [
    "# **Classification de tweets basée sur le transfert learning**"
   ]
  },
  {
   "cell_type": "markdown",
   "metadata": {
    "colab_type": "text",
    "id": "dQJ31C3-a3fs"
   },
   "source": [
    "# Imports Packages"
   ]
  },
  {
   "cell_type": "code",
   "execution_count": 1,
   "metadata": {
    "colab": {
     "base_uri": "https://localhost:8080/",
     "height": 1000
    },
    "colab_type": "code",
    "id": "swgB-yTgoR9R",
    "outputId": "20d1a98d-57ef-4ce1-b72c-47b08568504b"
   },
   "outputs": [
    {
     "name": "stderr",
     "output_type": "stream",
     "text": [
      "Using TensorFlow backend.\n",
      "/Users/vincent/anaconda3/lib/python3.7/site-packages/tensorflow/python/framework/dtypes.py:526: FutureWarning: Passing (type, 1) or '1type' as a synonym of type is deprecated; in a future version of numpy, it will be understood as (type, (1,)) / '(1,)type'.\n",
      "  _np_qint8 = np.dtype([(\"qint8\", np.int8, 1)])\n",
      "/Users/vincent/anaconda3/lib/python3.7/site-packages/tensorflow/python/framework/dtypes.py:527: FutureWarning: Passing (type, 1) or '1type' as a synonym of type is deprecated; in a future version of numpy, it will be understood as (type, (1,)) / '(1,)type'.\n",
      "  _np_quint8 = np.dtype([(\"quint8\", np.uint8, 1)])\n",
      "/Users/vincent/anaconda3/lib/python3.7/site-packages/tensorflow/python/framework/dtypes.py:528: FutureWarning: Passing (type, 1) or '1type' as a synonym of type is deprecated; in a future version of numpy, it will be understood as (type, (1,)) / '(1,)type'.\n",
      "  _np_qint16 = np.dtype([(\"qint16\", np.int16, 1)])\n",
      "/Users/vincent/anaconda3/lib/python3.7/site-packages/tensorflow/python/framework/dtypes.py:529: FutureWarning: Passing (type, 1) or '1type' as a synonym of type is deprecated; in a future version of numpy, it will be understood as (type, (1,)) / '(1,)type'.\n",
      "  _np_quint16 = np.dtype([(\"quint16\", np.uint16, 1)])\n",
      "/Users/vincent/anaconda3/lib/python3.7/site-packages/tensorflow/python/framework/dtypes.py:530: FutureWarning: Passing (type, 1) or '1type' as a synonym of type is deprecated; in a future version of numpy, it will be understood as (type, (1,)) / '(1,)type'.\n",
      "  _np_qint32 = np.dtype([(\"qint32\", np.int32, 1)])\n",
      "/Users/vincent/anaconda3/lib/python3.7/site-packages/tensorflow/python/framework/dtypes.py:535: FutureWarning: Passing (type, 1) or '1type' as a synonym of type is deprecated; in a future version of numpy, it will be understood as (type, (1,)) / '(1,)type'.\n",
      "  np_resource = np.dtype([(\"resource\", np.ubyte, 1)])\n"
     ]
    }
   ],
   "source": [
    "# Miscelaneous\n",
    "import os\n",
    "import sys\n",
    "import re\n",
    "import emoji\n",
    "from string import punctuation\n",
    "from unidecode import unidecode\n",
    "import pandas as pd\n",
    "import numpy as np\n",
    "import matplotlib.pyplot as plt\n",
    "\n",
    "# Nltk\n",
    "import nltk\n",
    "from nltk.corpus import stopwords\n",
    "from nltk.tokenize import TweetTokenizer\n",
    "from nltk.stem import WordNetLemmatizer\n",
    "#nltk.download('stopwords')\n",
    "\n",
    "# Keras\n",
    "from keras import optimizers\n",
    "from keras.preprocessing.text import Tokenizer\n",
    "from keras.preprocessing.sequence import pad_sequences\n",
    "from keras.layers.embeddings import Embedding\n",
    "from keras.layers import (Dense,\n",
    "                          Flatten,\n",
    "                          LSTM,\n",
    "                          GRU,\n",
    "                          Dropout,\n",
    "                          Input)\n",
    "from keras.models import Sequential, Model, load_model\n",
    "from keras.callbacks import EarlyStopping, ReduceLROnPlateau, LearningRateScheduler\n",
    "from keras import backend as B\n",
    "\n",
    "# SKLearn\n",
    "from sklearn.model_selection import train_test_split, StratifiedKFold\n",
    "from sklearn.metrics import confusion_matrix, accuracy_score, balanced_accuracy_score\n",
    "from sklearn.utils import shuffle\n",
    "\n",
    "# Gensim\n",
    "from gensim.models import KeyedVectors\n",
    "\n",
    "# Mac Bug\n",
    "import os\n",
    "os.environ['KMP_DUPLICATE_LIB_OK'] = 'True'"
   ]
  },
  {
   "cell_type": "markdown",
   "metadata": {
    "colab_type": "text",
    "id": "uviIvQDzbGFU"
   },
   "source": [
    "# Load Data"
   ]
  },
  {
   "cell_type": "code",
   "execution_count": 2,
   "metadata": {
    "colab": {
     "base_uri": "https://localhost:8080/",
     "height": 34
    },
    "colab_type": "code",
    "id": "mZZMTzreoU-e",
    "outputId": "2cdbdde2-3cd0-427d-e36f-c22e887e877d"
   },
   "outputs": [],
   "source": [
    "path = '../data/'\n",
    "path_test = '../test/'\n",
    "word2vec_path = path + 'GoogleNews-vectors-negative300.bin'\n",
    "\n",
    "train_3_path = path + 'data_train_3.csv'\n",
    "test_3_path = path + 'data_test_3.csv'\n",
    "\n",
    "train_7_path = path + 'data_train_7.csv'\n",
    "train_7_1_path = path + 'data_test_7.csv'\n",
    "train_7_2_path = path + 'data_train_7_2.csv'"
   ]
  },
  {
   "cell_type": "code",
   "execution_count": 3,
   "metadata": {
    "colab": {
     "base_uri": "https://localhost:8080/",
     "height": 221
    },
    "colab_type": "code",
    "id": "X-NYAZ50puSd",
    "outputId": "149b023a-e516-4984-81db-302e21ae1db7"
   },
   "outputs": [
    {
     "data": {
      "text/html": [
       "<div>\n",
       "<style scoped>\n",
       "    .dataframe tbody tr th:only-of-type {\n",
       "        vertical-align: middle;\n",
       "    }\n",
       "\n",
       "    .dataframe tbody tr th {\n",
       "        vertical-align: top;\n",
       "    }\n",
       "\n",
       "    .dataframe thead th {\n",
       "        text-align: right;\n",
       "    }\n",
       "</style>\n",
       "<table border=\"1\" class=\"dataframe\">\n",
       "  <thead>\n",
       "    <tr style=\"text-align: right;\">\n",
       "      <th></th>\n",
       "      <th>id</th>\n",
       "      <th>class</th>\n",
       "      <th>text</th>\n",
       "    </tr>\n",
       "  </thead>\n",
       "  <tbody>\n",
       "    <tr>\n",
       "      <th>0</th>\n",
       "      <td>260097528899452929</td>\n",
       "      <td>0</td>\n",
       "      <td>Won the match #getin . Plus\\u002c tomorrow is ...</td>\n",
       "    </tr>\n",
       "    <tr>\n",
       "      <th>1</th>\n",
       "      <td>263791921753882624</td>\n",
       "      <td>0</td>\n",
       "      <td>Some areas of New England could see the first ...</td>\n",
       "    </tr>\n",
       "    <tr>\n",
       "      <th>2</th>\n",
       "      <td>264194578381410304</td>\n",
       "      <td>-1</td>\n",
       "      <td>@francesco_con40 2nd worst QB. DEFINITELY Tony...</td>\n",
       "    </tr>\n",
       "    <tr>\n",
       "      <th>3</th>\n",
       "      <td>264041328420204544</td>\n",
       "      <td>0</td>\n",
       "      <td>#Thailand Washington - US President Barack Oba...</td>\n",
       "    </tr>\n",
       "    <tr>\n",
       "      <th>4</th>\n",
       "      <td>263816256640126976</td>\n",
       "      <td>0</td>\n",
       "      <td>Did y\\u2019all hear what Tony Romo dressed up ...</td>\n",
       "    </tr>\n",
       "  </tbody>\n",
       "</table>\n",
       "</div>"
      ],
      "text/plain": [
       "                   id  class  \\\n",
       "0  260097528899452929      0   \n",
       "1  263791921753882624      0   \n",
       "2  264194578381410304     -1   \n",
       "3  264041328420204544      0   \n",
       "4  263816256640126976      0   \n",
       "\n",
       "                                                text  \n",
       "0  Won the match #getin . Plus\\u002c tomorrow is ...  \n",
       "1  Some areas of New England could see the first ...  \n",
       "2  @francesco_con40 2nd worst QB. DEFINITELY Tony...  \n",
       "3  #Thailand Washington - US President Barack Oba...  \n",
       "4  Did y\\u2019all hear what Tony Romo dressed up ...  "
      ]
     },
     "metadata": {},
     "output_type": "display_data"
    },
    {
     "name": "stdout",
     "output_type": "stream",
     "text": [
      "(50333, 3)\n"
     ]
    }
   ],
   "source": [
    "# Loading Data Set 3 Classes & Replacing Word 2 Int\n",
    "train_3_data = pd.read_csv(train_3_path, encoding='utf-8', sep='\\t', names=['id', 'class', 'text'])\n",
    "conv_dict = {'neutral': 0, 'positive': 1, 'negative': -1}\n",
    "train_3_data['class'] = train_3_data['class'].apply(lambda x: conv_dict[x])\n",
    "display(train_3_data.head())\n",
    "print(train_3_data.shape)"
   ]
  },
  {
   "cell_type": "code",
   "execution_count": 4,
   "metadata": {
    "colab": {
     "base_uri": "https://localhost:8080/",
     "height": 221
    },
    "colab_type": "code",
    "id": "OAiOSjrLUZXt",
    "outputId": "cadbd7c3-b384-411d-eec4-9238dc458b3a"
   },
   "outputs": [
    {
     "data": {
      "text/html": [
       "<div>\n",
       "<style scoped>\n",
       "    .dataframe tbody tr th:only-of-type {\n",
       "        vertical-align: middle;\n",
       "    }\n",
       "\n",
       "    .dataframe tbody tr th {\n",
       "        vertical-align: top;\n",
       "    }\n",
       "\n",
       "    .dataframe thead th {\n",
       "        text-align: right;\n",
       "    }\n",
       "</style>\n",
       "<table border=\"1\" class=\"dataframe\">\n",
       "  <thead>\n",
       "    <tr style=\"text-align: right;\">\n",
       "      <th></th>\n",
       "      <th>id</th>\n",
       "      <th>class</th>\n",
       "      <th>text</th>\n",
       "    </tr>\n",
       "  </thead>\n",
       "  <tbody>\n",
       "    <tr>\n",
       "      <th>0</th>\n",
       "      <td>264221473558917120</td>\n",
       "      <td>0</td>\n",
       "      <td>Manchester United will try to return to winnin...</td>\n",
       "    </tr>\n",
       "    <tr>\n",
       "      <th>1</th>\n",
       "      <td>264091690632105984</td>\n",
       "      <td>0</td>\n",
       "      <td>Going to a bulls game with Aaliyah &amp; hope next...</td>\n",
       "    </tr>\n",
       "    <tr>\n",
       "      <th>2</th>\n",
       "      <td>263929564907069441</td>\n",
       "      <td>0</td>\n",
       "      <td>Any Toon Fans with a spare ticket for Anfield ...</td>\n",
       "    </tr>\n",
       "    <tr>\n",
       "      <th>3</th>\n",
       "      <td>263759328782204928</td>\n",
       "      <td>1</td>\n",
       "      <td>Louis inspired outfit on Monday and Zayn inspi...</td>\n",
       "    </tr>\n",
       "    <tr>\n",
       "      <th>4</th>\n",
       "      <td>259546192722161664</td>\n",
       "      <td>0</td>\n",
       "      <td>going to bed now...Rose parade then game tomorrow</td>\n",
       "    </tr>\n",
       "  </tbody>\n",
       "</table>\n",
       "</div>"
      ],
      "text/plain": [
       "                   id  class  \\\n",
       "0  264221473558917120      0   \n",
       "1  264091690632105984      0   \n",
       "2  263929564907069441      0   \n",
       "3  263759328782204928      1   \n",
       "4  259546192722161664      0   \n",
       "\n",
       "                                                text  \n",
       "0  Manchester United will try to return to winnin...  \n",
       "1  Going to a bulls game with Aaliyah & hope next...  \n",
       "2  Any Toon Fans with a spare ticket for Anfield ...  \n",
       "3  Louis inspired outfit on Monday and Zayn inspi...  \n",
       "4  going to bed now...Rose parade then game tomorrow  "
      ]
     },
     "metadata": {},
     "output_type": "display_data"
    },
    {
     "name": "stdout",
     "output_type": "stream",
     "text": [
      "(1020, 3)\n"
     ]
    }
   ],
   "source": [
    "test_3_data = pd.read_csv(test_3_path, encoding='utf-8', sep='\\t', names=['id', 'class', 'text'])\n",
    "conv_dict = {'neutral': 0, 'positive': 1, 'negative': -1}\n",
    "test_3_data['class'] = test_3_data['class'].apply(lambda x: conv_dict[x])\n",
    "display(test_3_data.head())\n",
    "print(test_3_data.shape)"
   ]
  },
  {
   "cell_type": "code",
   "execution_count": 26,
   "metadata": {},
   "outputs": [
    {
     "data": {
      "text/html": [
       "<div>\n",
       "<style scoped>\n",
       "    .dataframe tbody tr th:only-of-type {\n",
       "        vertical-align: middle;\n",
       "    }\n",
       "\n",
       "    .dataframe tbody tr th {\n",
       "        vertical-align: top;\n",
       "    }\n",
       "\n",
       "    .dataframe thead th {\n",
       "        text-align: right;\n",
       "    }\n",
       "</style>\n",
       "<table border=\"1\" class=\"dataframe\">\n",
       "  <thead>\n",
       "    <tr style=\"text-align: right;\">\n",
       "      <th></th>\n",
       "      <th>text</th>\n",
       "      <th>class</th>\n",
       "    </tr>\n",
       "  </thead>\n",
       "  <tbody>\n",
       "    <tr>\n",
       "      <th>0</th>\n",
       "      <td>Won the match #getin . Plus\\u002c tomorrow is ...</td>\n",
       "      <td>0</td>\n",
       "    </tr>\n",
       "    <tr>\n",
       "      <th>1</th>\n",
       "      <td>Some areas of New England could see the first ...</td>\n",
       "      <td>0</td>\n",
       "    </tr>\n",
       "    <tr>\n",
       "      <th>2</th>\n",
       "      <td>@francesco_con40 2nd worst QB. DEFINITELY Tony...</td>\n",
       "      <td>-1</td>\n",
       "    </tr>\n",
       "    <tr>\n",
       "      <th>3</th>\n",
       "      <td>#Thailand Washington - US President Barack Oba...</td>\n",
       "      <td>0</td>\n",
       "    </tr>\n",
       "    <tr>\n",
       "      <th>4</th>\n",
       "      <td>Did y\\u2019all hear what Tony Romo dressed up ...</td>\n",
       "      <td>0</td>\n",
       "    </tr>\n",
       "  </tbody>\n",
       "</table>\n",
       "</div>"
      ],
      "text/plain": [
       "                                                text  class\n",
       "0  Won the match #getin . Plus\\u002c tomorrow is ...      0\n",
       "1  Some areas of New England could see the first ...      0\n",
       "2  @francesco_con40 2nd worst QB. DEFINITELY Tony...     -1\n",
       "3  #Thailand Washington - US President Barack Oba...      0\n",
       "4  Did y\\u2019all hear what Tony Romo dressed up ...      0"
      ]
     },
     "metadata": {},
     "output_type": "display_data"
    },
    {
     "name": "stdout",
     "output_type": "stream",
     "text": [
      "(51353, 2)\n"
     ]
    }
   ],
   "source": [
    "data_3 = train_3_data.append(test_3_data)\n",
    "data_3.drop('id', axis=1, inplace=True)\n",
    "data_3 = data_3[['text', 'class']]\n",
    "data_3.to_csv('data3.csv', sep='\\t', index=False, header=False)\n",
    "display(data_3.head())\n",
    "print(data_3.shape)\n"
   ]
  },
  {
   "cell_type": "code",
   "execution_count": 18,
   "metadata": {
    "colab": {
     "base_uri": "https://localhost:8080/",
     "height": 221
    },
    "colab_type": "code",
    "id": "R97ya871puy9",
    "outputId": "c4b21b34-5df9-4aac-bb7c-7841903309ac"
   },
   "outputs": [
    {
     "data": {
      "text/html": [
       "<div>\n",
       "<style scoped>\n",
       "    .dataframe tbody tr th:only-of-type {\n",
       "        vertical-align: middle;\n",
       "    }\n",
       "\n",
       "    .dataframe tbody tr th {\n",
       "        vertical-align: top;\n",
       "    }\n",
       "\n",
       "    .dataframe thead th {\n",
       "        text-align: right;\n",
       "    }\n",
       "</style>\n",
       "<table border=\"1\" class=\"dataframe\">\n",
       "  <thead>\n",
       "    <tr style=\"text-align: right;\">\n",
       "      <th></th>\n",
       "      <th>id</th>\n",
       "      <th>class</th>\n",
       "      <th>text</th>\n",
       "    </tr>\n",
       "  </thead>\n",
       "  <tbody>\n",
       "    <tr>\n",
       "      <th>0</th>\n",
       "      <td>0</td>\n",
       "      <td>0</td>\n",
       "      <td>@liamch88 yeah! :) playing well</td>\n",
       "    </tr>\n",
       "    <tr>\n",
       "      <th>1</th>\n",
       "      <td>1</td>\n",
       "      <td>0</td>\n",
       "      <td>At least I don't have a guy trying to discoura...</td>\n",
       "    </tr>\n",
       "    <tr>\n",
       "      <th>2</th>\n",
       "      <td>2</td>\n",
       "      <td>0</td>\n",
       "      <td>UPLIFT: If you're still discouraged it means y...</td>\n",
       "    </tr>\n",
       "    <tr>\n",
       "      <th>3</th>\n",
       "      <td>3</td>\n",
       "      <td>0</td>\n",
       "      <td>...at your age, the heyday in the blood is tam...</td>\n",
       "    </tr>\n",
       "    <tr>\n",
       "      <th>4</th>\n",
       "      <td>4</td>\n",
       "      <td>-2</td>\n",
       "      <td>i was so embarrassed when she saw us i was lik...</td>\n",
       "    </tr>\n",
       "  </tbody>\n",
       "</table>\n",
       "</div>"
      ],
      "text/plain": [
       "   id  class                                               text\n",
       "0   0      0                   @liamch88 yeah! :) playing well \n",
       "1   1      0  At least I don't have a guy trying to discoura...\n",
       "2   2      0  UPLIFT: If you're still discouraged it means y...\n",
       "3   3      0  ...at your age, the heyday in the blood is tam...\n",
       "4   4     -2  i was so embarrassed when she saw us i was lik..."
      ]
     },
     "metadata": {},
     "output_type": "display_data"
    },
    {
     "name": "stdout",
     "output_type": "stream",
     "text": [
      "(1630, 3)\n"
     ]
    }
   ],
   "source": [
    "# Loading Data Set 7 Classes\n",
    "train_7_data = pd.read_csv(train_7_path, encoding='utf-8', sep='\\t', names=['id', 'class', 'text'])\n",
    "display(train_7_data.head())\n",
    "print(train_7_data.shape)"
   ]
  },
  {
   "cell_type": "code",
   "execution_count": 19,
   "metadata": {},
   "outputs": [
    {
     "data": {
      "text/html": [
       "<div>\n",
       "<style scoped>\n",
       "    .dataframe tbody tr th:only-of-type {\n",
       "        vertical-align: middle;\n",
       "    }\n",
       "\n",
       "    .dataframe tbody tr th {\n",
       "        vertical-align: top;\n",
       "    }\n",
       "\n",
       "    .dataframe thead th {\n",
       "        text-align: right;\n",
       "    }\n",
       "</style>\n",
       "<table border=\"1\" class=\"dataframe\">\n",
       "  <thead>\n",
       "    <tr style=\"text-align: right;\">\n",
       "      <th></th>\n",
       "      <th>id</th>\n",
       "      <th>text</th>\n",
       "      <th>class</th>\n",
       "    </tr>\n",
       "  </thead>\n",
       "  <tbody>\n",
       "    <tr>\n",
       "      <th>0</th>\n",
       "      <td>2018-En-02354</td>\n",
       "      <td>So @Ryanair site crashes everytime I try to bo...</td>\n",
       "      <td>-3</td>\n",
       "    </tr>\n",
       "    <tr>\n",
       "      <th>1</th>\n",
       "      <td>2018-En-00124</td>\n",
       "      <td>Theme of week: Ask the Lord for strength &amp;amp;...</td>\n",
       "      <td>-2</td>\n",
       "    </tr>\n",
       "    <tr>\n",
       "      <th>2</th>\n",
       "      <td>2018-En-02603</td>\n",
       "      <td>@F1 Why announcing so late, it will be hard to...</td>\n",
       "      <td>-3</td>\n",
       "    </tr>\n",
       "    <tr>\n",
       "      <th>3</th>\n",
       "      <td>2018-En-00450</td>\n",
       "      <td>The greatest happiness is seeing someone you l...</td>\n",
       "      <td>3</td>\n",
       "    </tr>\n",
       "    <tr>\n",
       "      <th>4</th>\n",
       "      <td>2018-En-00502</td>\n",
       "      <td>omg so grateful to have an education but ive b...</td>\n",
       "      <td>1</td>\n",
       "    </tr>\n",
       "  </tbody>\n",
       "</table>\n",
       "</div>"
      ],
      "text/plain": [
       "              id                                               text  class\n",
       "0  2018-En-02354  So @Ryanair site crashes everytime I try to bo...     -3\n",
       "1  2018-En-00124  Theme of week: Ask the Lord for strength &amp;...     -2\n",
       "2  2018-En-02603  @F1 Why announcing so late, it will be hard to...     -3\n",
       "3  2018-En-00450  The greatest happiness is seeing someone you l...      3\n",
       "4  2018-En-00502  omg so grateful to have an education but ive b...      1"
      ]
     },
     "metadata": {},
     "output_type": "display_data"
    },
    {
     "name": "stdout",
     "output_type": "stream",
     "text": [
      "(449, 3)\n"
     ]
    }
   ],
   "source": [
    "# Loading Data Set 7 Classes\n",
    "train_7_2_data = pd.read_csv(train_7_2_path, encoding='utf-8', sep='\\t')\n",
    "train_7_2_data = train_7_2_data.rename(columns={\"Tweet\": \"text\", \"Intensity Class\": \"class\", \"ID\": \"id\"})\n",
    "train_7_2_data.drop('Affect Dimension', axis=1, inplace=True)\n",
    "train_7_2_data['class'] = train_7_2_data['class'].apply(lambda x: int(x.split(':')[0]))\n",
    "display(train_7_2_data.head())\n",
    "print(train_7_2_data.shape)"
   ]
  },
  {
   "cell_type": "code",
   "execution_count": 20,
   "metadata": {},
   "outputs": [
    {
     "data": {
      "text/html": [
       "<div>\n",
       "<style scoped>\n",
       "    .dataframe tbody tr th:only-of-type {\n",
       "        vertical-align: middle;\n",
       "    }\n",
       "\n",
       "    .dataframe tbody tr th {\n",
       "        vertical-align: top;\n",
       "    }\n",
       "\n",
       "    .dataframe thead th {\n",
       "        text-align: right;\n",
       "    }\n",
       "</style>\n",
       "<table border=\"1\" class=\"dataframe\">\n",
       "  <thead>\n",
       "    <tr style=\"text-align: right;\">\n",
       "      <th></th>\n",
       "      <th>id</th>\n",
       "      <th>text</th>\n",
       "      <th>class</th>\n",
       "    </tr>\n",
       "  </thead>\n",
       "  <tbody>\n",
       "    <tr>\n",
       "      <th>0</th>\n",
       "      <td>2017-En-30153</td>\n",
       "      <td>@liamch88 yeah! :) playing well</td>\n",
       "      <td>0</td>\n",
       "    </tr>\n",
       "    <tr>\n",
       "      <th>1</th>\n",
       "      <td>2017-En-40929</td>\n",
       "      <td>At least I don't have a guy trying to discoura...</td>\n",
       "      <td>0</td>\n",
       "    </tr>\n",
       "    <tr>\n",
       "      <th>2</th>\n",
       "      <td>2017-En-22012</td>\n",
       "      <td>UPLIFT: If you're still discouraged it means y...</td>\n",
       "      <td>0</td>\n",
       "    </tr>\n",
       "    <tr>\n",
       "      <th>3</th>\n",
       "      <td>2017-En-30837</td>\n",
       "      <td>...at your age, the heyday in the blood is tam...</td>\n",
       "      <td>0</td>\n",
       "    </tr>\n",
       "    <tr>\n",
       "      <th>4</th>\n",
       "      <td>2017-En-30838</td>\n",
       "      <td>i was so embarrassed when she saw us i was lik...</td>\n",
       "      <td>-2</td>\n",
       "    </tr>\n",
       "  </tbody>\n",
       "</table>\n",
       "</div>"
      ],
      "text/plain": [
       "              id                                               text  class\n",
       "0  2017-En-30153                   @liamch88 yeah! :) playing well       0\n",
       "1  2017-En-40929  At least I don't have a guy trying to discoura...      0\n",
       "2  2017-En-22012  UPLIFT: If you're still discouraged it means y...      0\n",
       "3  2017-En-30837  ...at your age, the heyday in the blood is tam...      0\n",
       "4  2017-En-30838  i was so embarrassed when she saw us i was lik...     -2"
      ]
     },
     "metadata": {},
     "output_type": "display_data"
    },
    {
     "name": "stdout",
     "output_type": "stream",
     "text": [
      "(1181, 3)\n"
     ]
    }
   ],
   "source": [
    "# Loading Data Set 7 Classes\n",
    "train_7_1_data = pd.read_csv(train_7_1_path, encoding='utf-8', sep='\\t')\n",
    "train_7_1_data = train_7_1_data.rename(columns={\"Tweet\": \"text\", \"Intensity Class\": \"class\", \"ID\": \"id\"})\n",
    "train_7_1_data.drop('Affect Dimension', axis=1, inplace=True)\n",
    "train_7_1_data['class'] = train_7_1_data['class'].apply(lambda x: int(x.split(':')[0]))\n",
    "display(train_7_1_data.head())\n",
    "print(train_7_1_data.shape)"
   ]
  },
  {
   "cell_type": "code",
   "execution_count": 27,
   "metadata": {},
   "outputs": [
    {
     "data": {
      "text/html": [
       "<div>\n",
       "<style scoped>\n",
       "    .dataframe tbody tr th:only-of-type {\n",
       "        vertical-align: middle;\n",
       "    }\n",
       "\n",
       "    .dataframe tbody tr th {\n",
       "        vertical-align: top;\n",
       "    }\n",
       "\n",
       "    .dataframe thead th {\n",
       "        text-align: right;\n",
       "    }\n",
       "</style>\n",
       "<table border=\"1\" class=\"dataframe\">\n",
       "  <thead>\n",
       "    <tr style=\"text-align: right;\">\n",
       "      <th></th>\n",
       "      <th>text</th>\n",
       "      <th>class</th>\n",
       "    </tr>\n",
       "  </thead>\n",
       "  <tbody>\n",
       "    <tr>\n",
       "      <th>0</th>\n",
       "      <td>@liamch88 yeah! :) playing well</td>\n",
       "      <td>0</td>\n",
       "    </tr>\n",
       "    <tr>\n",
       "      <th>1</th>\n",
       "      <td>At least I don't have a guy trying to discoura...</td>\n",
       "      <td>0</td>\n",
       "    </tr>\n",
       "    <tr>\n",
       "      <th>2</th>\n",
       "      <td>UPLIFT: If you're still discouraged it means y...</td>\n",
       "      <td>0</td>\n",
       "    </tr>\n",
       "    <tr>\n",
       "      <th>3</th>\n",
       "      <td>...at your age, the heyday in the blood is tam...</td>\n",
       "      <td>0</td>\n",
       "    </tr>\n",
       "    <tr>\n",
       "      <th>4</th>\n",
       "      <td>i was so embarrassed when she saw us i was lik...</td>\n",
       "      <td>-2</td>\n",
       "    </tr>\n",
       "  </tbody>\n",
       "</table>\n",
       "</div>"
      ],
      "text/plain": [
       "                                                text  class\n",
       "0                   @liamch88 yeah! :) playing well       0\n",
       "1  At least I don't have a guy trying to discoura...      0\n",
       "2  UPLIFT: If you're still discouraged it means y...      0\n",
       "3  ...at your age, the heyday in the blood is tam...      0\n",
       "4  i was so embarrassed when she saw us i was lik...     -2"
      ]
     },
     "metadata": {},
     "output_type": "display_data"
    },
    {
     "name": "stdout",
     "output_type": "stream",
     "text": [
      "(3260, 2)\n"
     ]
    }
   ],
   "source": [
    "data_7 = train_7_data.append(train_7_2_data, sort=True).append(train_7_1_data, sort=True)\n",
    "data_7.drop('id', inplace=True, axis=1)\n",
    "data_7 = data_7[['text', 'class']]\n",
    "data_7.to_csv('data7.csv', sep='\\t', index=False, header=False)\n",
    "display(data_7.head())\n",
    "print(data_7.shape)"
   ]
  },
  {
   "cell_type": "markdown",
   "metadata": {
    "colab_type": "text",
    "id": "W_s09wu8bWjt"
   },
   "source": [
    "# Preprocessing"
   ]
  },
  {
   "cell_type": "code",
   "execution_count": 42,
   "metadata": {
    "colab": {},
    "colab_type": "code",
    "id": "NZjPjPnIE6DF"
   },
   "outputs": [],
   "source": [
    "smileys = {\n",
    "  \":‑)\": \"smiley\",\n",
    "  \":-]\": \"smiley\",\n",
    "  \":-3\": \"smiley\",\n",
    "  \":->\": \"smiley\",\n",
    "  \"8-)\": \"smiley\",\n",
    "  \":-}\": \"smiley\",\n",
    "  \":)\": \"smiley\",\n",
    "  \":]\": \"smiley\",\n",
    "  \":3\": \"smiley\",\n",
    "  \":>\": \"smiley\",\n",
    "  \"8)\": \"smiley\",\n",
    "  \":}\": \"smiley\",\n",
    "  \":o)\": \"smiley\",\n",
    "  \":c)\": \"smiley\",\n",
    "  \":^)\": \"smiley\",\n",
    "  \"=]\": \"smiley\",\n",
    "  \"=)\": \"smiley\",\n",
    "  \":-))\": \"smiley\",\n",
    "  \":‑D\": \"smiley\",\n",
    "  \"8‑D\": \"smiley\",\n",
    "  \"x‑D\": \"smiley\",\n",
    "  \"X‑D\": \"smiley\",\n",
    "  \":D\": \"smiley\",\n",
    "  \"8D\": \"smiley\",\n",
    "  \"xD\": \"smiley\",\n",
    "  \"XD\": \"smiley\",\n",
    "  \">:D\": \"smiley\",\n",
    "  \":‑(\": \"sad\",\n",
    "  \":‑c\": \"sad\",\n",
    "  \":‑<\": \"sad\",\n",
    "  \":‑[\": \"sad\",\n",
    "  \":(\": \"sad\",\n",
    "  \":c\": \"sad\",\n",
    "  \":<\": \"sad\",\n",
    "  \":[\": \"sad\",\n",
    "  \":-||\": \"sad\",\n",
    "  \">:[\": \"sad\",\n",
    "  \":{\": \"sad\",\n",
    "  \":@\": \"sad\",\n",
    "  \">:(\": \"sad\",\n",
    "  \":'‑(\": \"sad\",\n",
    "  \":'(\": \"sad\",\n",
    "  \":‑P\": \"playful\",\n",
    "  \"X‑P\": \"playful\",\n",
    "  \"x‑p\": \"playful\",\n",
    "  \":‑p\": \"playful\",\n",
    "  \":‑Þ\": \"playful\",\n",
    "  \":‑þ\": \"playful\",\n",
    "  \":‑b\": \"playful\",\n",
    "  \":P\": \"playful\",\n",
    "  \"XP\": \"playful\",\n",
    "  \"xp\": \"playful\",\n",
    "  \":p\": \"playful\",\n",
    "  \":Þ\": \"playful\",\n",
    "  \":þ\": \"playful\",\n",
    "  \":b\": \"playful\",\n",
    "  \"<3\": \"love\"\n",
    "}\n",
    "\n",
    "contractions = {\n",
    "  \"ain't\": \"is not\",\n",
    "  \"amn't\": \"am not\",\n",
    "  \"aren't\": \"are not\",\n",
    "  \"can't\": \"cannot\",\n",
    "  \"'cause\": \"because\",\n",
    "  \"couldn't\": \"could not\",\n",
    "  \"couldn't've\": \"could not have\",\n",
    "  \"could've\": \"could have\",\n",
    "  \"daren't\": \"dare not\",\n",
    "  \"daresn't\": \"dare not\",\n",
    "  \"dasn't\": \"dare not\",\n",
    "  \"didn't\": \"did not\",\n",
    "  \"doesn't\": \"does not\",\n",
    "  \"don't\": \"do not\",\n",
    "  \"e'er\": \"ever\",\n",
    "  \"em\": \"them\",\n",
    "  \"everyone's\": \"everyone is\",\n",
    "  \"finna\": \"fixing to\",\n",
    "  \"gimme\": \"give me\",\n",
    "  \"gonna\": \"going to\",\n",
    "  \"gon't\": \"go not\",\n",
    "  \"gotta\": \"got to\",\n",
    "  \"hadn't\": \"had not\",\n",
    "  \"hasn't\": \"has not\",\n",
    "  \"haven't\": \"have not\",\n",
    "  \"he'd\": \"he would\",\n",
    "  \"he'll\": \"he will\",\n",
    "  \"he's\": \"he is\",\n",
    "  \"he've\": \"he have\",\n",
    "  \"how'd\": \"how would\",\n",
    "  \"how'll\": \"how will\",\n",
    "  \"how're\": \"how are\",\n",
    "  \"how's\": \"how is\",\n",
    "  \"I'd\": \"I would\",\n",
    "  \"I'll\": \"I will\",\n",
    "  \"I'm\": \"I am\",\n",
    "  \"I'm'a\": \"I am about to\",\n",
    "  \"I'm'o\": \"I am going to\",\n",
    "  \"isn't\": \"is not\",\n",
    "  \"it'd\": \"it would\",\n",
    "  \"it'll\": \"it will\",\n",
    "  \"it's\": \"it is\",\n",
    "  \"I've\": \"I have\",\n",
    "  \"kinda\": \"kind of\",\n",
    "  \"let's\": \"let us\",\n",
    "  \"mayn't\": \"may not\",\n",
    "  \"may've\": \"may have\",\n",
    "  \"mightn't\": \"might not\",\n",
    "  \"might've\": \"might have\",\n",
    "  \"mustn't\": \"must not\",\n",
    "  \"mustn't've\": \"must not have\",\n",
    "  \"must've\": \"must have\",\n",
    "  \"needn't\": \"need not\",\n",
    "  \"ne'er\": \"never\",\n",
    "  \"o'\": \"of\",\n",
    "  \"o'er\": \"over\",\n",
    "  \"ol'\": \"old\",\n",
    "  \"oughtn't\": \"ought not\",\n",
    "  \"shalln't\": \"shall not\",\n",
    "  \"shan't\": \"shall not\",\n",
    "  \"she'd\": \"she would\",\n",
    "  \"she'll\": \"she will\",\n",
    "  \"she's\": \"she is\",\n",
    "  \"shouldn't\": \"should not\",\n",
    "  \"shouldn't've\": \"should not have\",\n",
    "  \"should've\": \"should have\",\n",
    "  \"somebody's\": \"somebody is\",\n",
    "  \"someone's\": \"someone is\",\n",
    "  \"something's\": \"something is\",\n",
    "  \"that'd\": \"that would\",\n",
    "  \"that'll\": \"that will\",\n",
    "  \"that're\": \"that are\",\n",
    "  \"that's\": \"that is\",\n",
    "  \"there'd\": \"there would\",\n",
    "  \"there'll\": \"there will\",\n",
    "  \"there're\": \"there are\",\n",
    "  \"there's\": \"there is\",\n",
    "  \"these're\": \"these are\",\n",
    "  \"they'd\": \"they would\",\n",
    "  \"they'll\": \"they will\",\n",
    "  \"they're\": \"they are\",\n",
    "  \"they've\": \"they have\",\n",
    "  \"this's\": \"this is\",\n",
    "  \"those're\": \"those are\",\n",
    "  \"'tis\": \"it is\",\n",
    "  \"'twas\": \"it was\",\n",
    "  \"wanna\": \"want to\",\n",
    "  \"wasn't\": \"was not\",\n",
    "  \"we'd\": \"we would\",\n",
    "  \"we'd've\": \"we would have\",\n",
    "  \"we'll\": \"we will\",\n",
    "  \"we're\": \"we are\",\n",
    "  \"weren't\": \"were not\",\n",
    "  \"we've\": \"we have\",\n",
    "  \"what'd\": \"what did\",\n",
    "  \"what'll\": \"what will\",\n",
    "  \"what're\": \"what are\",\n",
    "  \"what's\": \"what is\",\n",
    "  \"what've\": \"what have\",\n",
    "  \"when's\": \"when is\",\n",
    "  \"where'd\": \"where did\",\n",
    "  \"where're\": \"where are\",\n",
    "  \"where's\": \"where is\",\n",
    "  \"where've\": \"where have\",\n",
    "  \"which's\": \"which is\",\n",
    "  \"who'd\": \"who would\",\n",
    "  \"who'd've\": \"who would have\",\n",
    "  \"who'll\": \"who will\",\n",
    "  \"who're\": \"who are\",\n",
    "  \"who's\": \"who is\",\n",
    "  \"who've\": \"who have\",\n",
    "  \"why'd\": \"why did\",\n",
    "  \"why're\": \"why are\",\n",
    "  \"why's\": \"why is\",\n",
    "  \"won't\": \"will not\",\n",
    "  \"wouldn't\": \"would not\",\n",
    "  \"would've\": \"would have\",\n",
    "  \"y'all\": \"you all\",\n",
    "  \"you'd\": \"you would\",\n",
    "  \"you'll\": \"you will\",\n",
    "  \"you're\": \"you are\",\n",
    "  \"you've\": \"you have\",\n",
    "  \"Whatcha\": \"What are you\",\n",
    "  \"luv\": \"love\",\n",
    "  \"sux\": \"sucks\"\n",
    "}"
   ]
  },
  {
   "cell_type": "code",
   "execution_count": 43,
   "metadata": {
    "colab": {},
    "colab_type": "code",
    "id": "QNdFrKNeuJ9t"
   },
   "outputs": [],
   "source": [
    "tknzr = TweetTokenizer()\n",
    "notstopwords = set(('not', 'no'))\n",
    "my_stopwords = set(stopwords.words('english')) - notstopwords\n",
    "\n",
    "def standardization(tweet):\n",
    "    # Smileys\n",
    "    tweet = emoji.demojize(tweet).replace(':', '').replace('_', ' ')\n",
    "    \n",
    "    # Hashtag & Tag & URL & Unicode\n",
    "    tweet = re.sub(r'(\\\\u[0-9A-Fa-f]+)', ' ', tweet)\n",
    "    tweet = re.sub(r'[^\\x00-\\x7F]+', ' ', tweet)\n",
    "    tweet = re.sub(r'http\\S+', '', tweet)\n",
    "    tweet = re.sub(r\"@\\w+\", '', tweet)\n",
    "    tweet = re.sub(r\"#\\w+\", '', tweet)\n",
    "    \n",
    "    # Tokenizer\n",
    "    tknzr = TweetTokenizer()\n",
    "    tweet = tknzr.tokenize(tweet)\n",
    "    \n",
    "    # Emojis\n",
    "    tweet = [smileys[i] if i in smileys else i for i in tweet]\n",
    "    tweet = ' '.join(tweet)\n",
    "    \n",
    "    # Lower\n",
    "    tweet = tweet.lower()\n",
    "\n",
    "    # Tokenizing & Stopwords\n",
    "    tweet = tknzr.tokenize(tweet)\n",
    "    tweet = [i for i in tweet if (i not in my_stopwords) and (i not in punctuation)]\n",
    "    tweet = [contractions[i] if i in contractions else i for i in tweet]\n",
    "    \n",
    "    # Join\n",
    "    tweet = ' '.join(tweet)\n",
    "    \n",
    "    return tweet"
   ]
  },
  {
   "cell_type": "code",
   "execution_count": 44,
   "metadata": {
    "colab": {},
    "colab_type": "code",
    "id": "1QBnjNhoDyVb"
   },
   "outputs": [],
   "source": [
    "# Applying Standardization\n",
    "train_3_data['text'] = train_3_data['text'].apply(standardization)\n",
    "test_3_data['text'] = test_3_data['text'].apply(standardization)\n",
    "train_7_data['text'] = train_7_data['text'].apply(standardization)"
   ]
  },
  {
   "cell_type": "code",
   "execution_count": 45,
   "metadata": {
    "colab": {},
    "colab_type": "code",
    "id": "1cXE06yeCAN-"
   },
   "outputs": [],
   "source": [
    "# Fitting Tokenizer & Calculating Max Seq Length\n",
    "all_tweets = train_3_data['text'].append(train_7_data['text']).append(test_3_data['text'])\n",
    "MAX_SEQUENCE_LENGTH = 103 # int(all_tweets.str.len().max() * 0.75)\n",
    "tokenizer = Tokenizer(filters=' ')\n",
    "tokenizer.fit_on_texts(all_tweets)\n",
    "word_index = tokenizer.word_index"
   ]
  },
  {
   "cell_type": "code",
   "execution_count": 46,
   "metadata": {
    "colab": {},
    "colab_type": "code",
    "id": "cb2rOOWoCC8s"
   },
   "outputs": [],
   "source": [
    "# Applying Text To Sequences\n",
    "train_3_data['text'] = tokenizer.texts_to_sequences(train_3_data['text'])\n",
    "test_3_data['text'] = tokenizer.texts_to_sequences(test_3_data['text'])\n",
    "train_7_data['text'] = tokenizer.texts_to_sequences(train_7_data['text'])"
   ]
  },
  {
   "cell_type": "code",
   "execution_count": 47,
   "metadata": {
    "colab": {},
    "colab_type": "code",
    "id": "SjNLN79EJwNH"
   },
   "outputs": [],
   "source": [
    "# Applying Padding\n",
    "train_3_data['text'] = train_3_data['text'].apply(lambda x: pad_sequences([x], maxlen=MAX_SEQUENCE_LENGTH)[0])\n",
    "test_3_data['text'] = test_3_data['text'].apply(lambda x: pad_sequences([x], maxlen=MAX_SEQUENCE_LENGTH)[0])\n",
    "train_7_data['text'] = train_7_data['text'].apply(lambda x: pad_sequences([x], maxlen=MAX_SEQUENCE_LENGTH)[0])"
   ]
  },
  {
   "cell_type": "code",
   "execution_count": 48,
   "metadata": {
    "colab": {},
    "colab_type": "code",
    "id": "KmLL-3smqvDZ"
   },
   "outputs": [],
   "source": [
    "class DataGenerator:\n",
    "    def __init__(self, df, word2vec, max_size, nb_classes, batch_size):\n",
    "        self.df = df\n",
    "        self.word2vec = word2vec\n",
    "        self.max_size = max_size\n",
    "        self.nb_classes = nb_classes\n",
    "        self.data_set_size = len(df)\n",
    "        self.batch_size = batch_size\n",
    "        self.step = len(df) // batch_size + (1 if self.data_set_size % self.batch_size else 0)\n",
    "\n",
    "    def getXAt(self, index):\n",
    "        return np.array(self.df.iloc[index]['text'])\n",
    "\n",
    "    def getYAt(self, index):\n",
    "        res = np.zeros(self.nb_classes)\n",
    "        res[self.nb_classes // 2 + self.df.iloc[index]['class']] = 1\n",
    "        return res\n",
    "\n",
    "    def getWeights(self):\n",
    "        WEIGHTS = {}\n",
    "        nb_classes = []\n",
    "        for i in range(self.nb_classes):\n",
    "            nb_classes.append(self.df[self.df['class'] == (i - self.nb_classes // 2)].shape[0])\n",
    "        for i in range(self.nb_classes):\n",
    "            WEIGHTS[i] = max(nb_classes) / nb_classes[i]\n",
    "        return WEIGHTS\n",
    "\n",
    "    def getGenerator(self):\n",
    "        while True:\n",
    "            for idx in range(self.step):\n",
    "                batch_x = np.array([self.getXAt(index) for index in range(idx * self.batch_size, min((idx + 1) * self.batch_size, self.data_set_size))])\n",
    "                batch_y = np.array([self.getYAt(index) for index in range(idx * self.batch_size, min((idx + 1) * self.batch_size, self.data_set_size))])\n",
    "                yield batch_x, batch_y\n",
    "\n",
    "    def getInputGenerator(self):\n",
    "        for idx in range(self.step):\n",
    "            batch_x = [self.getXAt(index) for index in range(idx * self.batch_size, min((idx + 1) * self.batch_size, self.data_set_size))]\n",
    "            yield np.array(batch_x)"
   ]
  },
  {
   "cell_type": "code",
   "execution_count": 49,
   "metadata": {
    "colab": {
     "base_uri": "https://localhost:8080/",
     "height": 394
    },
    "colab_type": "code",
    "id": "6xvg2mzHHDRc",
    "outputId": "6d2cee6a-57a4-4f58-9205-47d70b4a13c9"
   },
   "outputs": [],
   "source": [
    "# Word2Vec\n",
    "EMBEDDING_DIM = 300\n",
    "word2vec = KeyedVectors.load_word2vec_format(word2vec_path, binary=True)"
   ]
  },
  {
   "cell_type": "code",
   "execution_count": 50,
   "metadata": {
    "colab": {},
    "colab_type": "code",
    "id": "aDELg_ItpPSh"
   },
   "outputs": [
    {
     "name": "stdout",
     "output_type": "stream",
     "text": [
      "Embedding Matrix is empty at 41.61729207812157%\n"
     ]
    }
   ],
   "source": [
    "# Default Vector\n",
    "default_vector = (np.random.rand(EMBEDDING_DIM) * 2.0) - 1\n",
    "default_vector /= np.linalg.norm(default_vector)\n",
    "\n",
    "# Number of words\n",
    "nb_words = len(word_index) + 1\n",
    "\n",
    "# Embeddings Matrix\n",
    "embedding_matrix = np.zeros((nb_words, EMBEDDING_DIM))\n",
    "cpt = 0\n",
    "for word, i in word_index.items():\n",
    "    if word in word2vec.vocab:\n",
    "        embedding_matrix[i] = word2vec.word_vec(word)\n",
    "    else:\n",
    "        embedding_matrix[i] = default_vector\n",
    "        cpt += 1\n",
    "print('Embedding Matrix is empty at {}%'.format(100 * cpt / len(embedding_matrix)))"
   ]
  },
  {
   "cell_type": "markdown",
   "metadata": {},
   "source": [
    "# Custom Metrics"
   ]
  },
  {
   "cell_type": "code",
   "execution_count": 51,
   "metadata": {},
   "outputs": [],
   "source": [
    "def distance(y_true, y_pred):\n",
    "    return B.square(B.argmax(y_true) - B.argmax(y_pred))"
   ]
  },
  {
   "cell_type": "markdown",
   "metadata": {},
   "source": [
    "# Training"
   ]
  },
  {
   "cell_type": "code",
   "execution_count": 47,
   "metadata": {
    "colab": {},
    "colab_type": "code",
    "id": "Bz0-XjH9ednT"
   },
   "outputs": [
    {
     "name": "stdout",
     "output_type": "stream",
     "text": [
      "{0: 2.8995031255008814, 1: 1.0, 2: 1.1350944343351947}\n"
     ]
    }
   ],
   "source": [
    "# Parameters\n",
    "BATCH_SIZE = 32\n",
    "LEARNING_RATE = 0.01\n",
    "EPOCHS = 32\n",
    "PATIENCE = 8\n",
    "LR_PATIENCE = 3\n",
    "train_df, val_df = train_test_split(train_3_data, test_size=0.2, random_state=1)\n",
    "TRAINING_GENERATOR = DataGenerator(train_df, word2vec, MAX_SEQUENCE_LENGTH, 3, BATCH_SIZE)\n",
    "VALIDATION_GENERATOR = DataGenerator(val_df, word2vec, MAX_SEQUENCE_LENGTH, 3, BATCH_SIZE)\n",
    "WEIGHTS = TRAINING_GENERATOR.getWeights()\n",
    "STEPS_PER_EPOCH = TRAINING_GENERATOR.step\n",
    "VALIDATION_STEPS = VALIDATION_GENERATOR.step\n",
    "print(WEIGHTS)"
   ]
  },
  {
   "cell_type": "code",
   "execution_count": 22,
   "metadata": {
    "scrolled": false
   },
   "outputs": [
    {
     "name": "stdout",
     "output_type": "stream",
     "text": [
      "Model: \"sequential_2\"\n",
      "_________________________________________________________________\n",
      "Layer (type)                 Output Shape              Param #   \n",
      "=================================================================\n",
      "embedding_layer_model_1 (Emb (None, 103, 300)          13311300  \n",
      "_________________________________________________________________\n",
      "gru_2 (GRU)                  (None, 64)                70080     \n",
      "_________________________________________________________________\n",
      "dense_1_model_1 (Dense)      (None, 128)               8320      \n",
      "_________________________________________________________________\n",
      "drop_out_1_model_1 (Dropout) (None, 128)               0         \n",
      "_________________________________________________________________\n",
      "output_layer_model_1 (Dense) (None, 3)                 387       \n",
      "=================================================================\n",
      "Total params: 13,390,087\n",
      "Trainable params: 78,787\n",
      "Non-trainable params: 13,311,300\n",
      "_________________________________________________________________\n",
      "Epoch 1/32\n",
      "1259/1259 [==============================] - 32s 25ms/step - loss: 0.8858 - accuracy: 0.5688 - distance: 0.5463 - val_loss: 0.7572 - val_accuracy: 0.6178 - val_distance: 0.5032\n",
      "Epoch 2/32\n",
      "1259/1259 [==============================] - 31s 25ms/step - loss: 0.7989 - accuracy: 0.6246 - distance: 0.4819 - val_loss: 0.7529 - val_accuracy: 0.6420 - val_distance: 0.4686\n",
      "Epoch 3/32\n",
      "1259/1259 [==============================] - 31s 25ms/step - loss: 0.7765 - accuracy: 0.6397 - distance: 0.4593 - val_loss: 0.7622 - val_accuracy: 0.6498 - val_distance: 0.4565\n",
      "Epoch 4/32\n",
      "1259/1259 [==============================] - 31s 25ms/step - loss: 0.7607 - accuracy: 0.6484 - distance: 0.4493 - val_loss: 0.7716 - val_accuracy: 0.6574 - val_distance: 0.4433\n",
      "Epoch 5/32\n",
      "1259/1259 [==============================] - 31s 25ms/step - loss: 0.7489 - accuracy: 0.6563 - distance: 0.4385 - val_loss: 0.7754 - val_accuracy: 0.6601 - val_distance: 0.4412\n",
      "Epoch 6/32\n",
      "1259/1259 [==============================] - 31s 25ms/step - loss: 0.7383 - accuracy: 0.6611 - distance: 0.4303 - val_loss: 0.7886 - val_accuracy: 0.6651 - val_distance: 0.4338\n",
      "Epoch 7/32\n",
      "1259/1259 [==============================] - 31s 25ms/step - loss: 0.7308 - accuracy: 0.6644 - distance: 0.4236 - val_loss: 0.8151 - val_accuracy: 0.6635 - val_distance: 0.4408\n",
      "Epoch 8/32\n",
      "1259/1259 [==============================] - 32s 25ms/step - loss: 0.7240 - accuracy: 0.6678 - distance: 0.4195 - val_loss: 0.8233 - val_accuracy: 0.6635 - val_distance: 0.4367\n",
      "Epoch 9/32\n",
      "1259/1259 [==============================] - 31s 25ms/step - loss: 0.7174 - accuracy: 0.6719 - distance: 0.4130 - val_loss: 0.8181 - val_accuracy: 0.6657 - val_distance: 0.4311\n",
      "Epoch 10/32\n",
      "1259/1259 [==============================] - 31s 25ms/step - loss: 0.7104 - accuracy: 0.6761 - distance: 0.4059 - val_loss: 0.8395 - val_accuracy: 0.6615 - val_distance: 0.4363\n",
      "Epoch 11/32\n",
      "1259/1259 [==============================] - 31s 25ms/step - loss: 0.7028 - accuracy: 0.6806 - distance: 0.4000 - val_loss: 0.8384 - val_accuracy: 0.6600 - val_distance: 0.4402\n",
      "Epoch 12/32\n",
      "1259/1259 [==============================] - 31s 25ms/step - loss: 0.6962 - accuracy: 0.6834 - distance: 0.3973 - val_loss: 0.8446 - val_accuracy: 0.6586 - val_distance: 0.4392\n",
      "\n",
      "Epoch 00012: ReduceLROnPlateau reducing learning rate to 0.004999999888241291.\n",
      "Epoch 13/32\n",
      "1259/1259 [==============================] - 31s 25ms/step - loss: 0.6817 - accuracy: 0.6922 - distance: 0.3872 - val_loss: 0.8487 - val_accuracy: 0.6583 - val_distance: 0.4457\n",
      "Epoch 14/32\n",
      "1259/1259 [==============================] - 31s 25ms/step - loss: 0.6768 - accuracy: 0.6945 - distance: 0.3829 - val_loss: 0.8558 - val_accuracy: 0.6565 - val_distance: 0.4466\n",
      "Epoch 15/32\n",
      "1259/1259 [==============================] - 32s 25ms/step - loss: 0.6722 - accuracy: 0.6955 - distance: 0.3824 - val_loss: 0.8482 - val_accuracy: 0.6573 - val_distance: 0.4458\n",
      "\n",
      "Epoch 00015: ReduceLROnPlateau reducing learning rate to 0.0024999999441206455.\n",
      "Epoch 16/32\n",
      "1259/1259 [==============================] - 31s 25ms/step - loss: 0.6615 - accuracy: 0.7031 - distance: 0.3727 - val_loss: 0.8093 - val_accuracy: 0.6617 - val_distance: 0.4352\n",
      "Epoch 17/32\n",
      "1259/1259 [==============================] - 31s 25ms/step - loss: 0.6585 - accuracy: 0.7029 - distance: 0.3752 - val_loss: 0.8165 - val_accuracy: 0.6608 - val_distance: 0.4367\n"
     ]
    }
   ],
   "source": [
    "# Model Structure\n",
    "model1 = Sequential()\n",
    "model1.add(Embedding(nb_words,\n",
    "                     EMBEDDING_DIM,\n",
    "                     weights=[embedding_matrix],\n",
    "                     input_length=MAX_SEQUENCE_LENGTH,\n",
    "                     trainable=False, name='embedding_layer_model_1'\n",
    "                    ))\n",
    "model1.add(GRU(64))\n",
    "model1.add(Dense(128, activation='relu', name='dense_1_model_1'))\n",
    "model1.add(Dropout(0.1, name='drop_out_1_model_1'))\n",
    "model1.add(Dense(3, activation='softmax', name='output_layer_model_1'))\n",
    "\n",
    "# Summary\n",
    "model1.summary()\n",
    "\n",
    "# Callbacks and Summary\n",
    "#optimizer = optimizers.SGD(lr=LEARNING_RATE, decay=1e-6, momentum=0.9, nesterov=True)\n",
    "optimizer = Adam(lr=LEARNING_RATE)\n",
    "model1.compile(\n",
    "    loss='categorical_crossentropy',\n",
    "    optimizer=optimizers.SGD(lr=LEARNING_RATE, decay=1e-6, momentum=0.9, nesterov=True),\n",
    "    metrics=['accuracy', distance]\n",
    ")\n",
    "Callbacks = [ReduceLROnPlateau(monitor='val_accuracy', factor=0.5, patience=LR_PATIENCE, verbose=True),\n",
    "             EarlyStopping(patience=PATIENCE, monitor='val_accuracy')]\n",
    "\n",
    "# Training\n",
    "history = model1.fit(TRAINING_GENERATOR.getGenerator(),\n",
    "                     validation_data=VALIDATION_GENERATOR.getGenerator(),\n",
    "                     epochs=EPOCHS, steps_per_epoch=STEPS_PER_EPOCH,\n",
    "                     validation_steps=VALIDATION_STEPS,\n",
    "                     callbacks=Callbacks,\n",
    "                     verbose=True)\n",
    "                     #class_weight=WEIGHTS)\n",
    "\n",
    "# Saving the Model\n",
    "model1.save(\"{}{}\".format(path, \"model1.h5\"))"
   ]
  },
  {
   "cell_type": "code",
   "execution_count": 23,
   "metadata": {
    "scrolled": false
   },
   "outputs": [
    {
     "data": {
      "image/png": "[encoded data removed]",
      "text/plain": [
       "<Figure size 432x288 with 1 Axes>"
      ]
     },
     "metadata": {
      "needs_background": "light"
     },
     "output_type": "display_data"
    },
    {
     "data": {
      "image/png": "[encoded data removed]",
      "text/plain": [
       "<Figure size 432x288 with 1 Axes>"
      ]
     },
     "metadata": {
      "needs_background": "light"
     },
     "output_type": "display_data"
    },
    {
     "data": {
      "image/png": "[encoded data removed]",
      "text/plain": [
       "<Figure size 432x288 with 1 Axes>"
      ]
     },
     "metadata": {
      "needs_background": "light"
     },
     "output_type": "display_data"
    },
    {
     "name": "stdout",
     "output_type": "stream",
     "text": [
      "32/32 [==============================] - 0s 10ms/step\n",
      "[0.7675012350082397, 0.6470588445663452, 0.4647058844566345]\n",
      "[[ 98  84  21]\n",
      " [ 29 307  93]\n",
      " [ 17 116 255]]\n"
     ]
    },
    {
     "data": {
      "text/plain": [
       "(array([-1,  0,  1]), array([144, 507, 369]))"
      ]
     },
     "execution_count": 23,
     "metadata": {},
     "output_type": "execute_result"
    }
   ],
   "source": [
    "# Plotting hist acc\n",
    "plt.plot(history.history['accuracy'])\n",
    "plt.plot(history.history['val_accuracy'])\n",
    "plt.title('model accuracy')\n",
    "plt.ylabel('accuracy')\n",
    "plt.xlabel('epoch')\n",
    "plt.legend(['train','val'], loc='upper left')\n",
    "plt.show()\n",
    "\n",
    "# Plotting hist loss\n",
    "plt.plot(history.history['loss'])\n",
    "plt.plot(history.history['val_loss'])\n",
    "plt.title('model loss')\n",
    "plt.ylabel('loss')\n",
    "plt.xlabel('epoch')\n",
    "plt.legend(['train','val'], loc='upper left')\n",
    "plt.show()\n",
    "\n",
    "# Plotting distance loss\n",
    "plt.plot(history.history['distance'])\n",
    "plt.plot(history.history['val_distance'])\n",
    "plt.title('model distance')\n",
    "plt.ylabel('distance')\n",
    "plt.xlabel('epoch')\n",
    "plt.legend(['train','val'], loc='upper left')\n",
    "plt.show()\n",
    "\n",
    "# Testing\n",
    "TEST_GENERATOR = DataGenerator(test_3_data, word2vec, MAX_SEQUENCE_LENGTH, 3, BATCH_SIZE)\n",
    "print(model1.evaluate(TEST_GENERATOR.getGenerator(), verbose=True, steps=TEST_GENERATOR.step))\n",
    "y_pred = np.argmax(model1.predict(TEST_GENERATOR.getInputGenerator(), steps=TEST_GENERATOR.step), axis=1) - 1\n",
    "y_true = test_3_data['class']\n",
    "print(confusion_matrix(y_true, y_pred))\n",
    "np.unique(y_pred, return_counts=True)"
   ]
  },
  {
   "cell_type": "markdown",
   "metadata": {
    "colab_type": "text",
    "id": "Lc_4Hz05tJwP"
   },
   "source": [
    "# Best was [0.6292, 0.7058, 0.4147]"
   ]
  },
  {
   "cell_type": "code",
   "execution_count": null,
   "metadata": {
    "colab": {
     "base_uri": "https://localhost:8080/",
     "height": 1000
    },
    "colab_type": "code",
    "id": "wTE8zViRcYpp",
    "outputId": "14e9fd1c-0a22-4cdf-fff4-b5c3fffe8e3c",
    "scrolled": false
   },
   "outputs": [
    {
     "name": "stdout",
     "output_type": "stream",
     "text": [
      "{0: 2.0899653979238755, 1: 1.3101952277657267, 2: 4.108843537414966, 3: 1.0, 4: 2.054421768707483, 5: 3.6606060606060606, 6: 2.5166666666666666}\n"
     ]
    }
   ],
   "source": [
    "# Parameters\n",
    "LEARNING_RATE = 0.01\n",
    "BATCH_SIZE = 16\n",
    "EPOCHS = 256\n",
    "PATIENCE = 64\n",
    "LR_PATIENCE = 8\n",
    "train_df, test_df = train_test_split(train_7_data, test_size=0.25, random_state=4)\n",
    "train_df, val_df = train_test_split(train_df, test_size=0.1, random_state=4)\n",
    "TRAINING_GENERATOR = DataGenerator(train_df, word2vec, MAX_SEQUENCE_LENGTH, 7, BATCH_SIZE)\n",
    "VALIDATION_GENERATOR = DataGenerator(val_df, word2vec, MAX_SEQUENCE_LENGTH, 7, BATCH_SIZE)\n",
    "WEIGHTS = TRAINING_GENERATOR.getWeights()\n",
    "print(WEIGHTS)\n",
    "STEPS_PER_EPOCH = TRAINING_GENERATOR.step\n",
    "VALIDATION_STEPS = VALIDATION_GENERATOR.step"
   ]
  },
  {
   "cell_type": "code",
   "execution_count": null,
   "metadata": {
    "scrolled": false
   },
   "outputs": [
    {
     "name": "stdout",
     "output_type": "stream",
     "text": [
      "Model: \"sequential_2\"\n",
      "_________________________________________________________________\n",
      "Layer (type)                 Output Shape              Param #   \n",
      "=================================================================\n",
      "embedding_layer_model_1 (Emb (None, 103, 300)          13311300  \n",
      "_________________________________________________________________\n",
      "gru_2 (GRU)                  (None, 64)                70080     \n",
      "_________________________________________________________________\n",
      "dense_1_model_1 (Dense)      (None, 128)               8320      \n",
      "_________________________________________________________________\n",
      "drop_out_1_model_1 (Dropout) (None, 128)               0         \n",
      "_________________________________________________________________\n",
      "dense_1_model_2 (Dense)      (None, 64)                8256      \n",
      "_________________________________________________________________\n",
      "output_layer_model_2 (Dense) (None, 7)                 455       \n",
      "=================================================================\n",
      "Total params: 13,468,487\n",
      "Trainable params: 78,787\n",
      "Non-trainable params: 13,389,700\n",
      "_________________________________________________________________\n"
     ]
    },
    {
     "name": "stderr",
     "output_type": "stream",
     "text": [
      "/Users/vincent/anaconda3/lib/python3.7/site-packages/keras/engine/training.py:297: UserWarning: Discrepancy between trainable weights and collected trainable weights, did you set `model.trainable` without calling `model.compile` after ?\n",
      "  'Discrepancy between trainable weights and collected trainable'\n"
     ]
    },
    {
     "name": "stdout",
     "output_type": "stream",
     "text": [
      "Epoch 1/256\n",
      "138/138 [==============================] - 8s 55ms/step - loss: 3.7408 - accuracy: 0.1277 - distance: 7.1786 - val_loss: 1.8748 - val_accuracy: 0.1388 - val_distance: 5.3388\n",
      "Epoch 2/256\n",
      "138/138 [==============================] - 6s 46ms/step - loss: 3.6949 - accuracy: 0.1409 - distance: 7.1945 - val_loss: 1.8490 - val_accuracy: 0.1347 - val_distance: 5.5510\n",
      "Epoch 3/256\n",
      "138/138 [==============================] - 6s 47ms/step - loss: 3.6624 - accuracy: 0.1727 - distance: 6.8523 - val_loss: 1.8059 - val_accuracy: 0.1388 - val_distance: 5.9959\n",
      "Epoch 4/256\n",
      "138/138 [==============================] - 7s 48ms/step - loss: 3.6295 - accuracy: 0.1800 - distance: 6.8582 - val_loss: 1.7671 - val_accuracy: 0.1592 - val_distance: 5.8245\n",
      "Epoch 5/256\n",
      "138/138 [==============================] - 7s 48ms/step - loss: 3.6020 - accuracy: 0.1977 - distance: 6.8668 - val_loss: 1.7510 - val_accuracy: 0.1673 - val_distance: 5.6612\n",
      "Epoch 6/256\n",
      "138/138 [==============================] - 6s 47ms/step - loss: 3.5582 - accuracy: 0.2105 - distance: 6.5595 - val_loss: 1.6950 - val_accuracy: 0.1714 - val_distance: 5.8857\n",
      "Epoch 7/256\n",
      "138/138 [==============================] - 7s 47ms/step - loss: 3.5258 - accuracy: 0.2141 - distance: 6.8000 - val_loss: 1.6877 - val_accuracy: 0.1796 - val_distance: 5.7918\n",
      "Epoch 8/256\n",
      "138/138 [==============================] - 270s 2s/step - loss: 3.4860 - accuracy: 0.2191 - distance: 6.5414 - val_loss: 1.6695 - val_accuracy: 0.1959 - val_distance: 5.8367\n",
      "Epoch 9/256\n",
      "138/138 [==============================] - 25s 178ms/step - loss: 3.4610 - accuracy: 0.2332 - distance: 6.4609 - val_loss: 1.6304 - val_accuracy: 0.2122 - val_distance: 6.2531\n",
      "Epoch 10/256\n",
      "138/138 [==============================] - 5194s 38s/step - loss: 3.4229 - accuracy: 0.2327 - distance: 6.3945 - val_loss: 1.6787 - val_accuracy: 0.2286 - val_distance: 6.1673\n",
      "Epoch 11/256\n",
      "138/138 [==============================] - 8s 59ms/step - loss: 3.3892 - accuracy: 0.2468 - distance: 6.2718 - val_loss: 1.6755 - val_accuracy: 0.2694 - val_distance: 6.2816\n",
      "Epoch 12/256\n",
      "138/138 [==============================] - 1382s 10s/step - loss: 3.3378 - accuracy: 0.2614 - distance: 5.9814 - val_loss: 1.6415 - val_accuracy: 0.2571 - val_distance: 6.1714\n",
      "Epoch 13/256\n",
      "138/138 [==============================] - 7s 52ms/step - loss: 3.3113 - accuracy: 0.2736 - distance: 6.0336 - val_loss: 1.5991 - val_accuracy: 0.2571 - val_distance: 6.2490\n",
      "Epoch 14/256\n",
      "138/138 [==============================] - 6s 47ms/step - loss: 3.2574 - accuracy: 0.2855 - distance: 5.8623 - val_loss: 1.6142 - val_accuracy: 0.2735 - val_distance: 6.0694\n",
      "Epoch 15/256\n",
      "138/138 [==============================] - 6s 45ms/step - loss: 3.2302 - accuracy: 0.2855 - distance: 5.8668 - val_loss: 1.5660 - val_accuracy: 0.2735 - val_distance: 5.7714\n",
      "Epoch 16/256\n",
      "138/138 [==============================] - 7s 48ms/step - loss: 3.2040 - accuracy: 0.3000 - distance: 5.8500 - val_loss: 1.5784 - val_accuracy: 0.2490 - val_distance: 6.0776\n",
      "Epoch 17/256\n",
      "138/138 [==============================] - 6s 46ms/step - loss: 3.1698 - accuracy: 0.3100 - distance: 5.5800 - val_loss: 1.5449 - val_accuracy: 0.2898 - val_distance: 5.8980\n",
      "Epoch 18/256\n",
      "138/138 [==============================] - 6s 45ms/step - loss: 3.1223 - accuracy: 0.3123 - distance: 5.5323 - val_loss: 1.5933 - val_accuracy: 0.2980 - val_distance: 5.7469\n",
      "Epoch 19/256\n",
      "138/138 [==============================] - 6s 44ms/step - loss: 3.0888 - accuracy: 0.3205 - distance: 5.5445 - val_loss: 1.5530 - val_accuracy: 0.2735 - val_distance: 5.8000\n",
      "Epoch 20/256\n",
      "138/138 [==============================] - 6s 45ms/step - loss: 3.0402 - accuracy: 0.3314 - distance: 5.3200 - val_loss: 1.5776 - val_accuracy: 0.2898 - val_distance: 5.7061\n",
      "Epoch 21/256\n",
      "138/138 [==============================] - 6s 45ms/step - loss: 3.0296 - accuracy: 0.3418 - distance: 5.3686 - val_loss: 1.4960 - val_accuracy: 0.2939 - val_distance: 5.6082\n",
      "Epoch 22/256\n",
      "138/138 [==============================] - 7s 47ms/step - loss: 2.9788 - accuracy: 0.3464 - distance: 5.3509 - val_loss: 1.5040 - val_accuracy: 0.2816 - val_distance: 5.9224\n",
      "Epoch 23/256\n",
      "138/138 [==============================] - 6s 46ms/step - loss: 2.9433 - accuracy: 0.3505 - distance: 5.2218 - val_loss: 1.4340 - val_accuracy: 0.2898 - val_distance: 5.4653\n",
      "Epoch 24/256\n",
      "138/138 [==============================] - 6s 45ms/step - loss: 2.9115 - accuracy: 0.3682 - distance: 5.1332 - val_loss: 1.4018 - val_accuracy: 0.3306 - val_distance: 4.8816\n",
      "Epoch 25/256\n",
      "138/138 [==============================] - 6s 47ms/step - loss: 2.8878 - accuracy: 0.3645 - distance: 5.0755 - val_loss: 1.5033 - val_accuracy: 0.3061 - val_distance: 5.6367\n",
      "Epoch 26/256\n",
      "138/138 [==============================] - 6s 45ms/step - loss: 2.8405 - accuracy: 0.3814 - distance: 4.7564 - val_loss: 1.4649 - val_accuracy: 0.3102 - val_distance: 5.2082\n",
      "Epoch 27/256\n",
      "138/138 [==============================] - 6s 46ms/step - loss: 2.8330 - accuracy: 0.3864 - distance: 4.7564 - val_loss: 1.3794 - val_accuracy: 0.2980 - val_distance: 5.5469\n",
      "Epoch 28/256\n",
      "138/138 [==============================] - 6s 46ms/step - loss: 2.7500 - accuracy: 0.4105 - distance: 4.7400 - val_loss: 1.4026 - val_accuracy: 0.3306 - val_distance: 5.1592\n",
      "Epoch 29/256\n",
      "131/138 [===========================>..] - ETA: 0s - loss: 2.7343 - accuracy: 0.4065 - distance: 4.6245"
     ]
    }
   ],
   "source": [
    "# Model Structure\n",
    "dependencies = {'distance': distance}\n",
    "model2 = load_model(\"{}{}\".format(path, \"model1.h5\"), custom_objects=dependencies)\n",
    "model2.pop()\n",
    "\n",
    "for layer in model2.layers:\n",
    "    layer.trainable = False\n",
    "\n",
    "model2.add(Dense(64, activation='relu', name='dense_1_model_2'))\n",
    "model2.add(Dense(7, activation='softmax', name='output_layer_model_2'))\n",
    "\n",
    "# Summary\n",
    "model2.summary()\n",
    "\n",
    "# Callbacks & Optimizer\n",
    "model2.compile(\n",
    "    loss='categorical_crossentropy', #kullback_leibler_divergence\n",
    "    optimizer=optimizers.SGD(lr=LEARNING_RATE, momentum=0.9, nesterov=True),\n",
    "    metrics=['accuracy', distance]\n",
    ")\n",
    "Callbacks=[EarlyStopping(patience=PATIENCE, monitor='val_accuracy', restore_best_weights=False),\n",
    "           ReduceLROnPlateau(monitor='val_accuracy', factor=0.5, patience=LR_PATIENCE, verbose=True)]\n",
    "\n",
    "# Training\n",
    "history = model2.fit(TRAINING_GENERATOR.getGenerator(),\n",
    "                     validation_data=VALIDATION_GENERATOR.getGenerator(),\n",
    "                     epochs=EPOCHS, steps_per_epoch=STEPS_PER_EPOCH,\n",
    "                     validation_steps=VALIDATION_STEPS,\n",
    "                     callbacks=Callbacks,\n",
    "                     verbose=True,\n",
    "                     class_weight=WEIGHTS)\n",
    "\n",
    "# Saving the Model\n",
    "model2.save(\"{}{}\".format(path, \"model2.h5\"))"
   ]
  },
  {
   "cell_type": "code",
   "execution_count": null,
   "metadata": {
    "scrolled": false
   },
   "outputs": [],
   "source": [
    "# Plotting hist acc\n",
    "plt.plot(history.history['accuracy'])\n",
    "plt.plot(history.history['val_accuracy'])\n",
    "plt.title('model accuracy')\n",
    "plt.ylabel('accuracy')\n",
    "plt.xlabel('epoch')\n",
    "plt.legend(['train','val'], loc='upper left')\n",
    "plt.show()\n",
    "\n",
    "# Plotting hist loss\n",
    "plt.plot(history.history['loss'])\n",
    "plt.plot(history.history['val_loss'])\n",
    "plt.title('model loss')\n",
    "plt.ylabel('loss')\n",
    "plt.xlabel('epoch')\n",
    "plt.legend(['train','val'], loc='upper left')\n",
    "plt.show()\n",
    "\n",
    "# Plotting distance loss\n",
    "plt.plot(history.history['distance'])\n",
    "plt.plot(history.history['val_distance'])\n",
    "plt.title('model distance')\n",
    "plt.ylabel('distance')\n",
    "plt.xlabel('epoch')\n",
    "plt.legend(['train','val'], loc='upper left')\n",
    "plt.show()\n",
    "\n",
    "# Testing the model\n",
    "TEST_GENERATOR = DataGenerator(test_df, word2vec, MAX_SEQUENCE_LENGTH, 7, BATCH_SIZE)\n",
    "print(model2.evaluate(TEST_GENERATOR.getGenerator(), verbose=True, steps=TEST_GENERATOR.step))\n",
    "y_pred = np.argmax(model2.predict(TEST_GENERATOR.getInputGenerator(), steps=TEST_GENERATOR.step), axis=1) - 3\n",
    "y_true = np.array(test_df['class'])\n",
    "print(confusion_matrix(y_true, y_pred))\n",
    "np.unique(y_pred, return_counts=True)"
   ]
  },
  {
   "cell_type": "markdown",
   "metadata": {
    "colab_type": "text",
    "id": "3TTRUrK1itDs"
   },
   "source": [
    "# Best was [1.863, 0.3307, 3.1692]"
   ]
  },
  {
   "cell_type": "markdown",
   "metadata": {
    "colab_type": "text",
    "id": "sEDYqavaxMR2"
   },
   "source": [
    "# Prediction"
   ]
  },
  {
   "cell_type": "code",
   "execution_count": 65,
   "metadata": {
    "colab": {
     "base_uri": "https://localhost:8080/",
     "height": 452
    },
    "colab_type": "code",
    "id": "nayUZY4nxCrX",
    "outputId": "886213cc-6831-4da3-da7b-0b8c98a36458"
   },
   "outputs": [
    {
     "data": {
      "text/html": [
       "<div>\n",
       "<style scoped>\n",
       "    .dataframe tbody tr th:only-of-type {\n",
       "        vertical-align: middle;\n",
       "    }\n",
       "\n",
       "    .dataframe tbody tr th {\n",
       "        vertical-align: top;\n",
       "    }\n",
       "\n",
       "    .dataframe thead th {\n",
       "        text-align: right;\n",
       "    }\n",
       "</style>\n",
       "<table border=\"1\" class=\"dataframe\">\n",
       "  <thead>\n",
       "    <tr style=\"text-align: right;\">\n",
       "      <th></th>\n",
       "      <th>ID</th>\n",
       "      <th>text</th>\n",
       "      <th>Affect Dimension</th>\n",
       "      <th>class</th>\n",
       "    </tr>\n",
       "  </thead>\n",
       "  <tbody>\n",
       "    <tr>\n",
       "      <th>0</th>\n",
       "      <td>2018-En-01964</td>\n",
       "      <td>Gm and have a  #Tuesday!</td>\n",
       "      <td>valence</td>\n",
       "      <td>NONE</td>\n",
       "    </tr>\n",
       "    <tr>\n",
       "      <th>1</th>\n",
       "      <td>2018-En-01539</td>\n",
       "      <td>@realDonaldTrump But you have a lot of time fo...</td>\n",
       "      <td>valence</td>\n",
       "      <td>NONE</td>\n",
       "    </tr>\n",
       "    <tr>\n",
       "      <th>2</th>\n",
       "      <td>2018-En-04235</td>\n",
       "      <td>I graduated yesterday and already had 8 family...</td>\n",
       "      <td>valence</td>\n",
       "      <td>NONE</td>\n",
       "    </tr>\n",
       "    <tr>\n",
       "      <th>3</th>\n",
       "      <td>2018-En-03711</td>\n",
       "      <td>@jaimitoelcrack7 Seriously...I've been sitting...</td>\n",
       "      <td>valence</td>\n",
       "      <td>NONE</td>\n",
       "    </tr>\n",
       "    <tr>\n",
       "      <th>4</th>\n",
       "      <td>2018-En-01177</td>\n",
       "      <td>Whether my glass is half empty or its half ful...</td>\n",
       "      <td>valence</td>\n",
       "      <td>NONE</td>\n",
       "    </tr>\n",
       "  </tbody>\n",
       "</table>\n",
       "</div>"
      ],
      "text/plain": [
       "              ID                                               text  \\\n",
       "0  2018-En-01964                           Gm and have a  #Tuesday!   \n",
       "1  2018-En-01539  @realDonaldTrump But you have a lot of time fo...   \n",
       "2  2018-En-04235  I graduated yesterday and already had 8 family...   \n",
       "3  2018-En-03711  @jaimitoelcrack7 Seriously...I've been sitting...   \n",
       "4  2018-En-01177  Whether my glass is half empty or its half ful...   \n",
       "\n",
       "  Affect Dimension class  \n",
       "0          valence  NONE  \n",
       "1          valence  NONE  \n",
       "2          valence  NONE  \n",
       "3          valence  NONE  \n",
       "4          valence  NONE  "
      ]
     },
     "metadata": {},
     "output_type": "display_data"
    },
    {
     "name": "stdout",
     "output_type": "stream",
     "text": [
      "(937, 4)\n"
     ]
    },
    {
     "data": {
      "text/html": [
       "<div>\n",
       "<style scoped>\n",
       "    .dataframe tbody tr th:only-of-type {\n",
       "        vertical-align: middle;\n",
       "    }\n",
       "\n",
       "    .dataframe tbody tr th {\n",
       "        vertical-align: top;\n",
       "    }\n",
       "\n",
       "    .dataframe thead th {\n",
       "        text-align: right;\n",
       "    }\n",
       "</style>\n",
       "<table border=\"1\" class=\"dataframe\">\n",
       "  <thead>\n",
       "    <tr style=\"text-align: right;\">\n",
       "      <th></th>\n",
       "      <th>ID</th>\n",
       "      <th>text</th>\n",
       "      <th>Affect Dimension</th>\n",
       "      <th>class</th>\n",
       "    </tr>\n",
       "  </thead>\n",
       "  <tbody>\n",
       "    <tr>\n",
       "      <th>0</th>\n",
       "      <td>2018-En-01964</td>\n",
       "      <td>[0, 0, 0, 0, 0, 0, 0, 0, 0, 0, 0, 0, 0, 0, 0, ...</td>\n",
       "      <td>valence</td>\n",
       "      <td>NONE</td>\n",
       "    </tr>\n",
       "    <tr>\n",
       "      <th>1</th>\n",
       "      <td>2018-En-01539</td>\n",
       "      <td>[0, 0, 0, 0, 0, 0, 0, 0, 0, 0, 0, 0, 0, 0, 0, ...</td>\n",
       "      <td>valence</td>\n",
       "      <td>NONE</td>\n",
       "    </tr>\n",
       "    <tr>\n",
       "      <th>2</th>\n",
       "      <td>2018-En-04235</td>\n",
       "      <td>[0, 0, 0, 0, 0, 0, 0, 0, 0, 0, 0, 0, 0, 0, 0, ...</td>\n",
       "      <td>valence</td>\n",
       "      <td>NONE</td>\n",
       "    </tr>\n",
       "    <tr>\n",
       "      <th>3</th>\n",
       "      <td>2018-En-03711</td>\n",
       "      <td>[0, 0, 0, 0, 0, 0, 0, 0, 0, 0, 0, 0, 0, 0, 0, ...</td>\n",
       "      <td>valence</td>\n",
       "      <td>NONE</td>\n",
       "    </tr>\n",
       "    <tr>\n",
       "      <th>4</th>\n",
       "      <td>2018-En-01177</td>\n",
       "      <td>[0, 0, 0, 0, 0, 0, 0, 0, 0, 0, 0, 0, 0, 0, 0, ...</td>\n",
       "      <td>valence</td>\n",
       "      <td>NONE</td>\n",
       "    </tr>\n",
       "  </tbody>\n",
       "</table>\n",
       "</div>"
      ],
      "text/plain": [
       "              ID                                               text  \\\n",
       "0  2018-En-01964  [0, 0, 0, 0, 0, 0, 0, 0, 0, 0, 0, 0, 0, 0, 0, ...   \n",
       "1  2018-En-01539  [0, 0, 0, 0, 0, 0, 0, 0, 0, 0, 0, 0, 0, 0, 0, ...   \n",
       "2  2018-En-04235  [0, 0, 0, 0, 0, 0, 0, 0, 0, 0, 0, 0, 0, 0, 0, ...   \n",
       "3  2018-En-03711  [0, 0, 0, 0, 0, 0, 0, 0, 0, 0, 0, 0, 0, 0, 0, ...   \n",
       "4  2018-En-01177  [0, 0, 0, 0, 0, 0, 0, 0, 0, 0, 0, 0, 0, 0, 0, ...   \n",
       "\n",
       "  Affect Dimension class  \n",
       "0          valence  NONE  \n",
       "1          valence  NONE  \n",
       "2          valence  NONE  \n",
       "3          valence  NONE  \n",
       "4          valence  NONE  "
      ]
     },
     "metadata": {},
     "output_type": "display_data"
    },
    {
     "name": "stdout",
     "output_type": "stream",
     "text": [
      "(937, 4)\n"
     ]
    },
    {
     "data": {
      "text/html": [
       "<div>\n",
       "<style scoped>\n",
       "    .dataframe tbody tr th:only-of-type {\n",
       "        vertical-align: middle;\n",
       "    }\n",
       "\n",
       "    .dataframe tbody tr th {\n",
       "        vertical-align: top;\n",
       "    }\n",
       "\n",
       "    .dataframe thead th {\n",
       "        text-align: right;\n",
       "    }\n",
       "</style>\n",
       "<table border=\"1\" class=\"dataframe\">\n",
       "  <thead>\n",
       "    <tr style=\"text-align: right;\">\n",
       "      <th></th>\n",
       "      <th>ID</th>\n",
       "      <th>text</th>\n",
       "      <th>Affect Dimension</th>\n",
       "      <th>class</th>\n",
       "    </tr>\n",
       "  </thead>\n",
       "  <tbody>\n",
       "    <tr>\n",
       "      <th>0</th>\n",
       "      <td>2018-En-01964</td>\n",
       "      <td>Gm and have a  #Tuesday!</td>\n",
       "      <td>valence</td>\n",
       "      <td>-1</td>\n",
       "    </tr>\n",
       "    <tr>\n",
       "      <th>1</th>\n",
       "      <td>2018-En-01539</td>\n",
       "      <td>@realDonaldTrump But you have a lot of time fo...</td>\n",
       "      <td>valence</td>\n",
       "      <td>-2</td>\n",
       "    </tr>\n",
       "    <tr>\n",
       "      <th>2</th>\n",
       "      <td>2018-En-04235</td>\n",
       "      <td>I graduated yesterday and already had 8 family...</td>\n",
       "      <td>valence</td>\n",
       "      <td>3</td>\n",
       "    </tr>\n",
       "    <tr>\n",
       "      <th>3</th>\n",
       "      <td>2018-En-03711</td>\n",
       "      <td>@jaimitoelcrack7 Seriously...I've been sitting...</td>\n",
       "      <td>valence</td>\n",
       "      <td>3</td>\n",
       "    </tr>\n",
       "    <tr>\n",
       "      <th>4</th>\n",
       "      <td>2018-En-01177</td>\n",
       "      <td>Whether my glass is half empty or its half ful...</td>\n",
       "      <td>valence</td>\n",
       "      <td>1</td>\n",
       "    </tr>\n",
       "  </tbody>\n",
       "</table>\n",
       "</div>"
      ],
      "text/plain": [
       "              ID                                               text  \\\n",
       "0  2018-En-01964                           Gm and have a  #Tuesday!   \n",
       "1  2018-En-01539  @realDonaldTrump But you have a lot of time fo...   \n",
       "2  2018-En-04235  I graduated yesterday and already had 8 family...   \n",
       "3  2018-En-03711  @jaimitoelcrack7 Seriously...I've been sitting...   \n",
       "4  2018-En-01177  Whether my glass is half empty or its half ful...   \n",
       "\n",
       "  Affect Dimension  class  \n",
       "0          valence     -1  \n",
       "1          valence     -2  \n",
       "2          valence      3  \n",
       "3          valence      3  \n",
       "4          valence      1  "
      ]
     },
     "metadata": {},
     "output_type": "display_data"
    }
   ],
   "source": [
    "# Loading Data Set 7 Classes\n",
    "#predict_7_data = pd.read_csv(test_7_path, encoding='utf-8', sep='\\t')\n",
    "predict_7_data = pd.read_csv(path + 'submission.txt', encoding='utf-8', sep='\\t')\n",
    "\n",
    "# Rename Ugly Col Names\n",
    "predict_7_data = predict_7_data.rename(columns={\"Tweet\": \"text\", \"sentiment\": \"class\"})\n",
    "#predict_7_data['class'] = predict_7_data['class'].apply(lambda x: int(x.split(':')[0]))\n",
    "\n",
    "# Display\n",
    "display(predict_7_data.head())\n",
    "print(predict_7_data.shape)\n",
    "\n",
    "# Preprocessing\n",
    "tmp = predict_7_data['text'].copy()\n",
    "predict_7_data['text'] = predict_7_data['text'].apply(standardization)\n",
    "predict_7_data['text'] = tokenizer.texts_to_sequences(predict_7_data['text'])\n",
    "predict_7_data['text'] = predict_7_data['text'].apply(lambda x: pad_sequences([x], maxlen=MAX_SEQUENCE_LENGTH)[0])\n",
    "\n",
    "# Display\n",
    "display(predict_7_data.head())\n",
    "print(predict_7_data.shape)\n",
    "\n",
    "# Loading\n",
    "dependencies = {'distance': distance}\n",
    "model2 = load_model(\"{}{}\".format(path, \"best_model2.h5\"), custom_objects=dependencies)\n",
    "\n",
    "# Predicting\n",
    "PREDICT_GENERATOR = DataGenerator(predict_7_data, word2vec, MAX_SEQUENCE_LENGTH, 7, BATCH_SIZE)\n",
    "y_pred = np.argmax(model2.predict(PREDICT_GENERATOR.getInputGenerator(), steps=PREDICT_GENERATOR.step), axis=1) - 3\n",
    "predict_7_data['class'] = y_pred\n",
    "predict_7_data['text'] = predict_7_data['text'].apply(lambda _: 'Lost During Prediction')\n",
    "predict_7_data['text'] = tmp\n",
    "\n",
    "# Display Results\n",
    "display(predict_7_data.head())\n",
    "with open(path_test + 'result.csv', \"w\") as f:\n",
    "    predict_7_data.to_csv(f, sep='\\t', index=False)"
   ]
  },
  {
   "cell_type": "code",
   "execution_count": null,
   "metadata": {},
   "outputs": [],
   "source": []
  }
 ],
 "metadata": {
  "colab": {
   "collapsed_sections": [],
   "name": "tp_tweet.ipynb",
   "provenance": []
  },
  "kernelspec": {
   "display_name": "Python 3",
   "language": "python",
   "name": "python3"
  },
  "language_info": {
   "codemirror_mode": {
    "name": "ipython",
    "version": 3
   },
   "file_extension": ".py",
   "mimetype": "text/x-python",
   "name": "python",
   "nbconvert_exporter": "python",
   "pygments_lexer": "ipython3",
   "version": "3.7.3"
  }
 },
 "nbformat": 4,
 "nbformat_minor": 1
}
