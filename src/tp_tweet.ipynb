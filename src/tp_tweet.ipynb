{
 "cells": [
  {
   "cell_type": "markdown",
   "metadata": {
    "colab_type": "text",
    "id": "mtC_7VG_oYxQ"
   },
   "source": [
    "# **Classification de tweets basée sur le transfert learning**"
   ]
  },
  {
   "cell_type": "markdown",
   "metadata": {
    "colab_type": "text",
    "id": "dQJ31C3-a3fs"
   },
   "source": [
    "# Imports Packages"
   ]
  },
  {
   "cell_type": "code",
   "execution_count": 18,
   "metadata": {
    "colab": {
     "base_uri": "https://localhost:8080/",
     "height": 1000
    },
    "colab_type": "code",
    "id": "swgB-yTgoR9R",
    "outputId": "20d1a98d-57ef-4ce1-b72c-47b08568504b"
   },
   "outputs": [],
   "source": [
    "# Miscelaneous\n",
    "import os\n",
    "import sys\n",
    "import re\n",
    "import emoji\n",
    "from string import punctuation\n",
    "from unidecode import unidecode\n",
    "import pandas as pd\n",
    "import numpy as np\n",
    "import matplotlib.pyplot as plt\n",
    "\n",
    "# Nltk\n",
    "import nltk\n",
    "from nltk.corpus import stopwords\n",
    "from nltk.tokenize import TweetTokenizer\n",
    "from nltk.stem import WordNetLemmatizer\n",
    "#nltk.download('stopwords')\n",
    "\n",
    "# Keras\n",
    "from keras import optimizers\n",
    "from keras.preprocessing.text import Tokenizer\n",
    "from keras.preprocessing.sequence import pad_sequences\n",
    "from keras.layers.embeddings import Embedding\n",
    "from keras.layers import Dense, Flatten, LSTM, GRU, Dropout, Conv1D, MaxPooling2D, MaxPooling1D, GlobalMaxPooling1D\n",
    "from keras.models import Sequential, Model, load_model\n",
    "from keras.callbacks import EarlyStopping, ReduceLROnPlateau, LearningRateScheduler\n",
    "from keras import backend as B\n",
    "\n",
    "# Tensorflow\n",
    "import tensorflow as tf\n",
    "\n",
    "# SKLearn\n",
    "from sklearn.model_selection import train_test_split, StratifiedKFold\n",
    "from sklearn.metrics import confusion_matrix, accuracy_score, balanced_accuracy_score\n",
    "from sklearn.utils import shuffle\n",
    "\n",
    "# Gensim\n",
    "from gensim.models import KeyedVectors\n",
    "\n",
    "# Mac Bug\n",
    "import os\n",
    "os.environ['KMP_DUPLICATE_LIB_OK'] = 'True'"
   ]
  },
  {
   "cell_type": "markdown",
   "metadata": {
    "colab_type": "text",
    "id": "uviIvQDzbGFU"
   },
   "source": [
    "# Load Data"
   ]
  },
  {
   "cell_type": "code",
   "execution_count": 51,
   "metadata": {
    "colab": {
     "base_uri": "https://localhost:8080/",
     "height": 34
    },
    "colab_type": "code",
    "id": "mZZMTzreoU-e",
    "outputId": "2cdbdde2-3cd0-427d-e36f-c22e887e877d"
   },
   "outputs": [],
   "source": [
    "path = '../data/'\n",
    "path_test = '../test/'\n",
    "word2vec_path = path + 'GoogleNews-vectors-negative300.bin'\n",
    "train_3_path = path + 'data_train_3.csv'\n",
    "train_7_path = path + 'data_train_7.csv'\n",
    "test_3_path = path + 'data_test_3.csv'"
   ]
  },
  {
   "cell_type": "code",
   "execution_count": 20,
   "metadata": {
    "colab": {
     "base_uri": "https://localhost:8080/",
     "height": 221
    },
    "colab_type": "code",
    "id": "X-NYAZ50puSd",
    "outputId": "149b023a-e516-4984-81db-302e21ae1db7"
   },
   "outputs": [
    {
     "data": {
      "text/html": [
       "<div>\n",
       "<style scoped>\n",
       "    .dataframe tbody tr th:only-of-type {\n",
       "        vertical-align: middle;\n",
       "    }\n",
       "\n",
       "    .dataframe tbody tr th {\n",
       "        vertical-align: top;\n",
       "    }\n",
       "\n",
       "    .dataframe thead th {\n",
       "        text-align: right;\n",
       "    }\n",
       "</style>\n",
       "<table border=\"1\" class=\"dataframe\">\n",
       "  <thead>\n",
       "    <tr style=\"text-align: right;\">\n",
       "      <th></th>\n",
       "      <th>id</th>\n",
       "      <th>class</th>\n",
       "      <th>text</th>\n",
       "    </tr>\n",
       "  </thead>\n",
       "  <tbody>\n",
       "    <tr>\n",
       "      <th>0</th>\n",
       "      <td>260097528899452929</td>\n",
       "      <td>0</td>\n",
       "      <td>Won the match #getin . Plus\\u002c tomorrow is ...</td>\n",
       "    </tr>\n",
       "    <tr>\n",
       "      <th>1</th>\n",
       "      <td>263791921753882624</td>\n",
       "      <td>0</td>\n",
       "      <td>Some areas of New England could see the first ...</td>\n",
       "    </tr>\n",
       "    <tr>\n",
       "      <th>2</th>\n",
       "      <td>264194578381410304</td>\n",
       "      <td>-1</td>\n",
       "      <td>@francesco_con40 2nd worst QB. DEFINITELY Tony...</td>\n",
       "    </tr>\n",
       "    <tr>\n",
       "      <th>3</th>\n",
       "      <td>264041328420204544</td>\n",
       "      <td>0</td>\n",
       "      <td>#Thailand Washington - US President Barack Oba...</td>\n",
       "    </tr>\n",
       "    <tr>\n",
       "      <th>4</th>\n",
       "      <td>263816256640126976</td>\n",
       "      <td>0</td>\n",
       "      <td>Did y\\u2019all hear what Tony Romo dressed up ...</td>\n",
       "    </tr>\n",
       "  </tbody>\n",
       "</table>\n",
       "</div>"
      ],
      "text/plain": [
       "                   id  class  \\\n",
       "0  260097528899452929      0   \n",
       "1  263791921753882624      0   \n",
       "2  264194578381410304     -1   \n",
       "3  264041328420204544      0   \n",
       "4  263816256640126976      0   \n",
       "\n",
       "                                                text  \n",
       "0  Won the match #getin . Plus\\u002c tomorrow is ...  \n",
       "1  Some areas of New England could see the first ...  \n",
       "2  @francesco_con40 2nd worst QB. DEFINITELY Tony...  \n",
       "3  #Thailand Washington - US President Barack Oba...  \n",
       "4  Did y\\u2019all hear what Tony Romo dressed up ...  "
      ]
     },
     "metadata": {},
     "output_type": "display_data"
    },
    {
     "name": "stdout",
     "output_type": "stream",
     "text": [
      "(50333, 3)\n"
     ]
    }
   ],
   "source": [
    "# Loading Data Set 3 Classes & Replacing Word 2 Int\n",
    "train_3_data = pd.read_csv(train_3_path, encoding='utf-8', sep='\\t', names=['id', 'class', 'text'])\n",
    "conv_dict = {'neutral': 0, 'positive': 1, 'negative': -1}\n",
    "train_3_data['class'] = train_3_data['class'].apply(lambda x: conv_dict[x])\n",
    "display(train_3_data.head())\n",
    "print(train_3_data.shape)"
   ]
  },
  {
   "cell_type": "code",
   "execution_count": 21,
   "metadata": {
    "colab": {
     "base_uri": "https://localhost:8080/",
     "height": 221
    },
    "colab_type": "code",
    "id": "OAiOSjrLUZXt",
    "outputId": "cadbd7c3-b384-411d-eec4-9238dc458b3a"
   },
   "outputs": [
    {
     "data": {
      "text/html": [
       "<div>\n",
       "<style scoped>\n",
       "    .dataframe tbody tr th:only-of-type {\n",
       "        vertical-align: middle;\n",
       "    }\n",
       "\n",
       "    .dataframe tbody tr th {\n",
       "        vertical-align: top;\n",
       "    }\n",
       "\n",
       "    .dataframe thead th {\n",
       "        text-align: right;\n",
       "    }\n",
       "</style>\n",
       "<table border=\"1\" class=\"dataframe\">\n",
       "  <thead>\n",
       "    <tr style=\"text-align: right;\">\n",
       "      <th></th>\n",
       "      <th>id</th>\n",
       "      <th>class</th>\n",
       "      <th>text</th>\n",
       "    </tr>\n",
       "  </thead>\n",
       "  <tbody>\n",
       "    <tr>\n",
       "      <th>0</th>\n",
       "      <td>264221473558917120</td>\n",
       "      <td>0</td>\n",
       "      <td>Manchester United will try to return to winnin...</td>\n",
       "    </tr>\n",
       "    <tr>\n",
       "      <th>1</th>\n",
       "      <td>264091690632105984</td>\n",
       "      <td>0</td>\n",
       "      <td>Going to a bulls game with Aaliyah &amp; hope next...</td>\n",
       "    </tr>\n",
       "    <tr>\n",
       "      <th>2</th>\n",
       "      <td>263929564907069441</td>\n",
       "      <td>0</td>\n",
       "      <td>Any Toon Fans with a spare ticket for Anfield ...</td>\n",
       "    </tr>\n",
       "    <tr>\n",
       "      <th>3</th>\n",
       "      <td>263759328782204928</td>\n",
       "      <td>1</td>\n",
       "      <td>Louis inspired outfit on Monday and Zayn inspi...</td>\n",
       "    </tr>\n",
       "    <tr>\n",
       "      <th>4</th>\n",
       "      <td>259546192722161664</td>\n",
       "      <td>0</td>\n",
       "      <td>going to bed now...Rose parade then game tomorrow</td>\n",
       "    </tr>\n",
       "  </tbody>\n",
       "</table>\n",
       "</div>"
      ],
      "text/plain": [
       "                   id  class  \\\n",
       "0  264221473558917120      0   \n",
       "1  264091690632105984      0   \n",
       "2  263929564907069441      0   \n",
       "3  263759328782204928      1   \n",
       "4  259546192722161664      0   \n",
       "\n",
       "                                                text  \n",
       "0  Manchester United will try to return to winnin...  \n",
       "1  Going to a bulls game with Aaliyah & hope next...  \n",
       "2  Any Toon Fans with a spare ticket for Anfield ...  \n",
       "3  Louis inspired outfit on Monday and Zayn inspi...  \n",
       "4  going to bed now...Rose parade then game tomorrow  "
      ]
     },
     "metadata": {},
     "output_type": "display_data"
    },
    {
     "name": "stdout",
     "output_type": "stream",
     "text": [
      "(1020, 3)\n"
     ]
    }
   ],
   "source": [
    "test_3_data = pd.read_csv(test_3_path, encoding='utf-8', sep='\\t', names=['id', 'class', 'text'])\n",
    "conv_dict = {'neutral': 0, 'positive': 1, 'negative': -1}\n",
    "test_3_data['class'] = test_3_data['class'].apply(lambda x: conv_dict[x])\n",
    "display(test_3_data.head())\n",
    "print(test_3_data.shape)"
   ]
  },
  {
   "cell_type": "code",
   "execution_count": 22,
   "metadata": {
    "colab": {
     "base_uri": "https://localhost:8080/",
     "height": 221
    },
    "colab_type": "code",
    "id": "R97ya871puy9",
    "outputId": "c4b21b34-5df9-4aac-bb7c-7841903309ac"
   },
   "outputs": [
    {
     "data": {
      "text/html": [
       "<div>\n",
       "<style scoped>\n",
       "    .dataframe tbody tr th:only-of-type {\n",
       "        vertical-align: middle;\n",
       "    }\n",
       "\n",
       "    .dataframe tbody tr th {\n",
       "        vertical-align: top;\n",
       "    }\n",
       "\n",
       "    .dataframe thead th {\n",
       "        text-align: right;\n",
       "    }\n",
       "</style>\n",
       "<table border=\"1\" class=\"dataframe\">\n",
       "  <thead>\n",
       "    <tr style=\"text-align: right;\">\n",
       "      <th></th>\n",
       "      <th>id</th>\n",
       "      <th>class</th>\n",
       "      <th>text</th>\n",
       "    </tr>\n",
       "  </thead>\n",
       "  <tbody>\n",
       "    <tr>\n",
       "      <th>0</th>\n",
       "      <td>0</td>\n",
       "      <td>0</td>\n",
       "      <td>@liamch88 yeah! :) playing well</td>\n",
       "    </tr>\n",
       "    <tr>\n",
       "      <th>1</th>\n",
       "      <td>1</td>\n",
       "      <td>0</td>\n",
       "      <td>At least I don't have a guy trying to discoura...</td>\n",
       "    </tr>\n",
       "    <tr>\n",
       "      <th>2</th>\n",
       "      <td>2</td>\n",
       "      <td>0</td>\n",
       "      <td>UPLIFT: If you're still discouraged it means y...</td>\n",
       "    </tr>\n",
       "    <tr>\n",
       "      <th>3</th>\n",
       "      <td>3</td>\n",
       "      <td>0</td>\n",
       "      <td>...at your age, the heyday in the blood is tam...</td>\n",
       "    </tr>\n",
       "    <tr>\n",
       "      <th>4</th>\n",
       "      <td>4</td>\n",
       "      <td>-2</td>\n",
       "      <td>i was so embarrassed when she saw us i was lik...</td>\n",
       "    </tr>\n",
       "  </tbody>\n",
       "</table>\n",
       "</div>"
      ],
      "text/plain": [
       "   id  class                                               text\n",
       "0   0      0                   @liamch88 yeah! :) playing well \n",
       "1   1      0  At least I don't have a guy trying to discoura...\n",
       "2   2      0  UPLIFT: If you're still discouraged it means y...\n",
       "3   3      0  ...at your age, the heyday in the blood is tam...\n",
       "4   4     -2  i was so embarrassed when she saw us i was lik..."
      ]
     },
     "metadata": {},
     "output_type": "display_data"
    },
    {
     "name": "stdout",
     "output_type": "stream",
     "text": [
      "(1630, 3)\n"
     ]
    }
   ],
   "source": [
    "# Loading Data Set 7 Classes\n",
    "train_7_data = pd.read_csv(train_7_path, encoding='utf-8', sep='\\t', names=['id', 'class', 'text'])\n",
    "display(train_7_data.head())\n",
    "print(train_7_data.shape)"
   ]
  },
  {
   "cell_type": "markdown",
   "metadata": {
    "colab_type": "text",
    "id": "W_s09wu8bWjt"
   },
   "source": [
    "# Preprocessing"
   ]
  },
  {
   "cell_type": "code",
   "execution_count": 23,
   "metadata": {
    "colab": {},
    "colab_type": "code",
    "id": "NZjPjPnIE6DF"
   },
   "outputs": [],
   "source": [
    "smileys = {\n",
    "  \":‑)\": \"smiley\",\n",
    "  \":-]\": \"smiley\",\n",
    "  \":-3\": \"smiley\",\n",
    "  \":->\": \"smiley\",\n",
    "  \"8-)\": \"smiley\",\n",
    "  \":-}\": \"smiley\",\n",
    "  \":)\": \"smiley\",\n",
    "  \":]\": \"smiley\",\n",
    "  \":3\": \"smiley\",\n",
    "  \":>\": \"smiley\",\n",
    "  \"8)\": \"smiley\",\n",
    "  \":}\": \"smiley\",\n",
    "  \":o)\": \"smiley\",\n",
    "  \":c)\": \"smiley\",\n",
    "  \":^)\": \"smiley\",\n",
    "  \"=]\": \"smiley\",\n",
    "  \"=)\": \"smiley\",\n",
    "  \":-))\": \"smiley\",\n",
    "  \":‑D\": \"smiley\",\n",
    "  \"8‑D\": \"smiley\",\n",
    "  \"x‑D\": \"smiley\",\n",
    "  \"X‑D\": \"smiley\",\n",
    "  \":D\": \"smiley\",\n",
    "  \"8D\": \"smiley\",\n",
    "  \"xD\": \"smiley\",\n",
    "  \"XD\": \"smiley\",\n",
    "  \">:D\": \"smiley\",\n",
    "  \":‑(\": \"sad\",\n",
    "  \":‑c\": \"sad\",\n",
    "  \":‑<\": \"sad\",\n",
    "  \":‑[\": \"sad\",\n",
    "  \":(\": \"sad\",\n",
    "  \":c\": \"sad\",\n",
    "  \":<\": \"sad\",\n",
    "  \":[\": \"sad\",\n",
    "  \":-||\": \"sad\",\n",
    "  \">:[\": \"sad\",\n",
    "  \":{\": \"sad\",\n",
    "  \":@\": \"sad\",\n",
    "  \">:(\": \"sad\",\n",
    "  \":'‑(\": \"sad\",\n",
    "  \":'(\": \"sad\",\n",
    "  \":‑P\": \"playful\",\n",
    "  \"X‑P\": \"playful\",\n",
    "  \"x‑p\": \"playful\",\n",
    "  \":‑p\": \"playful\",\n",
    "  \":‑Þ\": \"playful\",\n",
    "  \":‑þ\": \"playful\",\n",
    "  \":‑b\": \"playful\",\n",
    "  \":P\": \"playful\",\n",
    "  \"XP\": \"playful\",\n",
    "  \"xp\": \"playful\",\n",
    "  \":p\": \"playful\",\n",
    "  \":Þ\": \"playful\",\n",
    "  \":þ\": \"playful\",\n",
    "  \":b\": \"playful\",\n",
    "  \"<3\": \"love\"\n",
    "}\n",
    "\n",
    "contractions = {\n",
    "  \"ain't\": \"is not\",\n",
    "  \"amn't\": \"am not\",\n",
    "  \"aren't\": \"are not\",\n",
    "  \"can't\": \"cannot\",\n",
    "  \"'cause\": \"because\",\n",
    "  \"couldn't\": \"could not\",\n",
    "  \"couldn't've\": \"could not have\",\n",
    "  \"could've\": \"could have\",\n",
    "  \"daren't\": \"dare not\",\n",
    "  \"daresn't\": \"dare not\",\n",
    "  \"dasn't\": \"dare not\",\n",
    "  \"didn't\": \"did not\",\n",
    "  \"doesn't\": \"does not\",\n",
    "  \"don't\": \"do not\",\n",
    "  \"e'er\": \"ever\",\n",
    "  \"em\": \"them\",\n",
    "  \"everyone's\": \"everyone is\",\n",
    "  \"finna\": \"fixing to\",\n",
    "  \"gimme\": \"give me\",\n",
    "  \"gonna\": \"going to\",\n",
    "  \"gon't\": \"go not\",\n",
    "  \"gotta\": \"got to\",\n",
    "  \"hadn't\": \"had not\",\n",
    "  \"hasn't\": \"has not\",\n",
    "  \"haven't\": \"have not\",\n",
    "  \"he'd\": \"he would\",\n",
    "  \"he'll\": \"he will\",\n",
    "  \"he's\": \"he is\",\n",
    "  \"he've\": \"he have\",\n",
    "  \"how'd\": \"how would\",\n",
    "  \"how'll\": \"how will\",\n",
    "  \"how're\": \"how are\",\n",
    "  \"how's\": \"how is\",\n",
    "  \"I'd\": \"I would\",\n",
    "  \"I'll\": \"I will\",\n",
    "  \"I'm\": \"I am\",\n",
    "  \"I'm'a\": \"I am about to\",\n",
    "  \"I'm'o\": \"I am going to\",\n",
    "  \"isn't\": \"is not\",\n",
    "  \"it'd\": \"it would\",\n",
    "  \"it'll\": \"it will\",\n",
    "  \"it's\": \"it is\",\n",
    "  \"I've\": \"I have\",\n",
    "  \"kinda\": \"kind of\",\n",
    "  \"let's\": \"let us\",\n",
    "  \"mayn't\": \"may not\",\n",
    "  \"may've\": \"may have\",\n",
    "  \"mightn't\": \"might not\",\n",
    "  \"might've\": \"might have\",\n",
    "  \"mustn't\": \"must not\",\n",
    "  \"mustn't've\": \"must not have\",\n",
    "  \"must've\": \"must have\",\n",
    "  \"needn't\": \"need not\",\n",
    "  \"ne'er\": \"never\",\n",
    "  \"o'\": \"of\",\n",
    "  \"o'er\": \"over\",\n",
    "  \"ol'\": \"old\",\n",
    "  \"oughtn't\": \"ought not\",\n",
    "  \"shalln't\": \"shall not\",\n",
    "  \"shan't\": \"shall not\",\n",
    "  \"she'd\": \"she would\",\n",
    "  \"she'll\": \"she will\",\n",
    "  \"she's\": \"she is\",\n",
    "  \"shouldn't\": \"should not\",\n",
    "  \"shouldn't've\": \"should not have\",\n",
    "  \"should've\": \"should have\",\n",
    "  \"somebody's\": \"somebody is\",\n",
    "  \"someone's\": \"someone is\",\n",
    "  \"something's\": \"something is\",\n",
    "  \"that'd\": \"that would\",\n",
    "  \"that'll\": \"that will\",\n",
    "  \"that're\": \"that are\",\n",
    "  \"that's\": \"that is\",\n",
    "  \"there'd\": \"there would\",\n",
    "  \"there'll\": \"there will\",\n",
    "  \"there're\": \"there are\",\n",
    "  \"there's\": \"there is\",\n",
    "  \"these're\": \"these are\",\n",
    "  \"they'd\": \"they would\",\n",
    "  \"they'll\": \"they will\",\n",
    "  \"they're\": \"they are\",\n",
    "  \"they've\": \"they have\",\n",
    "  \"this's\": \"this is\",\n",
    "  \"those're\": \"those are\",\n",
    "  \"'tis\": \"it is\",\n",
    "  \"'twas\": \"it was\",\n",
    "  \"wanna\": \"want to\",\n",
    "  \"wasn't\": \"was not\",\n",
    "  \"we'd\": \"we would\",\n",
    "  \"we'd've\": \"we would have\",\n",
    "  \"we'll\": \"we will\",\n",
    "  \"we're\": \"we are\",\n",
    "  \"weren't\": \"were not\",\n",
    "  \"we've\": \"we have\",\n",
    "  \"what'd\": \"what did\",\n",
    "  \"what'll\": \"what will\",\n",
    "  \"what're\": \"what are\",\n",
    "  \"what's\": \"what is\",\n",
    "  \"what've\": \"what have\",\n",
    "  \"when's\": \"when is\",\n",
    "  \"where'd\": \"where did\",\n",
    "  \"where're\": \"where are\",\n",
    "  \"where's\": \"where is\",\n",
    "  \"where've\": \"where have\",\n",
    "  \"which's\": \"which is\",\n",
    "  \"who'd\": \"who would\",\n",
    "  \"who'd've\": \"who would have\",\n",
    "  \"who'll\": \"who will\",\n",
    "  \"who're\": \"who are\",\n",
    "  \"who's\": \"who is\",\n",
    "  \"who've\": \"who have\",\n",
    "  \"why'd\": \"why did\",\n",
    "  \"why're\": \"why are\",\n",
    "  \"why's\": \"why is\",\n",
    "  \"won't\": \"will not\",\n",
    "  \"wouldn't\": \"would not\",\n",
    "  \"would've\": \"would have\",\n",
    "  \"y'all\": \"you all\",\n",
    "  \"you'd\": \"you would\",\n",
    "  \"you'll\": \"you will\",\n",
    "  \"you're\": \"you are\",\n",
    "  \"you've\": \"you have\",\n",
    "  \"Whatcha\": \"What are you\",\n",
    "  \"luv\": \"love\",\n",
    "  \"sux\": \"sucks\"\n",
    "}"
   ]
  },
  {
   "cell_type": "code",
   "execution_count": 24,
   "metadata": {
    "colab": {},
    "colab_type": "code",
    "id": "QNdFrKNeuJ9t"
   },
   "outputs": [],
   "source": [
    "tknzr = TweetTokenizer()\n",
    "notstopwords = set(('not', 'no'))\n",
    "my_stopwords = set(stopwords.words('english')) - notstopwords\n",
    "\n",
    "def standardization(tweet):\n",
    "    # Hashtag & Tag & URL & Unicode\n",
    "    tweet = re.sub(r'(\\\\u[0-9A-Fa-f]+)', ' ', tweet)\n",
    "    tweet = re.sub(r'[^\\x00-\\x7F]+', ' ', tweet)\n",
    "    tweet = re.sub(r'http\\S+', '', tweet)\n",
    "    tweet = re.sub(r\"@\\w+\", '', tweet)\n",
    "    tweet = re.sub(r\"#\\w+\", '', tweet)\n",
    "    \n",
    "    # Tokenizer\n",
    "    tknzr = TweetTokenizer()\n",
    "    tweet = tknzr.tokenize(tweet)\n",
    "    \n",
    "    # Emojis\n",
    "    tweet = [smileys[i] if i in smileys else i for i in tweet]\n",
    "    tweet = ' '.join(tweet)\n",
    "    \n",
    "    # Lower\n",
    "    tweet = tweet.lower()\n",
    "\n",
    "    # Tokenizing & Stopwords\n",
    "    tweet = tknzr.tokenize(tweet)\n",
    "    tweet = [i for i in tweet if (i not in my_stopwords) and (i not in punctuation)]\n",
    "    tweet = [contractions[i] if i in contractions else i for i in tweet]\n",
    "\n",
    "    return tweet"
   ]
  },
  {
   "cell_type": "code",
   "execution_count": 25,
   "metadata": {
    "colab": {},
    "colab_type": "code",
    "id": "1QBnjNhoDyVb"
   },
   "outputs": [],
   "source": [
    "# Applying Standardization\n",
    "train_3_data['text'] = train_3_data['text'].apply(standardization)\n",
    "test_3_data['text'] = test_3_data['text'].apply(standardization)\n",
    "train_7_data['text'] = train_7_data['text'].apply(standardization)"
   ]
  },
  {
   "cell_type": "code",
   "execution_count": 26,
   "metadata": {
    "colab": {},
    "colab_type": "code",
    "id": "1cXE06yeCAN-"
   },
   "outputs": [],
   "source": [
    "# Fitting Tokenizer & Calculating Max Seq Length\n",
    "all_tweets = train_3_data['text'].append(train_7_data['text']).append(test_3_data['text'])\n",
    "MAX_SEQUENCE_LENGTH = int(all_tweets.str.len().max() * 0.75)\n",
    "tokenizer = Tokenizer(filters=' ')\n",
    "tokenizer.fit_on_texts(all_tweets)\n",
    "word_index = tokenizer.word_index"
   ]
  },
  {
   "cell_type": "code",
   "execution_count": 27,
   "metadata": {
    "colab": {},
    "colab_type": "code",
    "id": "cb2rOOWoCC8s"
   },
   "outputs": [],
   "source": [
    "# Applying Text To Sequences\n",
    "train_3_data['text'] = tokenizer.texts_to_sequences(train_3_data['text'])\n",
    "test_3_data['text'] = tokenizer.texts_to_sequences(test_3_data['text'])\n",
    "train_7_data['text'] = tokenizer.texts_to_sequences(train_7_data['text'])"
   ]
  },
  {
   "cell_type": "code",
   "execution_count": 28,
   "metadata": {
    "colab": {},
    "colab_type": "code",
    "id": "SjNLN79EJwNH"
   },
   "outputs": [],
   "source": [
    "# Applying Padding\n",
    "train_3_data['text'] = train_3_data['text'].apply(lambda x: pad_sequences([x], maxlen=MAX_SEQUENCE_LENGTH)[0])\n",
    "test_3_data['text'] = test_3_data['text'].apply(lambda x: pad_sequences([x], maxlen=MAX_SEQUENCE_LENGTH)[0])\n",
    "train_7_data['text'] = train_7_data['text'].apply(lambda x: pad_sequences([x], maxlen=MAX_SEQUENCE_LENGTH)[0])"
   ]
  },
  {
   "cell_type": "code",
   "execution_count": 29,
   "metadata": {
    "colab": {},
    "colab_type": "code",
    "id": "KmLL-3smqvDZ"
   },
   "outputs": [],
   "source": [
    "class DataGenerator:\n",
    "    def __init__(self, df, word2vec, max_size, nb_classes, batch_size):\n",
    "        self.df = df\n",
    "        self.word2vec = word2vec\n",
    "        self.max_size = max_size\n",
    "        self.nb_classes = nb_classes\n",
    "        self.data_set_size = len(df)\n",
    "        self.batch_size = batch_size\n",
    "        self.step = len(df) // batch_size + (1 if self.data_set_size % self.batch_size else 0)\n",
    "\n",
    "    def getXAt(self, index):\n",
    "        return np.array(self.df.iloc[index]['text'])\n",
    "\n",
    "    def getYAt(self, index):\n",
    "        res = np.zeros(self.nb_classes)\n",
    "        res[self.nb_classes // 2 + self.df.iloc[index]['class']] = 1\n",
    "        return res\n",
    "\n",
    "    def getWeights(self):\n",
    "        WEIGHTS = {}\n",
    "        nb_classes = []\n",
    "        for i in range(self.nb_classes):\n",
    "            nb_classes.append(self.df[self.df['class'] == (i - self.nb_classes // 2)].shape[0])\n",
    "        for i in range(self.nb_classes):\n",
    "            WEIGHTS[i] = max(nb_classes) / nb_classes[i]\n",
    "        return WEIGHTS\n",
    "\n",
    "    def getGenerator(self):\n",
    "        while True:\n",
    "            for idx in range(self.step):\n",
    "                batch_x = np.array([self.getXAt(index) for index in range(idx * self.batch_size, min((idx + 1) * self.batch_size, self.data_set_size))])\n",
    "                batch_y = np.array([self.getYAt(index) for index in range(idx * self.batch_size, min((idx + 1) * self.batch_size, self.data_set_size))])\n",
    "                yield batch_x, batch_y\n",
    "\n",
    "    def getInputGenerator(self):\n",
    "        for idx in range(self.step):\n",
    "            yield np.array([self.getXAt(index) for index in range(idx * self.batch_size, min((idx + 1) * self.batch_size, self.data_set_size))])"
   ]
  },
  {
   "cell_type": "code",
   "execution_count": 30,
   "metadata": {
    "colab": {
     "base_uri": "https://localhost:8080/",
     "height": 394
    },
    "colab_type": "code",
    "id": "6xvg2mzHHDRc",
    "outputId": "6d2cee6a-57a4-4f58-9205-47d70b4a13c9"
   },
   "outputs": [],
   "source": [
    "# Word2Vec\n",
    "EMBEDDING_DIM = 300\n",
    "word2vec = KeyedVectors.load_word2vec_format(word2vec_path, binary=True)"
   ]
  },
  {
   "cell_type": "code",
   "execution_count": 31,
   "metadata": {
    "colab": {},
    "colab_type": "code",
    "id": "aDELg_ItpPSh"
   },
   "outputs": [
    {
     "name": "stdout",
     "output_type": "stream",
     "text": [
      "Embedding Matrix is empty at 40.590804701220335%\n"
     ]
    }
   ],
   "source": [
    "# Default Vector\n",
    "default_vector = (np.random.rand(EMBEDDING_DIM) * 2.0) - 1\n",
    "default_vector /= np.linalg.norm(default_vector)\n",
    "\n",
    "# Number of words\n",
    "nb_words = len(word_index) + 1\n",
    "\n",
    "# Embeddings Matrix\n",
    "embedding_matrix = np.zeros((nb_words, EMBEDDING_DIM))\n",
    "cpt = 0\n",
    "for word, i in word_index.items():\n",
    "    if word in word2vec.vocab:\n",
    "        embedding_matrix[i] = word2vec.word_vec(word)\n",
    "    else:\n",
    "        embedding_matrix[i] = default_vector\n",
    "        cpt += 1\n",
    "print('Embedding Matrix is empty at {}%'.format(100 * cpt / len(embedding_matrix)))"
   ]
  },
  {
   "cell_type": "markdown",
   "metadata": {},
   "source": [
    "# Custom Metrics"
   ]
  },
  {
   "cell_type": "code",
   "execution_count": 32,
   "metadata": {},
   "outputs": [],
   "source": [
    "def distance(y_true, y_pred):\n",
    "    return B.square(B.argmax(y_true) - B.argmax(y_pred))"
   ]
  },
  {
   "cell_type": "markdown",
   "metadata": {},
   "source": [
    "# Training"
   ]
  },
  {
   "cell_type": "code",
   "execution_count": 33,
   "metadata": {
    "colab": {},
    "colab_type": "code",
    "id": "Bz0-XjH9ednT"
   },
   "outputs": [
    {
     "name": "stdout",
     "output_type": "stream",
     "text": [
      "{0: 2.8995031255008814, 1: 1.0, 2: 1.1350944343351947}\n"
     ]
    }
   ],
   "source": [
    "# Parameters\n",
    "BATCH_SIZE = 32\n",
    "LEARNING_RATE = 0.01\n",
    "EPOCHS = 32\n",
    "PATIENCE = 8\n",
    "LR_PATIENCE = 3\n",
    "train_df, val_df = train_test_split(train_3_data, test_size=0.2, random_state=1)\n",
    "TRAINING_GENERATOR = DataGenerator(train_df, word2vec, MAX_SEQUENCE_LENGTH, 3, BATCH_SIZE)\n",
    "VALIDATION_GENERATOR = DataGenerator(val_df, word2vec, MAX_SEQUENCE_LENGTH, 3, BATCH_SIZE)\n",
    "WEIGHTS = TRAINING_GENERATOR.getWeights()\n",
    "STEPS_PER_EPOCH = TRAINING_GENERATOR.step\n",
    "VALIDATION_STEPS = VALIDATION_GENERATOR.step\n",
    "print(WEIGHTS)"
   ]
  },
  {
   "cell_type": "code",
   "execution_count": null,
   "metadata": {
    "scrolled": false
   },
   "outputs": [],
   "source": [
    "# Model Structure\n",
    "model1 = Sequential()\n",
    "model1.add(Embedding(nb_words, EMBEDDING_DIM, weights=[embedding_matrix], input_length=MAX_SEQUENCE_LENGTH, trainable=False, name='embedding_layer_model_1'))\n",
    "model1.add(GRU(64))\n",
    "model1.add(Dense(128, activation='relu', name='dense_1_model_1'))\n",
    "model1.add(Dropout(0.1, name='drop_out_1_model_1'))\n",
    "model1.add(Dense(3, activation='softmax', name='output_layer_model_1'))\n",
    "\n",
    "# Summary\n",
    "model1.summary()\n",
    "\n",
    "\n",
    "# Callbacks and Summary\n",
    "model1.compile(\n",
    "    loss='categorical_crossentropy',\n",
    "    optimizer=optimizers.SGD(lr=LEARNING_RATE, decay=1e-6, momentum=0.9, nesterov=True),\n",
    "    metrics=['accuracy', distance]\n",
    ")\n",
    "Callbacks = [ReduceLROnPlateau(monitor='val_accuracy', factor=0.5, patience=LR_PATIENCE, verbose=True),\n",
    "             EarlyStopping(patience=PATIENCE, monitor='val_accuracy')]\n",
    "\n",
    "# Training\n",
    "history = model1.fit(TRAINING_GENERATOR.getGenerator(),\n",
    "                     validation_data=VALIDATION_GENERATOR.getGenerator(),\n",
    "                     epochs=EPOCHS, steps_per_epoch=STEPS_PER_EPOCH,\n",
    "                     validation_steps=VALIDATION_STEPS,\n",
    "                     callbacks=Callbacks,\n",
    "                     verbose=True)\n",
    "                     #class_weight=WEIGHTS)\n",
    "\n",
    "# Saving the Model\n",
    "model1.save(\"{}{}\".format(path, \"model1.h5\"))"
   ]
  },
  {
   "cell_type": "code",
   "execution_count": 67,
   "metadata": {
    "scrolled": false
   },
   "outputs": [
    {
     "data": {
      "image/png": "[encoded data removed]",
      "text/plain": [
       "<Figure size 432x288 with 1 Axes>"
      ]
     },
     "metadata": {
      "needs_background": "light"
     },
     "output_type": "display_data"
    },
    {
     "data": {
      "image/png": "[encoded data removed]",
      "text/plain": [
       "<Figure size 432x288 with 1 Axes>"
      ]
     },
     "metadata": {
      "needs_background": "light"
     },
     "output_type": "display_data"
    },
    {
     "data": {
      "image/png": "[encoded data removed]",
      "text/plain": [
       "<Figure size 432x288 with 1 Axes>"
      ]
     },
     "metadata": {
      "needs_background": "light"
     },
     "output_type": "display_data"
    },
    {
     "name": "stdout",
     "output_type": "stream",
     "text": [
      "32/32 [==============================] - 0s 9ms/step\n",
      "[0.7686548829078674, 0.6323529481887817, 0.5]\n",
      "[[ 94  83  26]\n",
      " [ 27 311  91]\n",
      " [ 19 129 240]]\n"
     ]
    },
    {
     "data": {
      "text/plain": [
       "(array([-1,  0,  1]), array([140, 523, 357]))"
      ]
     },
     "execution_count": 67,
     "metadata": {},
     "output_type": "execute_result"
    }
   ],
   "source": [
    "# Plotting hist acc\n",
    "plt.plot(history.history['accuracy'])\n",
    "plt.plot(history.history['val_accuracy'])\n",
    "plt.title('model accuracy')\n",
    "plt.ylabel('accuracy')\n",
    "plt.xlabel('epoch')\n",
    "plt.legend(['train','val'], loc='upper left')\n",
    "plt.show()\n",
    "\n",
    "# Plotting hist loss\n",
    "plt.plot(history.history['loss'])\n",
    "plt.plot(history.history['val_loss'])\n",
    "plt.title('model loss')\n",
    "plt.ylabel('loss')\n",
    "plt.xlabel('epoch')\n",
    "plt.legend(['train','val'], loc='upper left')\n",
    "plt.show()\n",
    "\n",
    "# Plotting distance loss\n",
    "plt.plot(history.history['distance'])\n",
    "plt.plot(history.history['val_distance'])\n",
    "plt.title('model distance')\n",
    "plt.ylabel('distance')\n",
    "plt.xlabel('epoch')\n",
    "plt.legend(['train','val'], loc='upper left')\n",
    "plt.show()\n",
    "\n",
    "# Testing\n",
    "TEST_GENERATOR = DataGenerator(test_3_data, word2vec, MAX_SEQUENCE_LENGTH, 3, BATCH_SIZE)\n",
    "print(model1.evaluate(TEST_GENERATOR.getGenerator(), verbose=True, steps=TEST_GENERATOR.step))\n",
    "y_pred = np.argmax(model1.predict(TEST_GENERATOR.getInputGenerator(), steps=TEST_GENERATOR.step), axis=1) - 1\n",
    "y_true = test_3_data['class']\n",
    "print(confusion_matrix(y_true, y_pred))\n",
    "np.unique(y_pred, return_counts=True)"
   ]
  },
  {
   "cell_type": "markdown",
   "metadata": {
    "colab_type": "text",
    "id": "Lc_4Hz05tJwP"
   },
   "source": [
    "# Best was [0.6292, 0.7058, 0.4147]"
   ]
  },
  {
   "cell_type": "code",
   "execution_count": 35,
   "metadata": {
    "colab": {
     "base_uri": "https://localhost:8080/",
     "height": 1000
    },
    "colab_type": "code",
    "id": "wTE8zViRcYpp",
    "outputId": "14e9fd1c-0a22-4cdf-fff4-b5c3fffe8e3c",
    "scrolled": false
   },
   "outputs": [
    {
     "name": "stdout",
     "output_type": "stream",
     "text": [
      "{0: 2.242424242424242, 1: 1.2758620689655173, 2: 4.054794520547945, 3: 1.0, 4: 1.9096774193548387, 5: 3.148936170212766, 6: 2.52991452991453}\n"
     ]
    }
   ],
   "source": [
    "# Parameters\n",
    "LEARNING_RATE = 0.01\n",
    "BATCH_SIZE = 16\n",
    "EPOCHS = 256\n",
    "PATIENCE = 64\n",
    "LR_PATIENCE = 8\n",
    "train_df, test_df = train_test_split(train_7_data, test_size=0.25, random_state=4)\n",
    "train_df, val_df = train_test_split(train_df, test_size=0.1, random_state=4)\n",
    "TRAINING_GENERATOR = DataGenerator(train_df, word2vec, MAX_SEQUENCE_LENGTH, 7, BATCH_SIZE)\n",
    "VALIDATION_GENERATOR = DataGenerator(val_df, word2vec, MAX_SEQUENCE_LENGTH, 7, BATCH_SIZE)\n",
    "WEIGHTS = TRAINING_GENERATOR.getWeights()\n",
    "print(WEIGHTS)\n",
    "STEPS_PER_EPOCH = TRAINING_GENERATOR.step\n",
    "VALIDATION_STEPS = VALIDATION_GENERATOR.step"
   ]
  },
  {
   "cell_type": "code",
   "execution_count": 36,
   "metadata": {
    "scrolled": false
   },
   "outputs": [
    {
     "name": "stdout",
     "output_type": "stream",
     "text": [
      "Model: \"sequential_8\"\n",
      "_________________________________________________________________\n",
      "Layer (type)                 Output Shape              Param #   \n",
      "=================================================================\n",
      "embedding_layer_model_1 (Emb (None, 24, 300)           13324200  \n",
      "_________________________________________________________________\n",
      "gru_6 (GRU)                  (None, 64)                70080     \n",
      "_________________________________________________________________\n",
      "dense_1_model_1 (Dense)      (None, 128)               8320      \n",
      "_________________________________________________________________\n",
      "drop_out_1_model_1 (Dropout) (None, 128)               0         \n",
      "_________________________________________________________________\n",
      "dense_1_model_2 (Dense)      (None, 64)                8256      \n",
      "_________________________________________________________________\n",
      "output_layer_model_2 (Dense) (None, 7)                 455       \n",
      "=================================================================\n",
      "Total params: 13,481,387\n",
      "Trainable params: 78,787\n",
      "Non-trainable params: 13,402,600\n",
      "_________________________________________________________________\n"
     ]
    },
    {
     "name": "stderr",
     "output_type": "stream",
     "text": [
      "/Users/vincent/anaconda3/lib/python3.7/site-packages/keras/engine/training.py:297: UserWarning: Discrepancy between trainable weights and collected trainable weights, did you set `model.trainable` without calling `model.compile` after ?\n",
      "  'Discrepancy between trainable weights and collected trainable'\n"
     ]
    },
    {
     "name": "stdout",
     "output_type": "stream",
     "text": [
      "Epoch 1/256\n",
      "69/69 [==============================] - 2s 27ms/step - loss: 3.3573 - accuracy: 0.1811 - distance: 4.5369 - val_loss: 1.5258 - val_accuracy: 0.3415 - val_distance: 4.2358\n",
      "Epoch 2/256\n",
      "69/69 [==============================] - 1s 13ms/step - loss: 3.1627 - accuracy: 0.2666 - distance: 3.2402 - val_loss: 1.5375 - val_accuracy: 0.3252 - val_distance: 3.8618\n",
      "Epoch 3/256\n",
      "69/69 [==============================] - 1s 16ms/step - loss: 3.1502 - accuracy: 0.2675 - distance: 3.1338 - val_loss: 1.5422 - val_accuracy: 0.3333 - val_distance: 3.7724\n",
      "Epoch 4/256\n",
      "69/69 [==============================] - 1s 13ms/step - loss: 3.1213 - accuracy: 0.2994 - distance: 2.9509 - val_loss: 1.5443 - val_accuracy: 0.3415 - val_distance: 3.6504\n",
      "Epoch 5/256\n",
      "69/69 [==============================] - 1s 16ms/step - loss: 3.1000 - accuracy: 0.2830 - distance: 3.1146 - val_loss: 1.5578 - val_accuracy: 0.3415 - val_distance: 3.6829\n",
      "Epoch 6/256\n",
      "69/69 [==============================] - 1s 13ms/step - loss: 3.0875 - accuracy: 0.3030 - distance: 3.0191 - val_loss: 1.5599 - val_accuracy: 0.3252 - val_distance: 3.7805\n",
      "Epoch 7/256\n",
      "69/69 [==============================] - 1s 16ms/step - loss: 3.0695 - accuracy: 0.3030 - distance: 2.9327 - val_loss: 1.5596 - val_accuracy: 0.3171 - val_distance: 3.7805\n",
      "Epoch 8/256\n",
      "69/69 [==============================] - 1s 13ms/step - loss: 3.0548 - accuracy: 0.3066 - distance: 3.0846 - val_loss: 1.5456 - val_accuracy: 0.3252 - val_distance: 3.8943\n",
      "Epoch 9/256\n",
      "69/69 [==============================] - 1s 15ms/step - loss: 3.0465 - accuracy: 0.3139 - distance: 3.0255 - val_loss: 1.5604 - val_accuracy: 0.3252 - val_distance: 3.7398\n",
      "\n",
      "Epoch 00009: ReduceLROnPlateau reducing learning rate to 0.004999999888241291.\n",
      "Epoch 10/256\n",
      "69/69 [==============================] - 1s 14ms/step - loss: 3.0060 - accuracy: 0.3476 - distance: 2.8562 - val_loss: 1.5988 - val_accuracy: 0.3089 - val_distance: 3.8862\n",
      "Epoch 11/256\n",
      "69/69 [==============================] - 1s 17ms/step - loss: 3.0123 - accuracy: 0.3439 - distance: 2.9691 - val_loss: 1.6094 - val_accuracy: 0.3171 - val_distance: 3.8130\n",
      "Epoch 12/256\n",
      "69/69 [==============================] - 1s 13ms/step - loss: 3.0054 - accuracy: 0.3358 - distance: 3.0109 - val_loss: 1.6094 - val_accuracy: 0.3252 - val_distance: 3.7398\n",
      "Epoch 13/256\n",
      "69/69 [==============================] - 1s 15ms/step - loss: 2.9758 - accuracy: 0.3567 - distance: 3.0082 - val_loss: 1.6048 - val_accuracy: 0.3171 - val_distance: 3.6992\n",
      "Epoch 14/256\n",
      "69/69 [==============================] - 1s 13ms/step - loss: 2.9751 - accuracy: 0.3412 - distance: 2.9727 - val_loss: 1.6142 - val_accuracy: 0.3089 - val_distance: 3.8699\n",
      "Epoch 15/256\n",
      "69/69 [==============================] - 1s 13ms/step - loss: 2.9760 - accuracy: 0.3394 - distance: 2.9800 - val_loss: 1.6087 - val_accuracy: 0.2927 - val_distance: 3.8618\n",
      "Epoch 16/256\n",
      "69/69 [==============================] - 1s 15ms/step - loss: 2.9721 - accuracy: 0.3494 - distance: 2.9463 - val_loss: 1.6037 - val_accuracy: 0.3008 - val_distance: 3.8537\n",
      "Epoch 17/256\n",
      "69/69 [==============================] - 1s 12ms/step - loss: 2.9632 - accuracy: 0.3540 - distance: 2.9117 - val_loss: 1.5930 - val_accuracy: 0.3089 - val_distance: 3.7561\n",
      "\n",
      "Epoch 00017: ReduceLROnPlateau reducing learning rate to 0.0024999999441206455.\n",
      "Epoch 18/256\n",
      "69/69 [==============================] - 1s 15ms/step - loss: 2.9417 - accuracy: 0.3685 - distance: 2.9154 - val_loss: 1.6282 - val_accuracy: 0.3333 - val_distance: 3.4715\n",
      "Epoch 19/256\n",
      "69/69 [==============================] - 1s 13ms/step - loss: 2.9312 - accuracy: 0.3467 - distance: 2.9900 - val_loss: 1.6344 - val_accuracy: 0.3333 - val_distance: 3.4065\n",
      "Epoch 20/256\n",
      "69/69 [==============================] - 1s 15ms/step - loss: 2.9218 - accuracy: 0.3731 - distance: 2.9581 - val_loss: 1.6277 - val_accuracy: 0.3171 - val_distance: 3.5610\n",
      "Epoch 21/256\n",
      "69/69 [==============================] - 1s 13ms/step - loss: 2.9278 - accuracy: 0.3667 - distance: 2.9527 - val_loss: 1.6374 - val_accuracy: 0.3089 - val_distance: 3.5447\n",
      "Epoch 22/256\n",
      "69/69 [==============================] - 1s 16ms/step - loss: 2.9355 - accuracy: 0.3667 - distance: 2.9390 - val_loss: 1.6441 - val_accuracy: 0.3171 - val_distance: 3.4390\n",
      "Epoch 23/256\n",
      "69/69 [==============================] - 1s 13ms/step - loss: 2.9098 - accuracy: 0.3703 - distance: 2.7516 - val_loss: 1.6488 - val_accuracy: 0.3089 - val_distance: 3.4472\n",
      "Epoch 24/256\n",
      "69/69 [==============================] - 1s 16ms/step - loss: 2.9032 - accuracy: 0.3785 - distance: 2.8362 - val_loss: 1.6302 - val_accuracy: 0.3171 - val_distance: 3.4390\n",
      "Epoch 25/256\n",
      "69/69 [==============================] - 1s 13ms/step - loss: 2.8940 - accuracy: 0.3640 - distance: 2.8144 - val_loss: 1.6400 - val_accuracy: 0.3089 - val_distance: 3.5122\n",
      "\n",
      "Epoch 00025: ReduceLROnPlateau reducing learning rate to 0.0012499999720603228.\n",
      "Epoch 26/256\n",
      "69/69 [==============================] - 1s 16ms/step - loss: 2.8671 - accuracy: 0.3813 - distance: 2.8308 - val_loss: 1.6427 - val_accuracy: 0.3252 - val_distance: 3.4309\n",
      "Epoch 27/256\n",
      "69/69 [==============================] - 1s 13ms/step - loss: 2.8865 - accuracy: 0.3785 - distance: 2.8180 - val_loss: 1.6550 - val_accuracy: 0.3089 - val_distance: 3.4228\n",
      "Epoch 28/256\n",
      "69/69 [==============================] - 1s 13ms/step - loss: 2.8697 - accuracy: 0.3676 - distance: 2.8508 - val_loss: 1.6507 - val_accuracy: 0.3089 - val_distance: 3.4228\n",
      "Epoch 29/256\n",
      "69/69 [==============================] - 1s 16ms/step - loss: 2.9005 - accuracy: 0.3685 - distance: 2.8271 - val_loss: 1.6553 - val_accuracy: 0.3171 - val_distance: 3.3902\n",
      "Epoch 30/256\n",
      "69/69 [==============================] - 1s 13ms/step - loss: 2.8710 - accuracy: 0.3858 - distance: 2.7652 - val_loss: 1.6568 - val_accuracy: 0.3171 - val_distance: 3.4146\n",
      "Epoch 31/256\n",
      "69/69 [==============================] - 1s 16ms/step - loss: 2.8614 - accuracy: 0.3803 - distance: 2.8417 - val_loss: 1.6602 - val_accuracy: 0.3008 - val_distance: 3.4309\n",
      "Epoch 32/256\n",
      "69/69 [==============================] - 1s 13ms/step - loss: 2.8832 - accuracy: 0.3785 - distance: 2.8308 - val_loss: 1.6599 - val_accuracy: 0.3008 - val_distance: 3.4309\n",
      "Epoch 33/256\n",
      "69/69 [==============================] - 1s 16ms/step - loss: 2.8851 - accuracy: 0.3667 - distance: 2.7853 - val_loss: 1.6646 - val_accuracy: 0.2927 - val_distance: 3.4390\n",
      "\n",
      "Epoch 00033: ReduceLROnPlateau reducing learning rate to 0.0006249999860301614.\n",
      "Epoch 34/256\n",
      "69/69 [==============================] - 1s 13ms/step - loss: 2.8527 - accuracy: 0.3876 - distance: 2.8098 - val_loss: 1.6606 - val_accuracy: 0.3089 - val_distance: 3.3984\n",
      "Epoch 35/256\n",
      "69/69 [==============================] - 1s 15ms/step - loss: 2.8331 - accuracy: 0.3913 - distance: 2.7771 - val_loss: 1.6588 - val_accuracy: 0.2927 - val_distance: 3.5041\n",
      "Epoch 36/256\n",
      "69/69 [==============================] - 1s 13ms/step - loss: 2.8581 - accuracy: 0.3794 - distance: 2.8035 - val_loss: 1.6634 - val_accuracy: 0.3008 - val_distance: 3.4065\n",
      "Epoch 37/256\n",
      "69/69 [==============================] - 1s 16ms/step - loss: 2.8456 - accuracy: 0.3876 - distance: 2.6997 - val_loss: 1.6645 - val_accuracy: 0.2927 - val_distance: 3.4390\n",
      "Epoch 38/256\n",
      "69/69 [==============================] - 1s 13ms/step - loss: 2.8343 - accuracy: 0.3849 - distance: 2.7343 - val_loss: 1.6638 - val_accuracy: 0.3089 - val_distance: 3.3984\n",
      "Epoch 39/256\n",
      "69/69 [==============================] - 1s 16ms/step - loss: 2.8651 - accuracy: 0.3858 - distance: 2.7762 - val_loss: 1.6686 - val_accuracy: 0.3008 - val_distance: 3.4309\n",
      "Epoch 40/256\n",
      "69/69 [==============================] - 1s 13ms/step - loss: 2.8394 - accuracy: 0.4013 - distance: 2.7743 - val_loss: 1.6695 - val_accuracy: 0.3008 - val_distance: 3.4309\n",
      "Epoch 41/256\n",
      "69/69 [==============================] - 1s 13ms/step - loss: 2.8299 - accuracy: 0.3931 - distance: 2.6806 - val_loss: 1.6657 - val_accuracy: 0.3089 - val_distance: 3.3984\n",
      "\n",
      "Epoch 00041: ReduceLROnPlateau reducing learning rate to 0.0003124999930150807.\n",
      "Epoch 42/256\n",
      "69/69 [==============================] - 1s 16ms/step - loss: 2.8328 - accuracy: 0.3867 - distance: 2.7989 - val_loss: 1.6626 - val_accuracy: 0.3008 - val_distance: 3.4065\n",
      "Epoch 43/256\n"
     ]
    },
    {
     "name": "stdout",
     "output_type": "stream",
     "text": [
      "69/69 [==============================] - 1s 13ms/step - loss: 2.8449 - accuracy: 0.3867 - distance: 2.7170 - val_loss: 1.6675 - val_accuracy: 0.3089 - val_distance: 3.3984\n",
      "Epoch 44/256\n",
      "69/69 [==============================] - 1s 16ms/step - loss: 2.8439 - accuracy: 0.3849 - distance: 2.7707 - val_loss: 1.6663 - val_accuracy: 0.2927 - val_distance: 3.4390\n",
      "Epoch 45/256\n",
      "69/69 [==============================] - 1s 13ms/step - loss: 2.8607 - accuracy: 0.3985 - distance: 2.7398 - val_loss: 1.6681 - val_accuracy: 0.3008 - val_distance: 3.4309\n",
      "Epoch 46/256\n",
      "69/69 [==============================] - 1s 20ms/step - loss: 2.8218 - accuracy: 0.4076 - distance: 2.6606 - val_loss: 1.6674 - val_accuracy: 0.3008 - val_distance: 3.4309\n",
      "Epoch 47/256\n",
      "69/69 [==============================] - 1s 15ms/step - loss: 2.8351 - accuracy: 0.3822 - distance: 2.6187 - val_loss: 1.6706 - val_accuracy: 0.3008 - val_distance: 3.4309\n",
      "Epoch 48/256\n",
      "69/69 [==============================] - 1s 16ms/step - loss: 2.8542 - accuracy: 0.3822 - distance: 2.7853 - val_loss: 1.6730 - val_accuracy: 0.3008 - val_distance: 3.4309\n",
      "Epoch 49/256\n",
      "69/69 [==============================] - 1s 13ms/step - loss: 2.8628 - accuracy: 0.3813 - distance: 2.6806 - val_loss: 1.6722 - val_accuracy: 0.3008 - val_distance: 3.4309\n",
      "\n",
      "Epoch 00049: ReduceLROnPlateau reducing learning rate to 0.00015624999650754035.\n",
      "Epoch 50/256\n",
      "69/69 [==============================] - 1s 15ms/step - loss: 2.8441 - accuracy: 0.3822 - distance: 2.6824 - val_loss: 1.6714 - val_accuracy: 0.3008 - val_distance: 3.4309\n",
      "Epoch 51/256\n",
      "69/69 [==============================] - 1s 13ms/step - loss: 2.8268 - accuracy: 0.3958 - distance: 2.7516 - val_loss: 1.6727 - val_accuracy: 0.3008 - val_distance: 3.4309\n",
      "Epoch 52/256\n",
      "69/69 [==============================] - 1s 16ms/step - loss: 2.8412 - accuracy: 0.3976 - distance: 2.6915 - val_loss: 1.6732 - val_accuracy: 0.3008 - val_distance: 3.4309\n",
      "Epoch 53/256\n",
      "69/69 [==============================] - 1s 13ms/step - loss: 2.8401 - accuracy: 0.3985 - distance: 2.7370 - val_loss: 1.6727 - val_accuracy: 0.3008 - val_distance: 3.4309\n",
      "Epoch 54/256\n",
      "69/69 [==============================] - 1s 16ms/step - loss: 2.8461 - accuracy: 0.3958 - distance: 2.6178 - val_loss: 1.6727 - val_accuracy: 0.3008 - val_distance: 3.4309\n",
      "Epoch 55/256\n",
      "69/69 [==============================] - 1s 15ms/step - loss: 2.8341 - accuracy: 0.3985 - distance: 2.7116 - val_loss: 1.6714 - val_accuracy: 0.3008 - val_distance: 3.4309\n",
      "Epoch 56/256\n",
      "69/69 [==============================] - 1s 16ms/step - loss: 2.8290 - accuracy: 0.3949 - distance: 2.7316 - val_loss: 1.6726 - val_accuracy: 0.3008 - val_distance: 3.4309\n",
      "Epoch 57/256\n",
      "69/69 [==============================] - 1s 13ms/step - loss: 2.8250 - accuracy: 0.3831 - distance: 2.7452 - val_loss: 1.6725 - val_accuracy: 0.3008 - val_distance: 3.4309\n",
      "\n",
      "Epoch 00057: ReduceLROnPlateau reducing learning rate to 7.812499825377017e-05.\n",
      "Epoch 58/256\n",
      "69/69 [==============================] - 1s 16ms/step - loss: 2.8312 - accuracy: 0.3894 - distance: 2.7407 - val_loss: 1.6706 - val_accuracy: 0.3008 - val_distance: 3.4309\n",
      "Epoch 59/256\n",
      "69/69 [==============================] - 1s 14ms/step - loss: 2.8382 - accuracy: 0.3822 - distance: 2.7207 - val_loss: 1.6705 - val_accuracy: 0.3008 - val_distance: 3.3902\n",
      "Epoch 60/256\n",
      "69/69 [==============================] - 1s 16ms/step - loss: 2.8275 - accuracy: 0.3931 - distance: 2.5987 - val_loss: 1.6707 - val_accuracy: 0.3008 - val_distance: 3.4309\n",
      "Epoch 61/256\n",
      "69/69 [==============================] - 1s 13ms/step - loss: 2.8405 - accuracy: 0.3858 - distance: 2.6215 - val_loss: 1.6712 - val_accuracy: 0.3008 - val_distance: 3.4309\n",
      "Epoch 62/256\n",
      "69/69 [==============================] - 1s 17ms/step - loss: 2.8316 - accuracy: 0.3995 - distance: 2.6888 - val_loss: 1.6714 - val_accuracy: 0.3008 - val_distance: 3.4309\n",
      "Epoch 63/256\n",
      "69/69 [==============================] - 1s 13ms/step - loss: 2.8111 - accuracy: 0.3985 - distance: 2.6633 - val_loss: 1.6720 - val_accuracy: 0.2927 - val_distance: 3.4634\n",
      "Epoch 64/256\n",
      "69/69 [==============================] - 1s 16ms/step - loss: 2.8535 - accuracy: 0.3922 - distance: 2.6979 - val_loss: 1.6716 - val_accuracy: 0.3008 - val_distance: 3.4309\n",
      "Epoch 65/256\n",
      "69/69 [==============================] - 1s 13ms/step - loss: 2.8263 - accuracy: 0.3785 - distance: 2.6406 - val_loss: 1.6709 - val_accuracy: 0.2927 - val_distance: 3.4634\n",
      "\n",
      "Epoch 00065: ReduceLROnPlateau reducing learning rate to 3.9062499126885086e-05.\n"
     ]
    }
   ],
   "source": [
    "# Model Structure\n",
    "dependencies = {\n",
    "     'distance': distance\n",
    "}\n",
    "model2 = load_model(\"{}{}\".format(path, \"model1.h5\"), custom_objects=dependencies)\n",
    "model2.pop()\n",
    "\n",
    "for layer in model2.layers:\n",
    "    layer.trainable = False\n",
    "\n",
    "model2.add(Dense(64, activation='relu', name='dense_1_model_2'))\n",
    "model2.add(Dense(7, activation='softmax', name='output_layer_model_2'))\n",
    "\n",
    "# Summary\n",
    "model2.summary()\n",
    "\n",
    "# Callbacks & Optimizer\n",
    "model2.compile(\n",
    "    loss='categorical_crossentropy', #kullback_leibler_divergence\n",
    "    optimizer=optimizers.SGD(lr=LEARNING_RATE, momentum=0.9, nesterov=True),\n",
    "    metrics=['accuracy', distance]\n",
    ")\n",
    "Callbacks=[EarlyStopping(patience=PATIENCE, monitor='val_accuracy', restore_best_weights=False),\n",
    "           ReduceLROnPlateau(monitor='val_accuracy', factor=0.5, patience=LR_PATIENCE, verbose=True)]\n",
    "\n",
    "# Training\n",
    "history = model2.fit(TRAINING_GENERATOR.getGenerator(),\n",
    "                     validation_data=VALIDATION_GENERATOR.getGenerator(),\n",
    "                     epochs=EPOCHS, steps_per_epoch=STEPS_PER_EPOCH,\n",
    "                     validation_steps=VALIDATION_STEPS,\n",
    "                     callbacks=Callbacks,\n",
    "                     verbose=True,\n",
    "                     class_weight=WEIGHTS)\n",
    "\n",
    "# Saving the Model\n",
    "model2.save(\"{}{}\".format(path, \"model2.h5\"))"
   ]
  },
  {
   "cell_type": "code",
   "execution_count": 102,
   "metadata": {
    "scrolled": false
   },
   "outputs": [
    {
     "data": {
      "image/png": "[encoded data removed]",
      "text/plain": [
       "<Figure size 432x288 with 1 Axes>"
      ]
     },
     "metadata": {
      "needs_background": "light"
     },
     "output_type": "display_data"
    },
    {
     "data": {
      "image/png": "[encoded data removed]",
      "text/plain": [
       "<Figure size 432x288 with 1 Axes>"
      ]
     },
     "metadata": {
      "needs_background": "light"
     },
     "output_type": "display_data"
    },
    {
     "data": {
      "image/png": "[encoded data removed]",
      "text/plain": [
       "<Figure size 432x288 with 1 Axes>"
      ]
     },
     "metadata": {
      "needs_background": "light"
     },
     "output_type": "display_data"
    },
    {
     "name": "stdout",
     "output_type": "stream",
     "text": [
      "26/26 [==============================] - 0s 6ms/step\n",
      "[1.5903987884521484, 0.3014705777168274, 3.1127450466156006]\n",
      "[[25 13  4  8  2  0  1]\n",
      " [29 22 12 19  6  1  0]\n",
      " [ 8  5  9  4  1  2  0]\n",
      " [18 18 11 22 26  7 11]\n",
      " [ 4  7  2  8 19  7  6]\n",
      " [ 3  0  2  1  3  4 12]\n",
      " [ 0  2  4  1  9  8 22]]\n"
     ]
    },
    {
     "data": {
      "text/plain": [
       "(array([-3, -2, -1,  0,  1,  2,  3]), array([87, 67, 44, 63, 66, 29, 52]))"
      ]
     },
     "execution_count": 102,
     "metadata": {},
     "output_type": "execute_result"
    }
   ],
   "source": [
    "# Plotting hist acc\n",
    "plt.plot(history.history['accuracy'])\n",
    "plt.plot(history.history['val_accuracy'])\n",
    "plt.title('model accuracy')\n",
    "plt.ylabel('accuracy')\n",
    "plt.xlabel('epoch')\n",
    "plt.legend(['train','val'], loc='upper left')\n",
    "plt.show()\n",
    "\n",
    "# Plotting hist loss\n",
    "plt.plot(history.history['loss'])\n",
    "plt.plot(history.history['val_loss'])\n",
    "plt.title('model loss')\n",
    "plt.ylabel('loss')\n",
    "plt.xlabel('epoch')\n",
    "plt.legend(['train','val'], loc='upper left')\n",
    "plt.show()\n",
    "\n",
    "# Plotting distance loss\n",
    "plt.plot(history.history['distance'])\n",
    "plt.plot(history.history['val_distance'])\n",
    "plt.title('model distance')\n",
    "plt.ylabel('distance')\n",
    "plt.xlabel('epoch')\n",
    "plt.legend(['train','val'], loc='upper left')\n",
    "plt.show()\n",
    "\n",
    "# Testing the model\n",
    "TEST_GENERATOR = DataGenerator(test_df, word2vec, MAX_SEQUENCE_LENGTH, 7, BATCH_SIZE)\n",
    "print(model2.evaluate(TEST_GENERATOR.getGenerator(), verbose=True, steps=TEST_GENERATOR.step))\n",
    "y_pred = np.argmax(model2.predict(TEST_GENERATOR.getInputGenerator(), steps=TEST_GENERATOR.step), axis=1) - 3\n",
    "y_true = np.array(test_df['class'])\n",
    "print(confusion_matrix(y_true, y_pred))\n",
    "np.unique(y_pred, return_counts=True)"
   ]
  },
  {
   "cell_type": "markdown",
   "metadata": {
    "colab_type": "text",
    "id": "3TTRUrK1itDs"
   },
   "source": [
    "# Best was [7.7098, 0.3112, 2.8504]"
   ]
  },
  {
   "cell_type": "markdown",
   "metadata": {
    "colab_type": "text",
    "id": "sEDYqavaxMR2"
   },
   "source": [
    "# Prediction"
   ]
  },
  {
   "cell_type": "code",
   "execution_count": 60,
   "metadata": {
    "colab": {
     "base_uri": "https://localhost:8080/",
     "height": 452
    },
    "colab_type": "code",
    "id": "nayUZY4nxCrX",
    "outputId": "886213cc-6831-4da3-da7b-0b8c98a36458"
   },
   "outputs": [
    {
     "data": {
      "text/html": [
       "<div>\n",
       "<style scoped>\n",
       "    .dataframe tbody tr th:only-of-type {\n",
       "        vertical-align: middle;\n",
       "    }\n",
       "\n",
       "    .dataframe tbody tr th {\n",
       "        vertical-align: top;\n",
       "    }\n",
       "\n",
       "    .dataframe thead th {\n",
       "        text-align: right;\n",
       "    }\n",
       "</style>\n",
       "<table border=\"1\" class=\"dataframe\">\n",
       "  <thead>\n",
       "    <tr style=\"text-align: right;\">\n",
       "      <th></th>\n",
       "      <th>ID</th>\n",
       "      <th>text</th>\n",
       "      <th>Affect Dimension</th>\n",
       "      <th>class</th>\n",
       "    </tr>\n",
       "  </thead>\n",
       "  <tbody>\n",
       "    <tr>\n",
       "      <th>0</th>\n",
       "      <td>2018-En-02354</td>\n",
       "      <td>So @Ryanair site crashes everytime I try to bo...</td>\n",
       "      <td>valence</td>\n",
       "      <td>-3</td>\n",
       "    </tr>\n",
       "    <tr>\n",
       "      <th>1</th>\n",
       "      <td>2018-En-00124</td>\n",
       "      <td>Theme of week: Ask the Lord for strength &amp;amp;...</td>\n",
       "      <td>valence</td>\n",
       "      <td>-2</td>\n",
       "    </tr>\n",
       "    <tr>\n",
       "      <th>2</th>\n",
       "      <td>2018-En-02603</td>\n",
       "      <td>@F1 Why announcing so late, it will be hard to...</td>\n",
       "      <td>valence</td>\n",
       "      <td>-3</td>\n",
       "    </tr>\n",
       "    <tr>\n",
       "      <th>3</th>\n",
       "      <td>2018-En-00450</td>\n",
       "      <td>The greatest happiness is seeing someone you l...</td>\n",
       "      <td>valence</td>\n",
       "      <td>3</td>\n",
       "    </tr>\n",
       "    <tr>\n",
       "      <th>4</th>\n",
       "      <td>2018-En-00502</td>\n",
       "      <td>omg so grateful to have an education but ive b...</td>\n",
       "      <td>valence</td>\n",
       "      <td>1</td>\n",
       "    </tr>\n",
       "  </tbody>\n",
       "</table>\n",
       "</div>"
      ],
      "text/plain": [
       "              ID                                               text  \\\n",
       "0  2018-En-02354  So @Ryanair site crashes everytime I try to bo...   \n",
       "1  2018-En-00124  Theme of week: Ask the Lord for strength &amp;...   \n",
       "2  2018-En-02603  @F1 Why announcing so late, it will be hard to...   \n",
       "3  2018-En-00450  The greatest happiness is seeing someone you l...   \n",
       "4  2018-En-00502  omg so grateful to have an education but ive b...   \n",
       "\n",
       "  Affect Dimension  class  \n",
       "0          valence     -3  \n",
       "1          valence     -2  \n",
       "2          valence     -3  \n",
       "3          valence      3  \n",
       "4          valence      1  "
      ]
     },
     "metadata": {},
     "output_type": "display_data"
    },
    {
     "name": "stdout",
     "output_type": "stream",
     "text": [
      "(449, 4)\n"
     ]
    },
    {
     "data": {
      "text/html": [
       "<div>\n",
       "<style scoped>\n",
       "    .dataframe tbody tr th:only-of-type {\n",
       "        vertical-align: middle;\n",
       "    }\n",
       "\n",
       "    .dataframe tbody tr th {\n",
       "        vertical-align: top;\n",
       "    }\n",
       "\n",
       "    .dataframe thead th {\n",
       "        text-align: right;\n",
       "    }\n",
       "</style>\n",
       "<table border=\"1\" class=\"dataframe\">\n",
       "  <thead>\n",
       "    <tr style=\"text-align: right;\">\n",
       "      <th></th>\n",
       "      <th>ID</th>\n",
       "      <th>text</th>\n",
       "      <th>Affect Dimension</th>\n",
       "      <th>class</th>\n",
       "    </tr>\n",
       "  </thead>\n",
       "  <tbody>\n",
       "    <tr>\n",
       "      <th>0</th>\n",
       "      <td>2018-En-02354</td>\n",
       "      <td>[0, 0, 0, 0, 0, 0, 0, 0, 0, 0, 0, 0, 0, 1789, ...</td>\n",
       "      <td>valence</td>\n",
       "      <td>-3</td>\n",
       "    </tr>\n",
       "    <tr>\n",
       "      <th>1</th>\n",
       "      <td>2018-En-00124</td>\n",
       "      <td>[0, 0, 0, 0, 0, 0, 0, 0, 0, 0, 0, 0, 0, 0, 111...</td>\n",
       "      <td>valence</td>\n",
       "      <td>-2</td>\n",
       "    </tr>\n",
       "    <tr>\n",
       "      <th>2</th>\n",
       "      <td>2018-En-02603</td>\n",
       "      <td>[0, 0, 0, 0, 0, 0, 0, 0, 0, 0, 0, 0, 0, 0, 0, ...</td>\n",
       "      <td>valence</td>\n",
       "      <td>-3</td>\n",
       "    </tr>\n",
       "    <tr>\n",
       "      <th>3</th>\n",
       "      <td>2018-En-00450</td>\n",
       "      <td>[0, 0, 0, 0, 0, 0, 0, 0, 0, 0, 0, 0, 0, 722, 2...</td>\n",
       "      <td>valence</td>\n",
       "      <td>3</td>\n",
       "    </tr>\n",
       "    <tr>\n",
       "      <th>4</th>\n",
       "      <td>2018-En-00502</td>\n",
       "      <td>[0, 0, 0, 0, 0, 0, 0, 0, 0, 640, 921, 2401, 23...</td>\n",
       "      <td>valence</td>\n",
       "      <td>1</td>\n",
       "    </tr>\n",
       "  </tbody>\n",
       "</table>\n",
       "</div>"
      ],
      "text/plain": [
       "              ID                                               text  \\\n",
       "0  2018-En-02354  [0, 0, 0, 0, 0, 0, 0, 0, 0, 0, 0, 0, 0, 1789, ...   \n",
       "1  2018-En-00124  [0, 0, 0, 0, 0, 0, 0, 0, 0, 0, 0, 0, 0, 0, 111...   \n",
       "2  2018-En-02603  [0, 0, 0, 0, 0, 0, 0, 0, 0, 0, 0, 0, 0, 0, 0, ...   \n",
       "3  2018-En-00450  [0, 0, 0, 0, 0, 0, 0, 0, 0, 0, 0, 0, 0, 722, 2...   \n",
       "4  2018-En-00502  [0, 0, 0, 0, 0, 0, 0, 0, 0, 640, 921, 2401, 23...   \n",
       "\n",
       "  Affect Dimension  class  \n",
       "0          valence     -3  \n",
       "1          valence     -2  \n",
       "2          valence     -3  \n",
       "3          valence      3  \n",
       "4          valence      1  "
      ]
     },
     "metadata": {},
     "output_type": "display_data"
    },
    {
     "name": "stdout",
     "output_type": "stream",
     "text": [
      "(449, 4)\n"
     ]
    },
    {
     "data": {
      "text/html": [
       "<div>\n",
       "<style scoped>\n",
       "    .dataframe tbody tr th:only-of-type {\n",
       "        vertical-align: middle;\n",
       "    }\n",
       "\n",
       "    .dataframe tbody tr th {\n",
       "        vertical-align: top;\n",
       "    }\n",
       "\n",
       "    .dataframe thead th {\n",
       "        text-align: right;\n",
       "    }\n",
       "</style>\n",
       "<table border=\"1\" class=\"dataframe\">\n",
       "  <thead>\n",
       "    <tr style=\"text-align: right;\">\n",
       "      <th></th>\n",
       "      <th>ID</th>\n",
       "      <th>text</th>\n",
       "      <th>Affect Dimension</th>\n",
       "      <th>class</th>\n",
       "    </tr>\n",
       "  </thead>\n",
       "  <tbody>\n",
       "    <tr>\n",
       "      <th>0</th>\n",
       "      <td>2018-En-02354</td>\n",
       "      <td>Lost During Prediction</td>\n",
       "      <td>valence</td>\n",
       "      <td>-3</td>\n",
       "    </tr>\n",
       "    <tr>\n",
       "      <th>1</th>\n",
       "      <td>2018-En-00124</td>\n",
       "      <td>Lost During Prediction</td>\n",
       "      <td>valence</td>\n",
       "      <td>2</td>\n",
       "    </tr>\n",
       "    <tr>\n",
       "      <th>2</th>\n",
       "      <td>2018-En-02603</td>\n",
       "      <td>Lost During Prediction</td>\n",
       "      <td>valence</td>\n",
       "      <td>-3</td>\n",
       "    </tr>\n",
       "    <tr>\n",
       "      <th>3</th>\n",
       "      <td>2018-En-00450</td>\n",
       "      <td>Lost During Prediction</td>\n",
       "      <td>valence</td>\n",
       "      <td>3</td>\n",
       "    </tr>\n",
       "    <tr>\n",
       "      <th>4</th>\n",
       "      <td>2018-En-00502</td>\n",
       "      <td>Lost During Prediction</td>\n",
       "      <td>valence</td>\n",
       "      <td>2</td>\n",
       "    </tr>\n",
       "  </tbody>\n",
       "</table>\n",
       "</div>"
      ],
      "text/plain": [
       "              ID                    text Affect Dimension  class\n",
       "0  2018-En-02354  Lost During Prediction          valence     -3\n",
       "1  2018-En-00124  Lost During Prediction          valence      2\n",
       "2  2018-En-02603  Lost During Prediction          valence     -3\n",
       "3  2018-En-00450  Lost During Prediction          valence      3\n",
       "4  2018-En-00502  Lost During Prediction          valence      2"
      ]
     },
     "metadata": {},
     "output_type": "display_data"
    },
    {
     "ename": "NameError",
     "evalue": "name 'adlfs_client' is not defined",
     "output_type": "error",
     "traceback": [
      "\u001b[0;31m---------------------------------------------------------------------------\u001b[0m",
      "\u001b[0;31mNameError\u001b[0m                                 Traceback (most recent call last)",
      "\u001b[0;32m<ipython-input-60-9e6bd1073423>\u001b[0m in \u001b[0;36m<module>\u001b[0;34m\u001b[0m\n\u001b[1;32m     31\u001b[0m \u001b[0;31m# Display Results\u001b[0m\u001b[0;34m\u001b[0m\u001b[0;34m\u001b[0m\u001b[0;34m\u001b[0m\u001b[0m\n\u001b[1;32m     32\u001b[0m \u001b[0mdisplay\u001b[0m\u001b[0;34m(\u001b[0m\u001b[0mpredict_7_data\u001b[0m\u001b[0;34m.\u001b[0m\u001b[0mhead\u001b[0m\u001b[0;34m(\u001b[0m\u001b[0;34m)\u001b[0m\u001b[0;34m)\u001b[0m\u001b[0;34m\u001b[0m\u001b[0;34m\u001b[0m\u001b[0m\n\u001b[0;32m---> 33\u001b[0;31m \u001b[0;32mwith\u001b[0m \u001b[0madlfs_client\u001b[0m\u001b[0;34m.\u001b[0m\u001b[0mopen\u001b[0m\u001b[0;34m(\u001b[0m\u001b[0mpath_test\u001b[0m \u001b[0;34m+\u001b[0m \u001b[0;34m'result.csv'\u001b[0m\u001b[0;34m,\u001b[0m \u001b[0;34m\"wb\"\u001b[0m\u001b[0;34m)\u001b[0m \u001b[0;32mas\u001b[0m \u001b[0mf\u001b[0m\u001b[0;34m:\u001b[0m\u001b[0;34m\u001b[0m\u001b[0;34m\u001b[0m\u001b[0m\n\u001b[0m\u001b[1;32m     34\u001b[0m     \u001b[0mpredict_7_data\u001b[0m\u001b[0;34m.\u001b[0m\u001b[0mto_csv\u001b[0m\u001b[0;34m(\u001b[0m\u001b[0mf\u001b[0m\u001b[0;34m,\u001b[0m \u001b[0msep\u001b[0m\u001b[0;34m=\u001b[0m\u001b[0;34m'\\t'\u001b[0m\u001b[0;34m,\u001b[0m \u001b[0mindex\u001b[0m\u001b[0;34m=\u001b[0m\u001b[0;32mFalse\u001b[0m\u001b[0;34m)\u001b[0m\u001b[0;34m\u001b[0m\u001b[0;34m\u001b[0m\u001b[0m\n",
      "\u001b[0;31mNameError\u001b[0m: name 'adlfs_client' is not defined"
     ]
    }
   ],
   "source": [
    "# Loading Data Set 7 Classes\n",
    "predict_7_data = pd.read_csv(path + 'data_test_7_1.csv', encoding='utf-8', sep='\\t')\n",
    "\n",
    "# Rename Ugly Col Names\n",
    "predict_7_data = predict_7_data.rename(columns={\"Tweet\": \"text\", \"Intensity Class\": \"class\"})\n",
    "predict_7_data['class'] = predict_7_data['class'].apply(lambda x: int(x.split(':')[0]))\n",
    "\n",
    "# Display\n",
    "display(predict_7_data.head())\n",
    "print(predict_7_data.shape)\n",
    "\n",
    "# Preprocessing\n",
    "predict_7_data['text'] = predict_7_data['text'].apply(standardization)\n",
    "predict_7_data['text'] = tokenizer.texts_to_sequences(predict_7_data['text'])\n",
    "predict_7_data['text'] = predict_7_data['text'].apply(lambda x: pad_sequences([x], maxlen=MAX_SEQUENCE_LENGTH)[0])\n",
    "\n",
    "# Display\n",
    "display(predict_7_data.head())\n",
    "print(predict_7_data.shape)\n",
    "\n",
    "# Loading\n",
    "dependencies = {'distance': distance}\n",
    "model2 = load_model(\"{}{}\".format(path, \"best_model2.h5\"), custom_objects=dependencies)\n",
    "\n",
    "# Predicting\n",
    "PREDICT_GENERATOR = DataGenerator(predict_7_data, word2vec, MAX_SEQUENCE_LENGTH, 7, BATCH_SIZE)\n",
    "y_pred = np.argmax(model2.predict(PREDICT_GENERATOR.getInputGenerator(), steps=PREDICT_GENERATOR.step), axis=1) - 3\n",
    "predict_7_data['class'] = y_pred\n",
    "predict_7_data['text'] = predict_7_data['text'].apply(lambda _: 'Lost During Prediction')\n",
    "\n",
    "# Display Results\n",
    "display(predict_7_data.head())\n",
    "with adlfs_client.open(path_test + 'result.csv', \"wb\") as f:\n",
    "    predict_7_data.to_csv(f, sep='\\t', index=False)"
   ]
  },
  {
   "cell_type": "code",
   "execution_count": null,
   "metadata": {},
   "outputs": [],
   "source": []
  }
 ],
 "metadata": {
  "colab": {
   "collapsed_sections": [],
   "name": "tp_tweet.ipynb",
   "provenance": []
  },
  "kernelspec": {
   "display_name": "Python 3",
   "language": "python",
   "name": "python3"
  },
  "language_info": {
   "codemirror_mode": {
    "name": "ipython",
    "version": 3
   },
   "file_extension": ".py",
   "mimetype": "text/x-python",
   "name": "python",
   "nbconvert_exporter": "python",
   "pygments_lexer": "ipython3",
   "version": "3.7.3"
  }
 },
 "nbformat": 4,
 "nbformat_minor": 1
}
